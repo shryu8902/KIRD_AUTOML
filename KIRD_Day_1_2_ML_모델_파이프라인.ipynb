{
  "nbformat": 4,
  "nbformat_minor": 0,
  "metadata": {
    "colab": {
      "provenance": [],
      "toc_visible": true,
      "authorship_tag": "ABX9TyNQZtBPGQWEL/ENgG6JYvqi",
      "include_colab_link": true
    },
    "kernelspec": {
      "name": "python3",
      "display_name": "Python 3"
    },
    "language_info": {
      "name": "python"
    }
  },
  "cells": [
    {
      "cell_type": "markdown",
      "metadata": {
        "id": "view-in-github",
        "colab_type": "text"
      },
      "source": [
        "<a href=\"https://colab.research.google.com/github/shryu8902/KIRD_AUTOML/blob/main/KIRD_Day_1_2_ML_%EB%AA%A8%EB%8D%B8_%ED%8C%8C%EC%9D%B4%ED%94%84%EB%9D%BC%EC%9D%B8.ipynb\" target=\"_parent\"><img src=\"https://colab.research.google.com/assets/colab-badge.svg\" alt=\"Open In Colab\"/></a>"
      ]
    },
    {
      "cell_type": "markdown",
      "source": [
        "# 1. 머신러닝 모델 기본 파이프라인\n",
        "데이터 준비 - 전처리 - 모델준비 - 학습 - 평가 순서로 구성된 가장 기본적인 머신러닝 모델 학습 파이프라인에 대한 실습을 진행해보도록 하겠습니다.\n",
        "\n",
        "이번 실습에서는 타이타닉 생존자 데이터셋으로, 생존 여부를 예측하는 랜덤포레스트 모델을 학습할 것입니다.\n"
      ],
      "metadata": {
        "id": "rxXtjNIWrrhm"
      }
    },
    {
      "cell_type": "markdown",
      "source": [
        "## 0. 문제 정의\n",
        "머신러닝 모델 개발에 앞서 문제에 대한 정의가 선행되어야 합니다.\n",
        "본 예제에서 문제는 생존 여부에 대해 예측하는 문제이므로, 분류 문제에 해당합니다.\n",
        "또한 다루고자 하는 타이타닉 데이터셋은 타이타닉호 탑승자의 성별, 나이, 운임 정보 등을 포함하고 있습니다."
      ],
      "metadata": {
        "id": "eG0SuzOcxZs5"
      }
    },
    {
      "cell_type": "markdown",
      "source": [
        "## 1. 데이터 준비\n",
        "데이터 다운로드 및 필요 라이브러리 준비"
      ],
      "metadata": {
        "id": "t2KItaSIrwNT"
      }
    },
    {
      "cell_type": "code",
      "source": [
        "# 기초 라이브러리 준비\n",
        "import pandas as pd\n",
        "from sklearn.model_selection import train_test_split\n",
        "from sklearn.ensemble import RandomForestClassifier\n",
        "from sklearn.preprocessing import LabelEncoder\n",
        "from sklearn.metrics import accuracy_score"
      ],
      "metadata": {
        "id": "jEQcoU12uBit"
      },
      "execution_count": null,
      "outputs": []
    },
    {
      "cell_type": "code",
      "source": [
        "# 예제 데이터인 타이타닉 데이터셋을 다운로드 하고 pandas dataframe으로 불러오겠습니다.\n",
        "\n",
        "!wget https://raw.githubusercontent.com/shryu8902/KIRD_AUTOML/main/Titanic-Dataset.csv\n",
        "\n",
        "titanic_data = pd.read_csv('./Titanic-Dataset.csv')"
      ],
      "metadata": {
        "colab": {
          "base_uri": "https://localhost:8080/"
        },
        "id": "BEyBz_u4uY8C",
        "outputId": "050f3b7c-9b72-4ae2-fd2e-a1bc4706bbc7"
      },
      "execution_count": null,
      "outputs": [
        {
          "output_type": "stream",
          "name": "stdout",
          "text": [
            "--2023-07-01 22:18:47--  https://raw.githubusercontent.com/shryu8902/KIRD_AUTOML/main/Titanic-Dataset.csv\n",
            "Resolving raw.githubusercontent.com (raw.githubusercontent.com)... 185.199.108.133, 185.199.110.133, 185.199.111.133, ...\n",
            "Connecting to raw.githubusercontent.com (raw.githubusercontent.com)|185.199.108.133|:443... connected.\n",
            "HTTP request sent, awaiting response... 200 OK\n",
            "Length: 61194 (60K) [text/plain]\n",
            "Saving to: ‘Titanic-Dataset.csv’\n",
            "\n",
            "\rTitanic-Dataset.csv   0%[                    ]       0  --.-KB/s               \rTitanic-Dataset.csv 100%[===================>]  59.76K  --.-KB/s    in 0.005s  \n",
            "\n",
            "2023-07-01 22:18:47 (11.2 MB/s) - ‘Titanic-Dataset.csv’ saved [61194/61194]\n",
            "\n"
          ]
        }
      ]
    },
    {
      "cell_type": "markdown",
      "source": [
        "### 데이터 살펴보기\n",
        "데이터 전처리에 들어가기 전, 데이터가 어떤식으로 구성되어있는지 간단한 시각화 등을 통해서 살펴보도록하겠습니다.\n",
        "\n",
        "데이터셋은 다음의 데이터를 포함하고있습니다.\n",
        "- PassengerId: 탑승자 인덱스\n",
        "\n",
        "- Survived: 탑승자가 생존했는지 여부를 나타냅니다. 0은 생존하지 못했음을, 1은 생존했음을 의미합니다.\n",
        "\n",
        "- Pclass: 티켓의 클래스로, 1은 1등실(상류층), 2는 2등실(중류층), 3은 3등실(하류층)을 의미.\n",
        "\n",
        "- Name: 탑승자 성명.\n",
        "\n",
        "- Sex: 탑승자의 성별.\n",
        "\n",
        "- Age: 탑승자의 나이. 일부 미성년자의 경우 \"xx.5\"의 형태로 소수점이 있을 수 있습니다.\n",
        "\n",
        "- SibSp: 함께 탑승한 형제자매나 배우자의 수.\n",
        "\n",
        "- Parch: 함께 탑승한 부모님 혹은 자녀의 수.\n",
        "\n",
        "- Ticket: 티켓 번호.\n",
        "\n",
        "- Fare: 탑승자가 지불한 운임.\n",
        "\n",
        "- Cabin: 탑승자의 객실 번호.\n",
        "\n",
        "- Embarked: 탑승자가 승선한 항구. C는 Cherbourg, Q는 Queenstown, S는 Southampton을 의미."
      ],
      "metadata": {
        "id": "dQENyJskxFp_"
      }
    },
    {
      "cell_type": "code",
      "source": [
        "titanic_data.info()"
      ],
      "metadata": {
        "colab": {
          "base_uri": "https://localhost:8080/"
        },
        "id": "GlMdNi2QxyI1",
        "outputId": "0f6174c9-655e-415c-f955-29de8b2c9747"
      },
      "execution_count": null,
      "outputs": [
        {
          "output_type": "stream",
          "name": "stdout",
          "text": [
            "<class 'pandas.core.frame.DataFrame'>\n",
            "RangeIndex: 891 entries, 0 to 890\n",
            "Data columns (total 12 columns):\n",
            " #   Column       Non-Null Count  Dtype  \n",
            "---  ------       --------------  -----  \n",
            " 0   PassengerId  891 non-null    int64  \n",
            " 1   Survived     891 non-null    int64  \n",
            " 2   Pclass       891 non-null    int64  \n",
            " 3   Name         891 non-null    object \n",
            " 4   Sex          891 non-null    object \n",
            " 5   Age          714 non-null    float64\n",
            " 6   SibSp        891 non-null    int64  \n",
            " 7   Parch        891 non-null    int64  \n",
            " 8   Ticket       891 non-null    object \n",
            " 9   Fare         891 non-null    float64\n",
            " 10  Cabin        204 non-null    object \n",
            " 11  Embarked     889 non-null    object \n",
            "dtypes: float64(2), int64(5), object(5)\n",
            "memory usage: 83.7+ KB\n"
          ]
        }
      ]
    },
    {
      "cell_type": "code",
      "source": [
        "titanic_data.describe()"
      ],
      "metadata": {
        "colab": {
          "base_uri": "https://localhost:8080/",
          "height": 300
        },
        "id": "3mMDFOo9zmIj",
        "outputId": "94e8a6d4-c866-4eb3-a08c-4651f4f85fd1"
      },
      "execution_count": null,
      "outputs": [
        {
          "output_type": "execute_result",
          "data": {
            "text/plain": [
              "       PassengerId    Survived      Pclass         Age       SibSp  \\\n",
              "count   891.000000  891.000000  891.000000  714.000000  891.000000   \n",
              "mean    446.000000    0.383838    2.308642   29.699118    0.523008   \n",
              "std     257.353842    0.486592    0.836071   14.526497    1.102743   \n",
              "min       1.000000    0.000000    1.000000    0.420000    0.000000   \n",
              "25%     223.500000    0.000000    2.000000   20.125000    0.000000   \n",
              "50%     446.000000    0.000000    3.000000   28.000000    0.000000   \n",
              "75%     668.500000    1.000000    3.000000   38.000000    1.000000   \n",
              "max     891.000000    1.000000    3.000000   80.000000    8.000000   \n",
              "\n",
              "            Parch        Fare  \n",
              "count  891.000000  891.000000  \n",
              "mean     0.381594   32.204208  \n",
              "std      0.806057   49.693429  \n",
              "min      0.000000    0.000000  \n",
              "25%      0.000000    7.910400  \n",
              "50%      0.000000   14.454200  \n",
              "75%      0.000000   31.000000  \n",
              "max      6.000000  512.329200  "
            ],
            "text/html": [
              "\n",
              "  <div id=\"df-7d558e95-27ab-4abf-8df1-82ff72636dfb\">\n",
              "    <div class=\"colab-df-container\">\n",
              "      <div>\n",
              "<style scoped>\n",
              "    .dataframe tbody tr th:only-of-type {\n",
              "        vertical-align: middle;\n",
              "    }\n",
              "\n",
              "    .dataframe tbody tr th {\n",
              "        vertical-align: top;\n",
              "    }\n",
              "\n",
              "    .dataframe thead th {\n",
              "        text-align: right;\n",
              "    }\n",
              "</style>\n",
              "<table border=\"1\" class=\"dataframe\">\n",
              "  <thead>\n",
              "    <tr style=\"text-align: right;\">\n",
              "      <th></th>\n",
              "      <th>PassengerId</th>\n",
              "      <th>Survived</th>\n",
              "      <th>Pclass</th>\n",
              "      <th>Age</th>\n",
              "      <th>SibSp</th>\n",
              "      <th>Parch</th>\n",
              "      <th>Fare</th>\n",
              "    </tr>\n",
              "  </thead>\n",
              "  <tbody>\n",
              "    <tr>\n",
              "      <th>count</th>\n",
              "      <td>891.000000</td>\n",
              "      <td>891.000000</td>\n",
              "      <td>891.000000</td>\n",
              "      <td>714.000000</td>\n",
              "      <td>891.000000</td>\n",
              "      <td>891.000000</td>\n",
              "      <td>891.000000</td>\n",
              "    </tr>\n",
              "    <tr>\n",
              "      <th>mean</th>\n",
              "      <td>446.000000</td>\n",
              "      <td>0.383838</td>\n",
              "      <td>2.308642</td>\n",
              "      <td>29.699118</td>\n",
              "      <td>0.523008</td>\n",
              "      <td>0.381594</td>\n",
              "      <td>32.204208</td>\n",
              "    </tr>\n",
              "    <tr>\n",
              "      <th>std</th>\n",
              "      <td>257.353842</td>\n",
              "      <td>0.486592</td>\n",
              "      <td>0.836071</td>\n",
              "      <td>14.526497</td>\n",
              "      <td>1.102743</td>\n",
              "      <td>0.806057</td>\n",
              "      <td>49.693429</td>\n",
              "    </tr>\n",
              "    <tr>\n",
              "      <th>min</th>\n",
              "      <td>1.000000</td>\n",
              "      <td>0.000000</td>\n",
              "      <td>1.000000</td>\n",
              "      <td>0.420000</td>\n",
              "      <td>0.000000</td>\n",
              "      <td>0.000000</td>\n",
              "      <td>0.000000</td>\n",
              "    </tr>\n",
              "    <tr>\n",
              "      <th>25%</th>\n",
              "      <td>223.500000</td>\n",
              "      <td>0.000000</td>\n",
              "      <td>2.000000</td>\n",
              "      <td>20.125000</td>\n",
              "      <td>0.000000</td>\n",
              "      <td>0.000000</td>\n",
              "      <td>7.910400</td>\n",
              "    </tr>\n",
              "    <tr>\n",
              "      <th>50%</th>\n",
              "      <td>446.000000</td>\n",
              "      <td>0.000000</td>\n",
              "      <td>3.000000</td>\n",
              "      <td>28.000000</td>\n",
              "      <td>0.000000</td>\n",
              "      <td>0.000000</td>\n",
              "      <td>14.454200</td>\n",
              "    </tr>\n",
              "    <tr>\n",
              "      <th>75%</th>\n",
              "      <td>668.500000</td>\n",
              "      <td>1.000000</td>\n",
              "      <td>3.000000</td>\n",
              "      <td>38.000000</td>\n",
              "      <td>1.000000</td>\n",
              "      <td>0.000000</td>\n",
              "      <td>31.000000</td>\n",
              "    </tr>\n",
              "    <tr>\n",
              "      <th>max</th>\n",
              "      <td>891.000000</td>\n",
              "      <td>1.000000</td>\n",
              "      <td>3.000000</td>\n",
              "      <td>80.000000</td>\n",
              "      <td>8.000000</td>\n",
              "      <td>6.000000</td>\n",
              "      <td>512.329200</td>\n",
              "    </tr>\n",
              "  </tbody>\n",
              "</table>\n",
              "</div>\n",
              "      <button class=\"colab-df-convert\" onclick=\"convertToInteractive('df-7d558e95-27ab-4abf-8df1-82ff72636dfb')\"\n",
              "              title=\"Convert this dataframe to an interactive table.\"\n",
              "              style=\"display:none;\">\n",
              "        \n",
              "  <svg xmlns=\"http://www.w3.org/2000/svg\" height=\"24px\"viewBox=\"0 0 24 24\"\n",
              "       width=\"24px\">\n",
              "    <path d=\"M0 0h24v24H0V0z\" fill=\"none\"/>\n",
              "    <path d=\"M18.56 5.44l.94 2.06.94-2.06 2.06-.94-2.06-.94-.94-2.06-.94 2.06-2.06.94zm-11 1L8.5 8.5l.94-2.06 2.06-.94-2.06-.94L8.5 2.5l-.94 2.06-2.06.94zm10 10l.94 2.06.94-2.06 2.06-.94-2.06-.94-.94-2.06-.94 2.06-2.06.94z\"/><path d=\"M17.41 7.96l-1.37-1.37c-.4-.4-.92-.59-1.43-.59-.52 0-1.04.2-1.43.59L10.3 9.45l-7.72 7.72c-.78.78-.78 2.05 0 2.83L4 21.41c.39.39.9.59 1.41.59.51 0 1.02-.2 1.41-.59l7.78-7.78 2.81-2.81c.8-.78.8-2.07 0-2.86zM5.41 20L4 18.59l7.72-7.72 1.47 1.35L5.41 20z\"/>\n",
              "  </svg>\n",
              "      </button>\n",
              "      \n",
              "  <style>\n",
              "    .colab-df-container {\n",
              "      display:flex;\n",
              "      flex-wrap:wrap;\n",
              "      gap: 12px;\n",
              "    }\n",
              "\n",
              "    .colab-df-convert {\n",
              "      background-color: #E8F0FE;\n",
              "      border: none;\n",
              "      border-radius: 50%;\n",
              "      cursor: pointer;\n",
              "      display: none;\n",
              "      fill: #1967D2;\n",
              "      height: 32px;\n",
              "      padding: 0 0 0 0;\n",
              "      width: 32px;\n",
              "    }\n",
              "\n",
              "    .colab-df-convert:hover {\n",
              "      background-color: #E2EBFA;\n",
              "      box-shadow: 0px 1px 2px rgba(60, 64, 67, 0.3), 0px 1px 3px 1px rgba(60, 64, 67, 0.15);\n",
              "      fill: #174EA6;\n",
              "    }\n",
              "\n",
              "    [theme=dark] .colab-df-convert {\n",
              "      background-color: #3B4455;\n",
              "      fill: #D2E3FC;\n",
              "    }\n",
              "\n",
              "    [theme=dark] .colab-df-convert:hover {\n",
              "      background-color: #434B5C;\n",
              "      box-shadow: 0px 1px 3px 1px rgba(0, 0, 0, 0.15);\n",
              "      filter: drop-shadow(0px 1px 2px rgba(0, 0, 0, 0.3));\n",
              "      fill: #FFFFFF;\n",
              "    }\n",
              "  </style>\n",
              "\n",
              "      <script>\n",
              "        const buttonEl =\n",
              "          document.querySelector('#df-7d558e95-27ab-4abf-8df1-82ff72636dfb button.colab-df-convert');\n",
              "        buttonEl.style.display =\n",
              "          google.colab.kernel.accessAllowed ? 'block' : 'none';\n",
              "\n",
              "        async function convertToInteractive(key) {\n",
              "          const element = document.querySelector('#df-7d558e95-27ab-4abf-8df1-82ff72636dfb');\n",
              "          const dataTable =\n",
              "            await google.colab.kernel.invokeFunction('convertToInteractive',\n",
              "                                                     [key], {});\n",
              "          if (!dataTable) return;\n",
              "\n",
              "          const docLinkHtml = 'Like what you see? Visit the ' +\n",
              "            '<a target=\"_blank\" href=https://colab.research.google.com/notebooks/data_table.ipynb>data table notebook</a>'\n",
              "            + ' to learn more about interactive tables.';\n",
              "          element.innerHTML = '';\n",
              "          dataTable['output_type'] = 'display_data';\n",
              "          await google.colab.output.renderOutput(dataTable, element);\n",
              "          const docLink = document.createElement('div');\n",
              "          docLink.innerHTML = docLinkHtml;\n",
              "          element.appendChild(docLink);\n",
              "        }\n",
              "      </script>\n",
              "    </div>\n",
              "  </div>\n",
              "  "
            ]
          },
          "metadata": {},
          "execution_count": 4
        }
      ]
    },
    {
      "cell_type": "code",
      "source": [
        "titanic_data.head()"
      ],
      "metadata": {
        "colab": {
          "base_uri": "https://localhost:8080/",
          "height": 302
        },
        "id": "_SAiFDdrzsmP",
        "outputId": "24672cb4-406c-4e86-fd4e-c276e3454184"
      },
      "execution_count": null,
      "outputs": [
        {
          "output_type": "execute_result",
          "data": {
            "text/plain": [
              "   PassengerId  Survived  Pclass  \\\n",
              "0            1         0       3   \n",
              "1            2         1       1   \n",
              "2            3         1       3   \n",
              "3            4         1       1   \n",
              "4            5         0       3   \n",
              "\n",
              "                                                Name     Sex   Age  SibSp  \\\n",
              "0                            Braund, Mr. Owen Harris    male  22.0      1   \n",
              "1  Cumings, Mrs. John Bradley (Florence Briggs Th...  female  38.0      1   \n",
              "2                             Heikkinen, Miss. Laina  female  26.0      0   \n",
              "3       Futrelle, Mrs. Jacques Heath (Lily May Peel)  female  35.0      1   \n",
              "4                           Allen, Mr. William Henry    male  35.0      0   \n",
              "\n",
              "   Parch            Ticket     Fare Cabin Embarked  \n",
              "0      0         A/5 21171   7.2500   NaN        S  \n",
              "1      0          PC 17599  71.2833   C85        C  \n",
              "2      0  STON/O2. 3101282   7.9250   NaN        S  \n",
              "3      0            113803  53.1000  C123        S  \n",
              "4      0            373450   8.0500   NaN        S  "
            ],
            "text/html": [
              "\n",
              "  <div id=\"df-ce1f8530-e99b-4f63-9b3d-bf0dd3380e7f\">\n",
              "    <div class=\"colab-df-container\">\n",
              "      <div>\n",
              "<style scoped>\n",
              "    .dataframe tbody tr th:only-of-type {\n",
              "        vertical-align: middle;\n",
              "    }\n",
              "\n",
              "    .dataframe tbody tr th {\n",
              "        vertical-align: top;\n",
              "    }\n",
              "\n",
              "    .dataframe thead th {\n",
              "        text-align: right;\n",
              "    }\n",
              "</style>\n",
              "<table border=\"1\" class=\"dataframe\">\n",
              "  <thead>\n",
              "    <tr style=\"text-align: right;\">\n",
              "      <th></th>\n",
              "      <th>PassengerId</th>\n",
              "      <th>Survived</th>\n",
              "      <th>Pclass</th>\n",
              "      <th>Name</th>\n",
              "      <th>Sex</th>\n",
              "      <th>Age</th>\n",
              "      <th>SibSp</th>\n",
              "      <th>Parch</th>\n",
              "      <th>Ticket</th>\n",
              "      <th>Fare</th>\n",
              "      <th>Cabin</th>\n",
              "      <th>Embarked</th>\n",
              "    </tr>\n",
              "  </thead>\n",
              "  <tbody>\n",
              "    <tr>\n",
              "      <th>0</th>\n",
              "      <td>1</td>\n",
              "      <td>0</td>\n",
              "      <td>3</td>\n",
              "      <td>Braund, Mr. Owen Harris</td>\n",
              "      <td>male</td>\n",
              "      <td>22.0</td>\n",
              "      <td>1</td>\n",
              "      <td>0</td>\n",
              "      <td>A/5 21171</td>\n",
              "      <td>7.2500</td>\n",
              "      <td>NaN</td>\n",
              "      <td>S</td>\n",
              "    </tr>\n",
              "    <tr>\n",
              "      <th>1</th>\n",
              "      <td>2</td>\n",
              "      <td>1</td>\n",
              "      <td>1</td>\n",
              "      <td>Cumings, Mrs. John Bradley (Florence Briggs Th...</td>\n",
              "      <td>female</td>\n",
              "      <td>38.0</td>\n",
              "      <td>1</td>\n",
              "      <td>0</td>\n",
              "      <td>PC 17599</td>\n",
              "      <td>71.2833</td>\n",
              "      <td>C85</td>\n",
              "      <td>C</td>\n",
              "    </tr>\n",
              "    <tr>\n",
              "      <th>2</th>\n",
              "      <td>3</td>\n",
              "      <td>1</td>\n",
              "      <td>3</td>\n",
              "      <td>Heikkinen, Miss. Laina</td>\n",
              "      <td>female</td>\n",
              "      <td>26.0</td>\n",
              "      <td>0</td>\n",
              "      <td>0</td>\n",
              "      <td>STON/O2. 3101282</td>\n",
              "      <td>7.9250</td>\n",
              "      <td>NaN</td>\n",
              "      <td>S</td>\n",
              "    </tr>\n",
              "    <tr>\n",
              "      <th>3</th>\n",
              "      <td>4</td>\n",
              "      <td>1</td>\n",
              "      <td>1</td>\n",
              "      <td>Futrelle, Mrs. Jacques Heath (Lily May Peel)</td>\n",
              "      <td>female</td>\n",
              "      <td>35.0</td>\n",
              "      <td>1</td>\n",
              "      <td>0</td>\n",
              "      <td>113803</td>\n",
              "      <td>53.1000</td>\n",
              "      <td>C123</td>\n",
              "      <td>S</td>\n",
              "    </tr>\n",
              "    <tr>\n",
              "      <th>4</th>\n",
              "      <td>5</td>\n",
              "      <td>0</td>\n",
              "      <td>3</td>\n",
              "      <td>Allen, Mr. William Henry</td>\n",
              "      <td>male</td>\n",
              "      <td>35.0</td>\n",
              "      <td>0</td>\n",
              "      <td>0</td>\n",
              "      <td>373450</td>\n",
              "      <td>8.0500</td>\n",
              "      <td>NaN</td>\n",
              "      <td>S</td>\n",
              "    </tr>\n",
              "  </tbody>\n",
              "</table>\n",
              "</div>\n",
              "      <button class=\"colab-df-convert\" onclick=\"convertToInteractive('df-ce1f8530-e99b-4f63-9b3d-bf0dd3380e7f')\"\n",
              "              title=\"Convert this dataframe to an interactive table.\"\n",
              "              style=\"display:none;\">\n",
              "        \n",
              "  <svg xmlns=\"http://www.w3.org/2000/svg\" height=\"24px\"viewBox=\"0 0 24 24\"\n",
              "       width=\"24px\">\n",
              "    <path d=\"M0 0h24v24H0V0z\" fill=\"none\"/>\n",
              "    <path d=\"M18.56 5.44l.94 2.06.94-2.06 2.06-.94-2.06-.94-.94-2.06-.94 2.06-2.06.94zm-11 1L8.5 8.5l.94-2.06 2.06-.94-2.06-.94L8.5 2.5l-.94 2.06-2.06.94zm10 10l.94 2.06.94-2.06 2.06-.94-2.06-.94-.94-2.06-.94 2.06-2.06.94z\"/><path d=\"M17.41 7.96l-1.37-1.37c-.4-.4-.92-.59-1.43-.59-.52 0-1.04.2-1.43.59L10.3 9.45l-7.72 7.72c-.78.78-.78 2.05 0 2.83L4 21.41c.39.39.9.59 1.41.59.51 0 1.02-.2 1.41-.59l7.78-7.78 2.81-2.81c.8-.78.8-2.07 0-2.86zM5.41 20L4 18.59l7.72-7.72 1.47 1.35L5.41 20z\"/>\n",
              "  </svg>\n",
              "      </button>\n",
              "      \n",
              "  <style>\n",
              "    .colab-df-container {\n",
              "      display:flex;\n",
              "      flex-wrap:wrap;\n",
              "      gap: 12px;\n",
              "    }\n",
              "\n",
              "    .colab-df-convert {\n",
              "      background-color: #E8F0FE;\n",
              "      border: none;\n",
              "      border-radius: 50%;\n",
              "      cursor: pointer;\n",
              "      display: none;\n",
              "      fill: #1967D2;\n",
              "      height: 32px;\n",
              "      padding: 0 0 0 0;\n",
              "      width: 32px;\n",
              "    }\n",
              "\n",
              "    .colab-df-convert:hover {\n",
              "      background-color: #E2EBFA;\n",
              "      box-shadow: 0px 1px 2px rgba(60, 64, 67, 0.3), 0px 1px 3px 1px rgba(60, 64, 67, 0.15);\n",
              "      fill: #174EA6;\n",
              "    }\n",
              "\n",
              "    [theme=dark] .colab-df-convert {\n",
              "      background-color: #3B4455;\n",
              "      fill: #D2E3FC;\n",
              "    }\n",
              "\n",
              "    [theme=dark] .colab-df-convert:hover {\n",
              "      background-color: #434B5C;\n",
              "      box-shadow: 0px 1px 3px 1px rgba(0, 0, 0, 0.15);\n",
              "      filter: drop-shadow(0px 1px 2px rgba(0, 0, 0, 0.3));\n",
              "      fill: #FFFFFF;\n",
              "    }\n",
              "  </style>\n",
              "\n",
              "      <script>\n",
              "        const buttonEl =\n",
              "          document.querySelector('#df-ce1f8530-e99b-4f63-9b3d-bf0dd3380e7f button.colab-df-convert');\n",
              "        buttonEl.style.display =\n",
              "          google.colab.kernel.accessAllowed ? 'block' : 'none';\n",
              "\n",
              "        async function convertToInteractive(key) {\n",
              "          const element = document.querySelector('#df-ce1f8530-e99b-4f63-9b3d-bf0dd3380e7f');\n",
              "          const dataTable =\n",
              "            await google.colab.kernel.invokeFunction('convertToInteractive',\n",
              "                                                     [key], {});\n",
              "          if (!dataTable) return;\n",
              "\n",
              "          const docLinkHtml = 'Like what you see? Visit the ' +\n",
              "            '<a target=\"_blank\" href=https://colab.research.google.com/notebooks/data_table.ipynb>data table notebook</a>'\n",
              "            + ' to learn more about interactive tables.';\n",
              "          element.innerHTML = '';\n",
              "          dataTable['output_type'] = 'display_data';\n",
              "          await google.colab.output.renderOutput(dataTable, element);\n",
              "          const docLink = document.createElement('div');\n",
              "          docLink.innerHTML = docLinkHtml;\n",
              "          element.appendChild(docLink);\n",
              "        }\n",
              "      </script>\n",
              "    </div>\n",
              "  </div>\n",
              "  "
            ]
          },
          "metadata": {},
          "execution_count": 5
        }
      ]
    },
    {
      "cell_type": "code",
      "source": [
        "titanic_data.isna().sum()"
      ],
      "metadata": {
        "colab": {
          "base_uri": "https://localhost:8080/"
        },
        "id": "tRClAoVm2nvH",
        "outputId": "3df601b1-e47c-4f0f-9b93-263831364b16"
      },
      "execution_count": null,
      "outputs": [
        {
          "output_type": "execute_result",
          "data": {
            "text/plain": [
              "PassengerId      0\n",
              "Survived         0\n",
              "Pclass           0\n",
              "Name             0\n",
              "Sex              0\n",
              "Age            177\n",
              "SibSp            0\n",
              "Parch            0\n",
              "Ticket           0\n",
              "Fare             0\n",
              "Cabin          687\n",
              "Embarked         2\n",
              "dtype: int64"
            ]
          },
          "metadata": {},
          "execution_count": 6
        }
      ]
    },
    {
      "cell_type": "markdown",
      "source": [
        "위와 같은 분석 내용을 바탕으로 다음의 내용에 대한 전처리를 수행해보도록하겠습니다.\n",
        "\n",
        "1. Cabin의 경우 NaN 값이 대부분이므로 해당 컬럼 제외.\n",
        "2. Age 또한 NaN 값이 전체의 약 20%를 차지하므로 누락값에 대한 처리가 필요함. 나이가  생존 여부에 중요한 영향을 미칠 것으로 생각되므로 누락값을 지칭하는 특정값을 처리 (-1)\n",
        "3. 이름, 티켓번호, 탑승항구, passenger ID는 생존여부와 상관성이 떨어질 것으로 예상되므로 컬럼 제외.\n",
        "4. 성별이 'male', 'female'의 텍스트로 저장되어있으므로, 0,1로 변경.\n",
        "    -> scikit learn LabelEncoder 활용 (범주형 변수를 수치형 변수로 변환)\n"
      ],
      "metadata": {
        "id": "pZG4RlEg3Xtl"
      }
    },
    {
      "cell_type": "code",
      "source": [
        "# 데이터 전처리\n",
        "from sklearn.preprocessing import LabelEncoder\n",
        "\n",
        "# 1, 3, 특정 컬럼 제외\n",
        "# 컬럼을 제외하기 위해서 axis=1 설정.\n",
        "titanic_data.drop(['PassengerId','Cabin','Name','Ticket','Embarked'],axis = 1, inplace=True)\n",
        "\n",
        "# 2, Age NaN값 처리\n",
        "titanic_data.Age.fillna(-1, inplace = True)\n",
        "\n",
        "# 4, 범주형 변수 -> 수치형 변수 변환 (e.g., [A,B,C] -> [0, 1, 2])\n",
        "titanic_data['Sex'] = LabelEncoder().fit_transform(titanic_data['Sex'])  # 'sex' feature를 numerical로 변환"
      ],
      "metadata": {
        "id": "UCQyM7liuYeU"
      },
      "execution_count": null,
      "outputs": []
    },
    {
      "cell_type": "code",
      "source": [
        "titanic_data.head()"
      ],
      "metadata": {
        "colab": {
          "base_uri": "https://localhost:8080/",
          "height": 206
        },
        "id": "Crdkgfuk67cC",
        "outputId": "a469590f-0df7-41ed-f606-3f7050c86cd8"
      },
      "execution_count": null,
      "outputs": [
        {
          "output_type": "execute_result",
          "data": {
            "text/plain": [
              "   Survived  Pclass  Sex   Age  SibSp  Parch     Fare\n",
              "0         0       3    1  22.0      1      0   7.2500\n",
              "1         1       1    0  38.0      1      0  71.2833\n",
              "2         1       3    0  26.0      0      0   7.9250\n",
              "3         1       1    0  35.0      1      0  53.1000\n",
              "4         0       3    1  35.0      0      0   8.0500"
            ],
            "text/html": [
              "\n",
              "  <div id=\"df-701004af-5438-4890-9c08-7eedbab05ada\">\n",
              "    <div class=\"colab-df-container\">\n",
              "      <div>\n",
              "<style scoped>\n",
              "    .dataframe tbody tr th:only-of-type {\n",
              "        vertical-align: middle;\n",
              "    }\n",
              "\n",
              "    .dataframe tbody tr th {\n",
              "        vertical-align: top;\n",
              "    }\n",
              "\n",
              "    .dataframe thead th {\n",
              "        text-align: right;\n",
              "    }\n",
              "</style>\n",
              "<table border=\"1\" class=\"dataframe\">\n",
              "  <thead>\n",
              "    <tr style=\"text-align: right;\">\n",
              "      <th></th>\n",
              "      <th>Survived</th>\n",
              "      <th>Pclass</th>\n",
              "      <th>Sex</th>\n",
              "      <th>Age</th>\n",
              "      <th>SibSp</th>\n",
              "      <th>Parch</th>\n",
              "      <th>Fare</th>\n",
              "    </tr>\n",
              "  </thead>\n",
              "  <tbody>\n",
              "    <tr>\n",
              "      <th>0</th>\n",
              "      <td>0</td>\n",
              "      <td>3</td>\n",
              "      <td>1</td>\n",
              "      <td>22.0</td>\n",
              "      <td>1</td>\n",
              "      <td>0</td>\n",
              "      <td>7.2500</td>\n",
              "    </tr>\n",
              "    <tr>\n",
              "      <th>1</th>\n",
              "      <td>1</td>\n",
              "      <td>1</td>\n",
              "      <td>0</td>\n",
              "      <td>38.0</td>\n",
              "      <td>1</td>\n",
              "      <td>0</td>\n",
              "      <td>71.2833</td>\n",
              "    </tr>\n",
              "    <tr>\n",
              "      <th>2</th>\n",
              "      <td>1</td>\n",
              "      <td>3</td>\n",
              "      <td>0</td>\n",
              "      <td>26.0</td>\n",
              "      <td>0</td>\n",
              "      <td>0</td>\n",
              "      <td>7.9250</td>\n",
              "    </tr>\n",
              "    <tr>\n",
              "      <th>3</th>\n",
              "      <td>1</td>\n",
              "      <td>1</td>\n",
              "      <td>0</td>\n",
              "      <td>35.0</td>\n",
              "      <td>1</td>\n",
              "      <td>0</td>\n",
              "      <td>53.1000</td>\n",
              "    </tr>\n",
              "    <tr>\n",
              "      <th>4</th>\n",
              "      <td>0</td>\n",
              "      <td>3</td>\n",
              "      <td>1</td>\n",
              "      <td>35.0</td>\n",
              "      <td>0</td>\n",
              "      <td>0</td>\n",
              "      <td>8.0500</td>\n",
              "    </tr>\n",
              "  </tbody>\n",
              "</table>\n",
              "</div>\n",
              "      <button class=\"colab-df-convert\" onclick=\"convertToInteractive('df-701004af-5438-4890-9c08-7eedbab05ada')\"\n",
              "              title=\"Convert this dataframe to an interactive table.\"\n",
              "              style=\"display:none;\">\n",
              "        \n",
              "  <svg xmlns=\"http://www.w3.org/2000/svg\" height=\"24px\"viewBox=\"0 0 24 24\"\n",
              "       width=\"24px\">\n",
              "    <path d=\"M0 0h24v24H0V0z\" fill=\"none\"/>\n",
              "    <path d=\"M18.56 5.44l.94 2.06.94-2.06 2.06-.94-2.06-.94-.94-2.06-.94 2.06-2.06.94zm-11 1L8.5 8.5l.94-2.06 2.06-.94-2.06-.94L8.5 2.5l-.94 2.06-2.06.94zm10 10l.94 2.06.94-2.06 2.06-.94-2.06-.94-.94-2.06-.94 2.06-2.06.94z\"/><path d=\"M17.41 7.96l-1.37-1.37c-.4-.4-.92-.59-1.43-.59-.52 0-1.04.2-1.43.59L10.3 9.45l-7.72 7.72c-.78.78-.78 2.05 0 2.83L4 21.41c.39.39.9.59 1.41.59.51 0 1.02-.2 1.41-.59l7.78-7.78 2.81-2.81c.8-.78.8-2.07 0-2.86zM5.41 20L4 18.59l7.72-7.72 1.47 1.35L5.41 20z\"/>\n",
              "  </svg>\n",
              "      </button>\n",
              "      \n",
              "  <style>\n",
              "    .colab-df-container {\n",
              "      display:flex;\n",
              "      flex-wrap:wrap;\n",
              "      gap: 12px;\n",
              "    }\n",
              "\n",
              "    .colab-df-convert {\n",
              "      background-color: #E8F0FE;\n",
              "      border: none;\n",
              "      border-radius: 50%;\n",
              "      cursor: pointer;\n",
              "      display: none;\n",
              "      fill: #1967D2;\n",
              "      height: 32px;\n",
              "      padding: 0 0 0 0;\n",
              "      width: 32px;\n",
              "    }\n",
              "\n",
              "    .colab-df-convert:hover {\n",
              "      background-color: #E2EBFA;\n",
              "      box-shadow: 0px 1px 2px rgba(60, 64, 67, 0.3), 0px 1px 3px 1px rgba(60, 64, 67, 0.15);\n",
              "      fill: #174EA6;\n",
              "    }\n",
              "\n",
              "    [theme=dark] .colab-df-convert {\n",
              "      background-color: #3B4455;\n",
              "      fill: #D2E3FC;\n",
              "    }\n",
              "\n",
              "    [theme=dark] .colab-df-convert:hover {\n",
              "      background-color: #434B5C;\n",
              "      box-shadow: 0px 1px 3px 1px rgba(0, 0, 0, 0.15);\n",
              "      filter: drop-shadow(0px 1px 2px rgba(0, 0, 0, 0.3));\n",
              "      fill: #FFFFFF;\n",
              "    }\n",
              "  </style>\n",
              "\n",
              "      <script>\n",
              "        const buttonEl =\n",
              "          document.querySelector('#df-701004af-5438-4890-9c08-7eedbab05ada button.colab-df-convert');\n",
              "        buttonEl.style.display =\n",
              "          google.colab.kernel.accessAllowed ? 'block' : 'none';\n",
              "\n",
              "        async function convertToInteractive(key) {\n",
              "          const element = document.querySelector('#df-701004af-5438-4890-9c08-7eedbab05ada');\n",
              "          const dataTable =\n",
              "            await google.colab.kernel.invokeFunction('convertToInteractive',\n",
              "                                                     [key], {});\n",
              "          if (!dataTable) return;\n",
              "\n",
              "          const docLinkHtml = 'Like what you see? Visit the ' +\n",
              "            '<a target=\"_blank\" href=https://colab.research.google.com/notebooks/data_table.ipynb>data table notebook</a>'\n",
              "            + ' to learn more about interactive tables.';\n",
              "          element.innerHTML = '';\n",
              "          dataTable['output_type'] = 'display_data';\n",
              "          await google.colab.output.renderOutput(dataTable, element);\n",
              "          const docLink = document.createElement('div');\n",
              "          docLink.innerHTML = docLinkHtml;\n",
              "          element.appendChild(docLink);\n",
              "        }\n",
              "      </script>\n",
              "    </div>\n",
              "  </div>\n",
              "  "
            ]
          },
          "metadata": {},
          "execution_count": 8
        }
      ]
    },
    {
      "cell_type": "code",
      "source": [
        "# 데이터셋 준비\n",
        "X = titanic_data.drop('Survived', axis=1)\n",
        "y = titanic_data['Survived']\n",
        "X_train, X_test, y_train, y_test = train_test_split(X, y, test_size=0.2, stratify=y, random_state=0) # Stratified split 적용\n"
      ],
      "metadata": {
        "id": "QQ8kIbXr6h_K"
      },
      "execution_count": null,
      "outputs": []
    },
    {
      "cell_type": "markdown",
      "source": [
        "## 모델 준비, 학습, 그리고 평가"
      ],
      "metadata": {
        "id": "XmGw2Sng-1RK"
      }
    },
    {
      "cell_type": "code",
      "source": [
        "# 모델 준비 및 학습\n",
        "random_forest = RandomForestClassifier(n_estimators=5, random_state = 0)\n",
        "random_forest.fit(X_train, y_train)"
      ],
      "metadata": {
        "colab": {
          "base_uri": "https://localhost:8080/",
          "height": 75
        },
        "id": "nLOKr5SA7MTD",
        "outputId": "04d7ac22-0a26-4d83-8704-c6ef813a86a8"
      },
      "execution_count": null,
      "outputs": [
        {
          "output_type": "execute_result",
          "data": {
            "text/plain": [
              "RandomForestClassifier(n_estimators=5, random_state=0)"
            ],
            "text/html": [
              "<style>#sk-container-id-1 {color: black;background-color: white;}#sk-container-id-1 pre{padding: 0;}#sk-container-id-1 div.sk-toggleable {background-color: white;}#sk-container-id-1 label.sk-toggleable__label {cursor: pointer;display: block;width: 100%;margin-bottom: 0;padding: 0.3em;box-sizing: border-box;text-align: center;}#sk-container-id-1 label.sk-toggleable__label-arrow:before {content: \"▸\";float: left;margin-right: 0.25em;color: #696969;}#sk-container-id-1 label.sk-toggleable__label-arrow:hover:before {color: black;}#sk-container-id-1 div.sk-estimator:hover label.sk-toggleable__label-arrow:before {color: black;}#sk-container-id-1 div.sk-toggleable__content {max-height: 0;max-width: 0;overflow: hidden;text-align: left;background-color: #f0f8ff;}#sk-container-id-1 div.sk-toggleable__content pre {margin: 0.2em;color: black;border-radius: 0.25em;background-color: #f0f8ff;}#sk-container-id-1 input.sk-toggleable__control:checked~div.sk-toggleable__content {max-height: 200px;max-width: 100%;overflow: auto;}#sk-container-id-1 input.sk-toggleable__control:checked~label.sk-toggleable__label-arrow:before {content: \"▾\";}#sk-container-id-1 div.sk-estimator input.sk-toggleable__control:checked~label.sk-toggleable__label {background-color: #d4ebff;}#sk-container-id-1 div.sk-label input.sk-toggleable__control:checked~label.sk-toggleable__label {background-color: #d4ebff;}#sk-container-id-1 input.sk-hidden--visually {border: 0;clip: rect(1px 1px 1px 1px);clip: rect(1px, 1px, 1px, 1px);height: 1px;margin: -1px;overflow: hidden;padding: 0;position: absolute;width: 1px;}#sk-container-id-1 div.sk-estimator {font-family: monospace;background-color: #f0f8ff;border: 1px dotted black;border-radius: 0.25em;box-sizing: border-box;margin-bottom: 0.5em;}#sk-container-id-1 div.sk-estimator:hover {background-color: #d4ebff;}#sk-container-id-1 div.sk-parallel-item::after {content: \"\";width: 100%;border-bottom: 1px solid gray;flex-grow: 1;}#sk-container-id-1 div.sk-label:hover label.sk-toggleable__label {background-color: #d4ebff;}#sk-container-id-1 div.sk-serial::before {content: \"\";position: absolute;border-left: 1px solid gray;box-sizing: border-box;top: 0;bottom: 0;left: 50%;z-index: 0;}#sk-container-id-1 div.sk-serial {display: flex;flex-direction: column;align-items: center;background-color: white;padding-right: 0.2em;padding-left: 0.2em;position: relative;}#sk-container-id-1 div.sk-item {position: relative;z-index: 1;}#sk-container-id-1 div.sk-parallel {display: flex;align-items: stretch;justify-content: center;background-color: white;position: relative;}#sk-container-id-1 div.sk-item::before, #sk-container-id-1 div.sk-parallel-item::before {content: \"\";position: absolute;border-left: 1px solid gray;box-sizing: border-box;top: 0;bottom: 0;left: 50%;z-index: -1;}#sk-container-id-1 div.sk-parallel-item {display: flex;flex-direction: column;z-index: 1;position: relative;background-color: white;}#sk-container-id-1 div.sk-parallel-item:first-child::after {align-self: flex-end;width: 50%;}#sk-container-id-1 div.sk-parallel-item:last-child::after {align-self: flex-start;width: 50%;}#sk-container-id-1 div.sk-parallel-item:only-child::after {width: 0;}#sk-container-id-1 div.sk-dashed-wrapped {border: 1px dashed gray;margin: 0 0.4em 0.5em 0.4em;box-sizing: border-box;padding-bottom: 0.4em;background-color: white;}#sk-container-id-1 div.sk-label label {font-family: monospace;font-weight: bold;display: inline-block;line-height: 1.2em;}#sk-container-id-1 div.sk-label-container {text-align: center;}#sk-container-id-1 div.sk-container {/* jupyter's `normalize.less` sets `[hidden] { display: none; }` but bootstrap.min.css set `[hidden] { display: none !important; }` so we also need the `!important` here to be able to override the default hidden behavior on the sphinx rendered scikit-learn.org. See: https://github.com/scikit-learn/scikit-learn/issues/21755 */display: inline-block !important;position: relative;}#sk-container-id-1 div.sk-text-repr-fallback {display: none;}</style><div id=\"sk-container-id-1\" class=\"sk-top-container\"><div class=\"sk-text-repr-fallback\"><pre>RandomForestClassifier(n_estimators=5, random_state=0)</pre><b>In a Jupyter environment, please rerun this cell to show the HTML representation or trust the notebook. <br />On GitHub, the HTML representation is unable to render, please try loading this page with nbviewer.org.</b></div><div class=\"sk-container\" hidden><div class=\"sk-item\"><div class=\"sk-estimator sk-toggleable\"><input class=\"sk-toggleable__control sk-hidden--visually\" id=\"sk-estimator-id-1\" type=\"checkbox\" checked><label for=\"sk-estimator-id-1\" class=\"sk-toggleable__label sk-toggleable__label-arrow\">RandomForestClassifier</label><div class=\"sk-toggleable__content\"><pre>RandomForestClassifier(n_estimators=5, random_state=0)</pre></div></div></div></div></div>"
            ]
          },
          "metadata": {},
          "execution_count": 10
        }
      ]
    },
    {
      "cell_type": "code",
      "source": [
        "# 모델 평가\n",
        "y_pred = random_forest.predict(X_test)\n",
        "print(\"Accuracy: \", accuracy_score(y_test, y_pred))"
      ],
      "metadata": {
        "colab": {
          "base_uri": "https://localhost:8080/"
        },
        "id": "GClNxShw7Oma",
        "outputId": "644fdd27-2b42-481a-eb8b-8d5fa191dea6"
      },
      "execution_count": null,
      "outputs": [
        {
          "output_type": "stream",
          "name": "stdout",
          "text": [
            "Accuracy:  0.776536312849162\n"
          ]
        }
      ]
    },
    {
      "cell_type": "markdown",
      "source": [
        "## 성능의 변화"
      ],
      "metadata": {
        "id": "kOSyUAdr-7fD"
      }
    },
    {
      "cell_type": "code",
      "source": [
        "# 모델 Hyperparameter에 의한 변화\n",
        "RF1 = RandomForestClassifier(n_estimators = 50, max_depth = 5, random_state = 0)\n",
        "RF1.fit(X_train, y_train)\n",
        "print(\"Accuracy: \", accuracy_score(y_test, RF1.predict(X_test)))"
      ],
      "metadata": {
        "colab": {
          "base_uri": "https://localhost:8080/"
        },
        "id": "p3BmuzC37_b6",
        "outputId": "6dab7ca8-3a58-4b2d-b6c1-9913b29f9372"
      },
      "execution_count": null,
      "outputs": [
        {
          "output_type": "stream",
          "name": "stdout",
          "text": [
            "Accuracy:  0.7988826815642458\n"
          ]
        }
      ]
    },
    {
      "cell_type": "code",
      "source": [
        "# 입력 데이터 구성에 의한 변화\n",
        "RF2 = RandomForestClassifier(n_estimators = 50, max_depth = 5, random_state = 0)\n",
        "RF2.fit(X_train.drop('Age',axis=1), y_train)\n",
        "print(\"Accuracy: \", accuracy_score(y_test, RF2.predict(X_test.drop('Age',axis=1))))"
      ],
      "metadata": {
        "colab": {
          "base_uri": "https://localhost:8080/"
        },
        "id": "g4DkYT478kFu",
        "outputId": "75459ed6-3d66-4da3-e4fa-b8e7d846b3c0"
      },
      "execution_count": null,
      "outputs": [
        {
          "output_type": "stream",
          "name": "stdout",
          "text": [
            "Accuracy:  0.7541899441340782\n"
          ]
        }
      ]
    },
    {
      "cell_type": "code",
      "source": [
        "# 모델에 따른 변화\n",
        "from sklearn.tree import DecisionTreeClassifier\n",
        "DT = DecisionTreeClassifier(random_state = 0)\n",
        "DT.fit(X_train, y_train)\n",
        "print(\"Accuracy: \", accuracy_score(y_test, DT.predict(X_test)))"
      ],
      "metadata": {
        "colab": {
          "base_uri": "https://localhost:8080/"
        },
        "id": "DPtbkAH2-OFY",
        "outputId": "99647b32-9ef1-4c00-eb9f-efcd2b8c15b8"
      },
      "execution_count": null,
      "outputs": [
        {
          "output_type": "stream",
          "name": "stdout",
          "text": [
            "Accuracy:  0.7486033519553073\n"
          ]
        }
      ]
    },
    {
      "cell_type": "markdown",
      "source": [
        "모델 학습으로 완료되는 것이 아님.\n",
        "모델의 성능은 다양한 요인에 의해 바뀔 수 있으며,\n",
        "크게 세가지로 구분할 수 있습니다.\n",
        "\n",
        "1. 모델 자체의 변화.\n",
        "\n",
        "2. 모델 하이퍼 파라미터의 변화.\n",
        "\n",
        "3. 입력 데이터 구성의 변화.\n",
        "\n",
        "> 즉 하나의 인공지능 모델 = 한 명의 학생이라고 가정했을 때,\n",
        "> 우리는 각 반을 대표하는 최고의 학생을 뽑는 것이 목표.\n",
        ">> 자체적으로 대표를 뽑기위해서는? 내부적으로 테스트가 필요 (validation set에 대한 성능)\n",
        "\n",
        "이러한 모델 변화에 대한 실험을 가장 단순한 반복문으로 구성하면 다음과 같습니다.\n",
        "\n",
        "```python\n",
        "for train, val, test in K-folds\n",
        "    for model in models:\n",
        "        for params in hyper_params:\n",
        "            for feature in feature_combination:\n",
        "                training model\n",
        "                get results on validation set\n",
        "                evaluate validation results\n",
        "```\n",
        "\n",
        "결과적으로 이러한 모델 관련 요소의 변화에 대한 실험을 쉽게 할 수 있도록 지원하는 것이 Auto ML 라이브러리 할 수 있습니다.\n",
        "\n",
        "1. 모델 자체의 변화 -> 다양한 모델에 대한 시도 -> AutoML 라이브러리\n",
        "2. 모델 하이퍼 파라미터의 변화 -> grid search, random search, bayesian optimization 혹은 AutoML 라이브러리\n",
        "3. 입력 데이터 구성의 변화 -> Feature engineering 라이브러리 혹은 AutoML 라이브러리\n",
        "\n",
        "\n",
        "\n"
      ],
      "metadata": {
        "id": "v5RnJKSD9wyP"
      }
    },
    {
      "cell_type": "markdown",
      "source": [
        "# 2. 하이퍼 파라미터 최적화\n",
        "\n",
        "AutoML 라이브러리를 활용하여 자동적으로 하이퍼 파라미터 최적화를 수행하기 전에,\n",
        "각 하이퍼 파라미터 최적화 방법론에 대해서 개별적으로 실습해 보도록 하겠습니다."
      ],
      "metadata": {
        "id": "mtnEUZqsLQ6y"
      }
    },
    {
      "cell_type": "markdown",
      "source": [
        "## 1. Grid search\n",
        "그리드 서치는 사전에 탐색해야 할 하이퍼파라미터 공간 및 구간을 설정해두고,\n",
        "모든 하이퍼파라미터 변수 조합에 대한 테스트를 수행, 최적의 조합을 찾는 방법입니다.\n",
        "\n",
        "- 장점 : 직관적, 단순함.\n",
        "- 단점 : 탐색해야 할 구간이 증가할 수록 계산 자원, 시간 등이 많이 소요됨.\n",
        "\n",
        "\n",
        "**따라서 탐색해야할 하이퍼 파라미터가 상대적으로 적고 탐색범위가 명확할 때 활용도가 높음**\n",
        "\n",
        "그리드 서치는 scikit-learn library의\n",
        "```GridSearchCV()``` 클래스를 통해 수행 할 수 있으며, 해당 클래스의 주요 파라미터는 다음과 같습니다.\n",
        "\n",
        "- ```estimator```: scikit learn 인터페이스를 따르는 훈련시킬 모델을 설정.\n",
        "\n",
        "- ```param_grid```: 탐색 할 하이퍼파라미터 조합에 대한 딕셔너리 또는 딕셔너리들의 리스트. 키는 하이퍼파라미터 변수명, 이에 대응하는 밸류는 하이퍼파라미터 값에 대응.\n",
        "\n",
        "- ```cv```: K-fold CV를 위한 K 값. 또는 Cross validation generator\n",
        "\n",
        "- ```refit```: True 설정시, 가장 좋은 하이퍼파라미터를 찾은 후 전체 데이터셋에 대해 다시 훈련시킵니다. ```best_estimator_``` 활용 가능.\n",
        "\n",
        "\n",
        "\n"
      ],
      "metadata": {
        "id": "i7S64q_0Oek2"
      }
    },
    {
      "cell_type": "code",
      "source": [
        "from sklearn.model_selection import GridSearchCV\n",
        "\n",
        "# 기본 모델 설정\n",
        "RF = RandomForestClassifier(random_state=0)\n",
        "\n",
        "# 탐색하기 위한 하이퍼파라미터 설정\n",
        "param_grid = {\n",
        "    'n_estimators': [50, 100],\n",
        "    'max_depth': [None, 1, 5],\n",
        "    'min_samples_split': [2, 3]\n",
        "}\n",
        "\n",
        "# 전체 그리드 서치 경우의 수\n",
        "# 2*3*2 = 12\n",
        "# 전체 그리드 서치 실험 횟수\n",
        "# 12*3 (CV=3) = 36\n",
        "\n",
        "# 그리드 서치 인스턴스 설정 및 수행\n",
        "grid_search = GridSearchCV(estimator=RF, param_grid=param_grid, cv=3)\n",
        "grid_search.fit(X_train, y_train)\n",
        "\n",
        "# 최적의 하이퍼파라미터 출력\n",
        "print(\"Best parameters: \", grid_search.best_params_)\n",
        "\n",
        "# 최적의 하이퍼파라미터로 학습된 모델 출력\n",
        "print(\"Best model: \",grid_search.best_estimator_)\n",
        "\n",
        "#"
      ],
      "metadata": {
        "id": "96G1uEbAwc5n",
        "colab": {
          "base_uri": "https://localhost:8080/"
        },
        "outputId": "f0c19b18-15ee-4c73-acb8-791edab413cc"
      },
      "execution_count": null,
      "outputs": [
        {
          "output_type": "stream",
          "name": "stdout",
          "text": [
            "Best parameters:  {'max_depth': None, 'min_samples_split': 2, 'n_estimators': 100}\n",
            "Best model:  RandomForestClassifier(random_state=0)\n"
          ]
        }
      ]
    },
    {
      "cell_type": "code",
      "source": [
        "print(\"Accuracy: \", accuracy_score(y_test, grid_search.predict(X_test)))"
      ],
      "metadata": {
        "colab": {
          "base_uri": "https://localhost:8080/"
        },
        "id": "aCq-uMZ5inbc",
        "outputId": "4ea9f44c-e712-47ec-fec2-fcb57202b7ca"
      },
      "execution_count": null,
      "outputs": [
        {
          "output_type": "stream",
          "name": "stdout",
          "text": [
            "Accuracy:  0.7932960893854749\n"
          ]
        }
      ]
    },
    {
      "cell_type": "code",
      "source": [
        "# 그리드 서치의 결과는 딕셔너리 형태로 주어지기때문에 접근 가능한 키를 살펴봅니다.\n",
        "print(grid_search.cv_results_.keys())"
      ],
      "metadata": {
        "colab": {
          "base_uri": "https://localhost:8080/"
        },
        "id": "LC0_sTSJJvoW",
        "outputId": "7a0fb5f5-9b1f-4768-c907-9d96f48d3c12"
      },
      "execution_count": null,
      "outputs": [
        {
          "output_type": "stream",
          "name": "stdout",
          "text": [
            "dict_keys(['mean_fit_time', 'std_fit_time', 'mean_score_time', 'std_score_time', 'param_max_depth', 'param_min_samples_split', 'param_n_estimators', 'params', 'split0_test_score', 'split1_test_score', 'split2_test_score', 'mean_test_score', 'std_test_score', 'rank_test_score'])\n"
          ]
        }
      ]
    },
    {
      "cell_type": "code",
      "source": [
        "# 그리드 서치 내 각 파라미터 조합 시도에 대한 성능을 살펴볼 수 있습니다.\n",
        "print(grid_search.cv_results_[\"mean_test_score\"])\n",
        "print(grid_search.cv_results_[\"rank_test_score\"])"
      ],
      "metadata": {
        "colab": {
          "base_uri": "https://localhost:8080/"
        },
        "id": "2mcb8xK3JxY4",
        "outputId": "161ffc5d-0d6a-4ced-cae6-8b1dbf8f5eff"
      },
      "execution_count": null,
      "outputs": [
        {
          "output_type": "stream",
          "name": "stdout",
          "text": [
            "[0.81311681 0.81312863 0.81172216 0.81312272 0.77245919 0.77386566\n",
            " 0.77245919 0.77386566 0.81035705 0.81036887 0.81177534 0.81176943]\n",
            "[ 3  1  6  2 11  9 11  9  8  7  4  5]\n"
          ]
        }
      ]
    },
    {
      "cell_type": "code",
      "source": [
        "# 랭크 기준으로 [1] 인덱스의 결과의 파라미터와 best_params_ 어트리뷰트로 얻은 파라미터를 비교합니다.\n",
        "print(grid_search.cv_results_['params'][1])\n",
        "print(grid_search.best_params_)"
      ],
      "metadata": {
        "colab": {
          "base_uri": "https://localhost:8080/"
        },
        "id": "Yx_IvEATKAOE",
        "outputId": "7995441b-d246-4b37-cf06-79002001f386"
      },
      "execution_count": null,
      "outputs": [
        {
          "output_type": "stream",
          "name": "stdout",
          "text": [
            "{'max_depth': None, 'min_samples_split': 2, 'n_estimators': 100}\n",
            "{'max_depth': None, 'min_samples_split': 2, 'n_estimators': 100}\n"
          ]
        }
      ]
    },
    {
      "cell_type": "markdown",
      "source": [
        "## Random search\n",
        "\n",
        "랜덤 서치는 그리드 서치와 비슷하지만, 모든 가능한 하이퍼파라미터 조합을 탐색하는 대신 주어진 분포에서 하이퍼파라미터를 무작위로 선택하여 테스트하는 방법입니다.\n",
        "\n",
        "- 장점: 그리드 서치에 비해 계산 자원을 적게 사용하면서 최적의 결과를 찾을 가능성이 높습니다.\n",
        "- 단점: 완전한 탐색을 하지 않기 때문에 최적의 하이퍼파라미터를 놓칠 수 있습니다.\n",
        "\n",
        "**따라서, 탐색해야할 하이퍼파라미터가 많거나 탐색 범위가 불확실한 경우에 적합합니다.**\n",
        "\n",
        "랜덤 서치는 scikit-learn 라이브러리의 ```RandomizedSearchCV()``` 클래스를 사용하여 수행할 수 있습니다.\n",
        "\n",
        "주요 입력 파라미터는 GridSearch와 유사하나 param_grid 대신 param_distribution과 n_iter가 필요합니다.\n",
        "- ```param_distributions```: 탐색할 하이퍼파라미터의 **분포**를 설정합니다. 딕셔너리 형태로 하이퍼파라미터의 키에 대한 변수와 샘플링 할 분포가 필요합니다.\n",
        "- ```n_iter```: 분포에서 하이퍼 파라미터 샘플링할 횟수를 설정합니다. 그리드 서치에서는 ```param_grid```에서 가능한 모든 조합에 대해 수행한다면, 랜덤 서치에서는 가능한 분포에서 ```n_iter```만큼의 파라미터 조합을 탐색합니다."
      ],
      "metadata": {
        "id": "rpGAuGIzNENe"
      }
    },
    {
      "cell_type": "code",
      "source": [
        "from sklearn.model_selection import RandomizedSearchCV\n",
        "from scipy.stats import randint\n",
        "\n",
        "# 기본 모델 설정\n",
        "RF = RandomForestClassifier(random_state=0)\n",
        "\n",
        "# 탐색하기 위한 파라미터 분포 설정\n",
        "param_dist = {\n",
        "    \"criterion\": ['gini', 'entropy', 'log_loss'],\n",
        "    \"max_depth\": randint(3, 10),\n",
        "    \"n_estimators\": randint(10, 100),\n",
        "    \"max_features\": randint(1, 9),\n",
        "}\n",
        "\n",
        "# 랜덤 서치 인스턴스 설정 및 수행\n",
        "random_search = RandomizedSearchCV(\n",
        "    estimator=RF,\n",
        "    param_distributions=param_dist,\n",
        "    n_iter=20,\n",
        "    cv=3,\n",
        "    random_state=0\n",
        ")\n",
        "\n",
        "# 랜덤 서치 실행\n",
        "random_search.fit(X_train, y_train)\n",
        "\n",
        "# 결과 출력\n",
        "print(\"Best parameters: \", random_search.best_params_)\n",
        "print(\"Best model: \", random_search.best_estimator_)\n"
      ],
      "metadata": {
        "colab": {
          "base_uri": "https://localhost:8080/"
        },
        "id": "8-dw3RzyKcdA",
        "outputId": "3a6f0219-4e79-40c1-e47e-973e15139658"
      },
      "execution_count": null,
      "outputs": [
        {
          "output_type": "stream",
          "name": "stdout",
          "text": [
            "Best parameters:  {'criterion': 'entropy', 'max_depth': 6, 'max_features': 6, 'n_estimators': 46}\n",
            "Best model:  RandomForestClassifier(criterion='entropy', max_depth=6, max_features=6,\n",
            "                       n_estimators=46, random_state=0)\n"
          ]
        }
      ]
    },
    {
      "cell_type": "code",
      "source": [
        "# 랜덤 서치로 얻은 best_estimator에 대한 평가\n",
        "print(\"Accuracy: \", accuracy_score(y_test, random_search.predict(X_test)))"
      ],
      "metadata": {
        "colab": {
          "base_uri": "https://localhost:8080/"
        },
        "id": "Sy0ScCmji773",
        "outputId": "9ea7108c-052a-4e31-8431-e5bb1e4a54bb"
      },
      "execution_count": null,
      "outputs": [
        {
          "output_type": "stream",
          "name": "stdout",
          "text": [
            "Accuracy:  0.8491620111731844\n"
          ]
        }
      ]
    },
    {
      "cell_type": "code",
      "source": [
        "print(random_search.cv_results_[\"mean_test_score\"])\n",
        "print(random_search.cv_results_[\"rank_test_score\"])"
      ],
      "metadata": {
        "colab": {
          "base_uri": "https://localhost:8080/"
        },
        "id": "YIyyJZw7iUmw",
        "outputId": "53e60ec0-35c7-4042-a494-e7da64307330"
      },
      "execution_count": null,
      "outputs": [
        {
          "output_type": "stream",
          "name": "stdout",
          "text": [
            "[0.81878405 0.82719923 0.77386566 0.80332471 0.80474299 0.81877814\n",
            " 0.81740122 0.80333652 0.81736576 0.79349715 0.80752639 0.82019052\n",
            " 0.81034524 0.80753821 0.80472527 0.80051768 0.80755002 0.81736576\n",
            " 0.81315817 0.8201787 ]\n",
            "[ 4  1 20 17 14  5  6 16  7 19 13  2 10 12 15 18 11  7  9  3]\n"
          ]
        }
      ]
    },
    {
      "cell_type": "code",
      "source": [
        "print(random_search.cv_results_['params'][1])"
      ],
      "metadata": {
        "colab": {
          "base_uri": "https://localhost:8080/"
        },
        "id": "Pq8VGoOuicJK",
        "outputId": "8f66554d-ae5d-4a22-b9c8-d7f838dba40f"
      },
      "execution_count": null,
      "outputs": [
        {
          "output_type": "stream",
          "name": "stdout",
          "text": [
            "{'criterion': 'entropy', 'max_depth': 6, 'max_features': 6, 'n_estimators': 46}\n"
          ]
        }
      ]
    },
    {
      "cell_type": "markdown",
      "source": [
        "### Halving Grid search & Random search\n",
        "\n",
        "successive halving 알고리즘을 적용하여 기존 그리드서치, 랜덤 서치에 비해 효율적으로 탐색하는 방법.\n",
        "일종의 하이퍼 파라미터에 대한 토너먼트로 이해할 수 있음.\n",
        "\n",
        "- 초기 라운드에서는 적은 데이터 혹은 자원으로 많은 하이퍼 파라미터 조합에 대해 테스트.\n",
        "- 매 라운드 (또는 이터레이션)이 종료되면 결과가 좋았던 조합만 남김.\n",
        "- 다음 라운드에서는 이전 라운드에 비해 더 많은 리소스를 할당 + 더 적은 조합에 대해 테스트."
      ],
      "metadata": {
        "id": "nqsH6VhclgTJ"
      }
    },
    {
      "cell_type": "markdown",
      "source": [
        "## 3. Bayesian Search\n",
        "\n",
        "베이지안 최적화는 이전의 평가 결과를 바탕으로 하이퍼파라미터의 최적 값이 어디에 있을지를 예측하고, 그 결과를 이용하여 다음 탐색 위치를 결정하는 방법입니다.\n",
        "\n",
        "- 장점: 반복을 통해 최적의 결과를 더 빠르게 수렴할 수 있습니다.\n",
        "- 단점: 상대적으로 복잡한 알고리즘.\n",
        "\n",
        "**그리드 서치 및 랜덤 서치에 비해 효율적으로 파라미터 탐색 가능**\n",
        "\n",
        "scikit-learn은 기본적으로 베이지안 최적화를 지원하지 않지만, Scikit-Optimize 라이브러리의 BayesSearchCV() 함수를 사용하여 베이지안 최적화를 수행할 수 있습니다."
      ],
      "metadata": {
        "id": "hEION6VVYfvr"
      }
    },
    {
      "cell_type": "code",
      "source": [
        "!pip install scikit-optimize\n"
      ],
      "metadata": {
        "colab": {
          "base_uri": "https://localhost:8080/"
        },
        "id": "qtc96YSr6lLz",
        "outputId": "24883ef3-2d6f-4ec2-d964-dfd142e1b200"
      },
      "execution_count": null,
      "outputs": [
        {
          "output_type": "stream",
          "name": "stdout",
          "text": [
            "Collecting scikit-optimize\n",
            "  Downloading scikit_optimize-0.9.0-py2.py3-none-any.whl (100 kB)\n",
            "\u001b[?25l     \u001b[90m━━━━━━━━━━━━━━━━━━━━━━━━━━━━━━━━━━━━━━━━\u001b[0m \u001b[32m0.0/100.3 kB\u001b[0m \u001b[31m?\u001b[0m eta \u001b[36m-:--:--\u001b[0m\r\u001b[2K     \u001b[90m━━━━━━━━━━━━━━━━━━━━━━━━━━━━━━━━━━━━━━━\u001b[0m \u001b[32m100.3/100.3 kB\u001b[0m \u001b[31m4.3 MB/s\u001b[0m eta \u001b[36m0:00:00\u001b[0m\n",
            "\u001b[?25hRequirement already satisfied: joblib>=0.11 in /usr/local/lib/python3.10/dist-packages (from scikit-optimize) (1.2.0)\n",
            "Collecting pyaml>=16.9 (from scikit-optimize)\n",
            "  Downloading pyaml-23.5.9-py3-none-any.whl (17 kB)\n",
            "Requirement already satisfied: numpy>=1.13.3 in /usr/local/lib/python3.10/dist-packages (from scikit-optimize) (1.22.4)\n",
            "Requirement already satisfied: scipy>=0.19.1 in /usr/local/lib/python3.10/dist-packages (from scikit-optimize) (1.10.1)\n",
            "Requirement already satisfied: scikit-learn>=0.20.0 in /usr/local/lib/python3.10/dist-packages (from scikit-optimize) (1.2.2)\n",
            "Requirement already satisfied: PyYAML in /usr/local/lib/python3.10/dist-packages (from pyaml>=16.9->scikit-optimize) (6.0)\n",
            "Requirement already satisfied: threadpoolctl>=2.0.0 in /usr/local/lib/python3.10/dist-packages (from scikit-learn>=0.20.0->scikit-optimize) (3.1.0)\n",
            "Installing collected packages: pyaml, scikit-optimize\n",
            "Successfully installed pyaml-23.5.9 scikit-optimize-0.9.0\n"
          ]
        }
      ]
    },
    {
      "cell_type": "code",
      "source": [
        "from skopt import BayesSearchCV\n",
        "from scipy.stats import randint\n",
        "from sklearn.ensemble import RandomForestClassifier\n",
        "\n",
        "# 기본 모델 설정\n",
        "RF = RandomForestClassifier(random_state=0)\n",
        "\n",
        "# 탐색하기 위한 파라미터 분포 설정\n",
        "param_dist = {\n",
        "    \"criterion\": ['gini', 'entropy', 'log_loss'],\n",
        "    \"max_depth\": (3, 10),\n",
        "    \"n_estimators\": (10, 100),\n",
        "    \"max_features\": (1, 9),\n",
        "}\n",
        "\n",
        "# 베이지안 서치 인스턴스 설정 및 수행\n",
        "bayesian_search = BayesSearchCV(\n",
        "    estimator=RF,\n",
        "    search_spaces=param_dist,\n",
        "    n_iter=50,\n",
        "    cv=3,\n",
        "    random_state=0\n",
        ")\n",
        "\n",
        "# 베이지안 서치 실행\n",
        "bayesian_search.fit(X_train, y_train)\n",
        "\n",
        "# 결과 출력\n",
        "print(\"Best parameters: \", bayesian_search.best_params_)\n",
        "print(\"Best model: \", bayesian_search.best_estimator_)"
      ],
      "metadata": {
        "colab": {
          "base_uri": "https://localhost:8080/"
        },
        "id": "unGNTPg-6ZP-",
        "outputId": "09c77db6-c620-4586-850e-c0b6587dda73"
      },
      "execution_count": null,
      "outputs": [
        {
          "output_type": "stream",
          "name": "stdout",
          "text": [
            "Best parameters:  OrderedDict([('criterion', 'log_loss'), ('max_depth', 9), ('max_features', 2), ('n_estimators', 77)])\n",
            "Best model:  RandomForestClassifier(criterion='log_loss', max_depth=9, max_features=2,\n",
            "                       n_estimators=77, random_state=0)\n"
          ]
        }
      ]
    },
    {
      "cell_type": "code",
      "source": [
        "print(bayesian_search.cv_results_[\"mean_test_score\"])\n",
        "print(bayesian_search.cv_results_[\"rank_test_score\"])"
      ],
      "metadata": {
        "colab": {
          "base_uri": "https://localhost:8080/"
        },
        "id": "uJ_QhxnFkllv",
        "outputId": "91eb0d43-318d-4743-d74c-538f5dfefc14"
      },
      "execution_count": null,
      "outputs": [
        {
          "output_type": "stream",
          "name": "stdout",
          "text": [
            "[0.81316999 0.80612583 0.80754411 0.82861752 0.81877814 0.82297982\n",
            " 0.82437448 0.80471936 0.82159699 0.82581049 0.81880178 0.83562623\n",
            " 0.82861752 0.79213204 0.81735986 0.82159699 0.81314636 0.8005354\n",
            " 0.82580458 0.82722878]\n",
            "[14 17 16  2 12  8  7 18 10  5 11  1  2 20 13  9 15 19  6  4]\n"
          ]
        }
      ]
    },
    {
      "cell_type": "code",
      "source": [
        "# bayesian CV로 얻은 best_estimator에 대한 평가\n",
        "print(\"Accuracy: \", accuracy_score(y_test, bayesian_search.predict(X_test)))"
      ],
      "metadata": {
        "colab": {
          "base_uri": "https://localhost:8080/"
        },
        "id": "KlSXhhhL7uHk",
        "outputId": "efbbf346-a86f-4fae-ecfa-482ce06d31eb"
      },
      "execution_count": null,
      "outputs": [
        {
          "output_type": "stream",
          "name": "stdout",
          "text": [
            "Accuracy:  0.8044692737430168\n"
          ]
        }
      ]
    },
    {
      "cell_type": "markdown",
      "source": [
        "#  3. 회귀 문제 예시\n",
        "\n",
        "다음은 sklearn 라이브러리에서 제공하는 toy dataset 중 하나인 diabetes 데이터를 통해 regression을 수행해보도록하겠습니다."
      ],
      "metadata": {
        "id": "IHX7S_v7iEXg"
      }
    },
    {
      "cell_type": "code",
      "source": [
        "from sklearn.datasets import load_diabetes\n",
        "\n",
        "dia_x, dia_y = load_diabetes(return_X_y=True, as_frame=True)"
      ],
      "metadata": {
        "id": "BbW4h8UiiEFS"
      },
      "execution_count": null,
      "outputs": []
    },
    {
      "cell_type": "code",
      "source": [
        "X_train, X_test, y_train, y_test = train_test_split(dia_x, dia_y, test_size = 0.2, random_state = 0)"
      ],
      "metadata": {
        "id": "syz6RlPBmG7g"
      },
      "execution_count": null,
      "outputs": []
    },
    {
      "cell_type": "code",
      "source": [
        "from sklearn.ensemble import RandomForestRegressor\n",
        "\n",
        "RF_reg = RandomForestRegressor(random_state=0)\n",
        "RF_reg.fit(X_train, y_train)"
      ],
      "metadata": {
        "colab": {
          "base_uri": "https://localhost:8080/",
          "height": 75
        },
        "id": "MSiPD7DDloP8",
        "outputId": "041eda14-8b56-4783-e5d3-51d60a31d8f4"
      },
      "execution_count": null,
      "outputs": [
        {
          "output_type": "execute_result",
          "data": {
            "text/plain": [
              "RandomForestRegressor(random_state=0)"
            ],
            "text/html": [
              "<style>#sk-container-id-2 {color: black;background-color: white;}#sk-container-id-2 pre{padding: 0;}#sk-container-id-2 div.sk-toggleable {background-color: white;}#sk-container-id-2 label.sk-toggleable__label {cursor: pointer;display: block;width: 100%;margin-bottom: 0;padding: 0.3em;box-sizing: border-box;text-align: center;}#sk-container-id-2 label.sk-toggleable__label-arrow:before {content: \"▸\";float: left;margin-right: 0.25em;color: #696969;}#sk-container-id-2 label.sk-toggleable__label-arrow:hover:before {color: black;}#sk-container-id-2 div.sk-estimator:hover label.sk-toggleable__label-arrow:before {color: black;}#sk-container-id-2 div.sk-toggleable__content {max-height: 0;max-width: 0;overflow: hidden;text-align: left;background-color: #f0f8ff;}#sk-container-id-2 div.sk-toggleable__content pre {margin: 0.2em;color: black;border-radius: 0.25em;background-color: #f0f8ff;}#sk-container-id-2 input.sk-toggleable__control:checked~div.sk-toggleable__content {max-height: 200px;max-width: 100%;overflow: auto;}#sk-container-id-2 input.sk-toggleable__control:checked~label.sk-toggleable__label-arrow:before {content: \"▾\";}#sk-container-id-2 div.sk-estimator input.sk-toggleable__control:checked~label.sk-toggleable__label {background-color: #d4ebff;}#sk-container-id-2 div.sk-label input.sk-toggleable__control:checked~label.sk-toggleable__label {background-color: #d4ebff;}#sk-container-id-2 input.sk-hidden--visually {border: 0;clip: rect(1px 1px 1px 1px);clip: rect(1px, 1px, 1px, 1px);height: 1px;margin: -1px;overflow: hidden;padding: 0;position: absolute;width: 1px;}#sk-container-id-2 div.sk-estimator {font-family: monospace;background-color: #f0f8ff;border: 1px dotted black;border-radius: 0.25em;box-sizing: border-box;margin-bottom: 0.5em;}#sk-container-id-2 div.sk-estimator:hover {background-color: #d4ebff;}#sk-container-id-2 div.sk-parallel-item::after {content: \"\";width: 100%;border-bottom: 1px solid gray;flex-grow: 1;}#sk-container-id-2 div.sk-label:hover label.sk-toggleable__label {background-color: #d4ebff;}#sk-container-id-2 div.sk-serial::before {content: \"\";position: absolute;border-left: 1px solid gray;box-sizing: border-box;top: 0;bottom: 0;left: 50%;z-index: 0;}#sk-container-id-2 div.sk-serial {display: flex;flex-direction: column;align-items: center;background-color: white;padding-right: 0.2em;padding-left: 0.2em;position: relative;}#sk-container-id-2 div.sk-item {position: relative;z-index: 1;}#sk-container-id-2 div.sk-parallel {display: flex;align-items: stretch;justify-content: center;background-color: white;position: relative;}#sk-container-id-2 div.sk-item::before, #sk-container-id-2 div.sk-parallel-item::before {content: \"\";position: absolute;border-left: 1px solid gray;box-sizing: border-box;top: 0;bottom: 0;left: 50%;z-index: -1;}#sk-container-id-2 div.sk-parallel-item {display: flex;flex-direction: column;z-index: 1;position: relative;background-color: white;}#sk-container-id-2 div.sk-parallel-item:first-child::after {align-self: flex-end;width: 50%;}#sk-container-id-2 div.sk-parallel-item:last-child::after {align-self: flex-start;width: 50%;}#sk-container-id-2 div.sk-parallel-item:only-child::after {width: 0;}#sk-container-id-2 div.sk-dashed-wrapped {border: 1px dashed gray;margin: 0 0.4em 0.5em 0.4em;box-sizing: border-box;padding-bottom: 0.4em;background-color: white;}#sk-container-id-2 div.sk-label label {font-family: monospace;font-weight: bold;display: inline-block;line-height: 1.2em;}#sk-container-id-2 div.sk-label-container {text-align: center;}#sk-container-id-2 div.sk-container {/* jupyter's `normalize.less` sets `[hidden] { display: none; }` but bootstrap.min.css set `[hidden] { display: none !important; }` so we also need the `!important` here to be able to override the default hidden behavior on the sphinx rendered scikit-learn.org. See: https://github.com/scikit-learn/scikit-learn/issues/21755 */display: inline-block !important;position: relative;}#sk-container-id-2 div.sk-text-repr-fallback {display: none;}</style><div id=\"sk-container-id-2\" class=\"sk-top-container\"><div class=\"sk-text-repr-fallback\"><pre>RandomForestRegressor(random_state=0)</pre><b>In a Jupyter environment, please rerun this cell to show the HTML representation or trust the notebook. <br />On GitHub, the HTML representation is unable to render, please try loading this page with nbviewer.org.</b></div><div class=\"sk-container\" hidden><div class=\"sk-item\"><div class=\"sk-estimator sk-toggleable\"><input class=\"sk-toggleable__control sk-hidden--visually\" id=\"sk-estimator-id-2\" type=\"checkbox\" checked><label for=\"sk-estimator-id-2\" class=\"sk-toggleable__label sk-toggleable__label-arrow\">RandomForestRegressor</label><div class=\"sk-toggleable__content\"><pre>RandomForestRegressor(random_state=0)</pre></div></div></div></div></div>"
            ]
          },
          "metadata": {},
          "execution_count": 47
        }
      ]
    },
    {
      "cell_type": "code",
      "source": [
        "y_hat = RF_reg.predict(X_test)"
      ],
      "metadata": {
        "id": "OT-x_P-blpkm"
      },
      "execution_count": null,
      "outputs": []
    },
    {
      "cell_type": "code",
      "source": [
        "from sklearn.metrics import mean_absolute_error, mean_absolute_percentage_error, r2_score\n",
        "\n",
        "print('MAE : ',mean_absolute_error(y_true = y_test, y_pred = y_hat))\n",
        "print('MAPE : ',mean_absolute_percentage_error(y_true = y_test, y_pred = y_hat))\n",
        "print('R2 : ',r2_score(y_true = y_test, y_pred = y_hat))\n"
      ],
      "metadata": {
        "colab": {
          "base_uri": "https://localhost:8080/"
        },
        "id": "uT2MIV2XoBfY",
        "outputId": "ba34871d-551c-42a2-a097-1ced1f22f796"
      },
      "execution_count": null,
      "outputs": [
        {
          "output_type": "stream",
          "name": "stdout",
          "text": [
            "MAE :  47.75224719101124\n",
            "MAPE :  0.3927563646069564\n",
            "R2 :  0.26865181564422547\n"
          ]
        }
      ]
    }
  ]
}