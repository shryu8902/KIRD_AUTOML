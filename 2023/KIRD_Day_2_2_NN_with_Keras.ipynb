{
  "nbformat": 4,
  "nbformat_minor": 0,
  "metadata": {
    "colab": {
      "provenance": [],
      "toc_visible": true,
      "gpuType": "T4",
      "authorship_tag": "ABX9TyNyKxO05X6X4Mrqn9JGfk6m",
      "include_colab_link": true
    },
    "kernelspec": {
      "name": "python3",
      "display_name": "Python 3"
    },
    "language_info": {
      "name": "python"
    },
    "accelerator": "GPU"
  },
  "cells": [
    {
      "cell_type": "markdown",
      "metadata": {
        "id": "view-in-github",
        "colab_type": "text"
      },
      "source": [
        "<a href=\"https://colab.research.google.com/github/shryu8902/KIRD_AUTOML/blob/main/KIRD_Day_2_2_NN_with_Keras.ipynb\" target=\"_parent\"><img src=\"https://colab.research.google.com/assets/colab-badge.svg\" alt=\"Open In Colab\"/></a>"
      ]
    },
    {
      "cell_type": "markdown",
      "source": [
        "# 1. 딥러닝 with Keras\n",
        "\n",
        "케라스는 딥러닝을 위한 텐서플로우 (tensorflow) 기반 하이레벨 API 입니다.\n"
      ],
      "metadata": {
        "id": "O5ZoskCGjpaN"
      }
    },
    {
      "cell_type": "markdown",
      "source": [
        "## 1. 기본 Keras 코드"
      ],
      "metadata": {
        "id": "OoBAMVA4mxT_"
      }
    },
    {
      "cell_type": "code",
      "execution_count": null,
      "metadata": {
        "id": "rhmMqNY3jgqO"
      },
      "outputs": [],
      "source": [
        "import numpy as np\n",
        "import matplotlib.pyplot as plt\n",
        "from tensorflow.keras.models import Sequential\n",
        "from tensorflow.keras.layers import Dense\n",
        "from sklearn.datasets import load_diabetes\n",
        "from sklearn.model_selection import train_test_split\n",
        "from sklearn.preprocessing import StandardScaler\n",
        "\n"
      ]
    },
    {
      "cell_type": "code",
      "source": [
        "# 당뇨 데이터셋 불러오기\n",
        "raw_data = load_diabetes()\n",
        "print(raw_data.DESCR)"
      ],
      "metadata": {
        "colab": {
          "base_uri": "https://localhost:8080/"
        },
        "id": "KydJ8epTlv7T",
        "outputId": "50d640f9-0993-468c-d826-fc89a71c2e9e"
      },
      "execution_count": null,
      "outputs": [
        {
          "output_type": "stream",
          "name": "stdout",
          "text": [
            ".. _diabetes_dataset:\n",
            "\n",
            "Diabetes dataset\n",
            "----------------\n",
            "\n",
            "Ten baseline variables, age, sex, body mass index, average blood\n",
            "pressure, and six blood serum measurements were obtained for each of n =\n",
            "442 diabetes patients, as well as the response of interest, a\n",
            "quantitative measure of disease progression one year after baseline.\n",
            "\n",
            "**Data Set Characteristics:**\n",
            "\n",
            "  :Number of Instances: 442\n",
            "\n",
            "  :Number of Attributes: First 10 columns are numeric predictive values\n",
            "\n",
            "  :Target: Column 11 is a quantitative measure of disease progression one year after baseline\n",
            "\n",
            "  :Attribute Information:\n",
            "      - age     age in years\n",
            "      - sex\n",
            "      - bmi     body mass index\n",
            "      - bp      average blood pressure\n",
            "      - s1      tc, total serum cholesterol\n",
            "      - s2      ldl, low-density lipoproteins\n",
            "      - s3      hdl, high-density lipoproteins\n",
            "      - s4      tch, total cholesterol / HDL\n",
            "      - s5      ltg, possibly log of serum triglycerides level\n",
            "      - s6      glu, blood sugar level\n",
            "\n",
            "Note: Each of these 10 feature variables have been mean centered and scaled by the standard deviation times the square root of `n_samples` (i.e. the sum of squares of each column totals 1).\n",
            "\n",
            "Source URL:\n",
            "https://www4.stat.ncsu.edu/~boos/var.select/diabetes.html\n",
            "\n",
            "For more information see:\n",
            "Bradley Efron, Trevor Hastie, Iain Johnstone and Robert Tibshirani (2004) \"Least Angle Regression,\" Annals of Statistics (with discussion), 407-499.\n",
            "(https://web.stanford.edu/~hastie/Papers/LARS/LeastAngle_2002.pdf)\n",
            "\n"
          ]
        }
      ]
    },
    {
      "cell_type": "code",
      "source": [
        "# 입력 특성과 타겟 변수 나누기\n",
        "X = raw_data.data\n",
        "y = raw_data.target\n",
        "\n",
        "# 데이터 정규화\n",
        "scaler = StandardScaler()\n",
        "X = scaler.fit_transform(X)\n",
        "\n",
        "# 훈련 데이터와 테스트 데이터로 나누기\n",
        "X_train, X_test, y_train, y_test = train_test_split(X, y, test_size=0.2, random_state=0)"
      ],
      "metadata": {
        "id": "275mcKVPnB5u"
      },
      "execution_count": null,
      "outputs": []
    },
    {
      "cell_type": "code",
      "source": [
        "# 모델 구성\n",
        "model = Sequential()\n",
        "model.add(Dense(64, activation='relu', input_shape=(X_train.shape[1],)))\n",
        "model.add(Dense(64, activation='relu'))\n",
        "model.add(Dense(1))"
      ],
      "metadata": {
        "id": "DSNDch3xpIBy"
      },
      "execution_count": null,
      "outputs": []
    },
    {
      "cell_type": "code",
      "source": [
        "model.summary()"
      ],
      "metadata": {
        "colab": {
          "base_uri": "https://localhost:8080/"
        },
        "id": "jgYGbopepJh8",
        "outputId": "a9539ff3-1635-48c5-d6b5-9f0f3e49f617"
      },
      "execution_count": null,
      "outputs": [
        {
          "output_type": "stream",
          "name": "stdout",
          "text": [
            "Model: \"sequential\"\n",
            "_________________________________________________________________\n",
            " Layer (type)                Output Shape              Param #   \n",
            "=================================================================\n",
            " dense (Dense)               (None, 64)                704       \n",
            "                                                                 \n",
            " dense_1 (Dense)             (None, 64)                4160      \n",
            "                                                                 \n",
            " dense_2 (Dense)             (None, 1)                 65        \n",
            "                                                                 \n",
            "=================================================================\n",
            "Total params: 4,929\n",
            "Trainable params: 4,929\n",
            "Non-trainable params: 0\n",
            "_________________________________________________________________\n"
          ]
        }
      ]
    },
    {
      "cell_type": "code",
      "source": [
        "# 모델 컴파일\n",
        "model.compile(optimizer='adam', loss='mean_squared_error')\n",
        "\n",
        "# 모델 훈련\n",
        "history = model.fit(X_train, y_train, epochs=100, batch_size=32, verbose=0)\n"
      ],
      "metadata": {
        "id": "RO6jQw49pM5X"
      },
      "execution_count": null,
      "outputs": []
    },
    {
      "cell_type": "code",
      "source": [
        "# 테스트 데이터로 예측\n",
        "y_pred = model.predict(X_test)\n"
      ],
      "metadata": {
        "colab": {
          "base_uri": "https://localhost:8080/"
        },
        "id": "-yIuN8TrpOnG",
        "outputId": "2a5e8934-47f9-45bc-db86-48d750f7792f"
      },
      "execution_count": null,
      "outputs": [
        {
          "output_type": "stream",
          "name": "stdout",
          "text": [
            "3/3 [==============================] - 0s 3ms/step\n"
          ]
        }
      ]
    },
    {
      "cell_type": "code",
      "source": [
        "plt.scatter(y_test, y_pred)\n",
        "plt.plot([min(y_test), max(y_test)], [min(y_test), max(y_test)], 'r--')  # x=y 그래프\n",
        "plt.xlabel('True Values')\n",
        "plt.ylabel('Predictions')\n",
        "plt.title('Boston Housing Prices - True Values vs. Predictions')\n",
        "plt.show()"
      ],
      "metadata": {
        "colab": {
          "base_uri": "https://localhost:8080/",
          "height": 472
        },
        "id": "lEvIz-uSqkPi",
        "outputId": "2574ecda-51d6-420b-987b-dff3c389af04"
      },
      "execution_count": null,
      "outputs": [
        {
          "output_type": "display_data",
          "data": {
            "text/plain": [
              "<Figure size 640x480 with 1 Axes>"
            ],
            "image/png": "[encoded data removed]"
          },
          "metadata": {}
        }
      ]
    },
    {
      "cell_type": "code",
      "source": [
        "plt.plot(history.history['loss'])\n",
        "plt.title('Training Loss')\n",
        "plt.xlabel('Epoch')\n",
        "plt.ylabel('Loss')\n",
        "plt.show()\n"
      ],
      "metadata": {
        "colab": {
          "base_uri": "https://localhost:8080/",
          "height": 472
        },
        "id": "QP_-ymSGpT3a",
        "outputId": "c6725a8b-b9fa-4029-f954-4329dc701970"
      },
      "execution_count": null,
      "outputs": [
        {
          "output_type": "display_data",
          "data": {
            "text/plain": [
              "<Figure size 640x480 with 1 Axes>"
            ],
            "image/png": "[encoded data removed]"
          },
          "metadata": {}
        }
      ]
    },
    {
      "cell_type": "code",
      "source": [
        "from sklearn import metrics\n",
        "\n",
        "# MAE (Mean Absolute Error)\n",
        "mae = metrics.mean_absolute_error(y_test, y_pred)\n",
        "print(f\"MAE: {mae:.2f}\")\n",
        "\n",
        "# MAPE (Mean Absolute Percentage Error)\n",
        "mape = metrics.mean_absolute_percentage_error(y_test, y_pred)\n",
        "print(f\"MAPE: {mape*100:.2f}%\")\n",
        "\n",
        "# R2 Score (coefficient of determination)\n",
        "r2 = metrics.r2_score(y_test, y_pred)\n",
        "print(f\"R2 Score: {r2:.2f}\")\n"
      ],
      "metadata": {
        "colab": {
          "base_uri": "https://localhost:8080/"
        },
        "id": "BYQTn_G1qjgt",
        "outputId": "fef9a471-7145-43dc-f10e-98246c703250"
      },
      "execution_count": null,
      "outputs": [
        {
          "output_type": "stream",
          "name": "stdout",
          "text": [
            "MAE: 46.34\n",
            "MAPE: 37.08%\n",
            "R2 Score: 0.29\n"
          ]
        }
      ]
    },
    {
      "cell_type": "markdown",
      "source": [
        "## 2. 텐서플로우 주요 레이어의 동작 확인"
      ],
      "metadata": {
        "id": "ynC9anjUs5Tq"
      }
    },
    {
      "cell_type": "code",
      "source": [
        "# 기본 Dense layer\n",
        "import tensorflow as tf\n",
        "\n",
        "x = tf.ones((100,10))\n",
        "y = tf.keras.layers.Dense(20)(x)\n",
        "print(y[0])\n",
        "print(y.shape)"
      ],
      "metadata": {
        "colab": {
          "base_uri": "https://localhost:8080/"
        },
        "id": "VNt1xyMEuu-1",
        "outputId": "0c366d3b-8409-4282-fe42-a4366e3de8ac"
      },
      "execution_count": null,
      "outputs": [
        {
          "output_type": "stream",
          "name": "stdout",
          "text": [
            "tf.Tensor(\n",
            "[-0.02114236 -0.26937884 -0.14023125 -1.3243799   0.85108584  0.31750202\n",
            "  0.5892035   0.29753083  0.41936466 -1.16449     1.1314337  -2.2844262\n",
            " -0.7203632   0.37939352  0.22943044 -0.25335866  1.0397267   0.29309672\n",
            " -0.03302133  0.05817726], shape=(20,), dtype=float32)\n",
            "(100, 20)\n"
          ]
        }
      ]
    },
    {
      "cell_type": "code",
      "source": [
        "x = tf.ones((100,10))\n",
        "y = tf.keras.layers.Dense(20, activation='relu')(x)\n",
        "print(y[0])\n",
        "print(y.shape)"
      ],
      "metadata": {
        "colab": {
          "base_uri": "https://localhost:8080/"
        },
        "id": "pKBFNZkBvVPi",
        "outputId": "b3f2012f-527b-44dd-c835-09f589e3daab"
      },
      "execution_count": null,
      "outputs": [
        {
          "output_type": "stream",
          "name": "stdout",
          "text": [
            "tf.Tensor(\n",
            "[0.         0.         0.29999536 0.         1.128813   0.9141826\n",
            " 0.         0.         0.         0.         0.7937137  0.10884088\n",
            " 0.         0.         0.73168445 0.6924164  0.         0.10376501\n",
            " 0.4306449  0.        ], shape=(20,), dtype=float32)\n",
            "(100, 20)\n"
          ]
        }
      ]
    },
    {
      "cell_type": "code",
      "source": [
        "x = tf.ones((100,3,10))\n",
        "y = tf.keras.layers.Dense(20, activation='selu')(x)\n",
        "print(y[0])\n",
        "print(y.shape)"
      ],
      "metadata": {
        "colab": {
          "base_uri": "https://localhost:8080/"
        },
        "id": "Dy6_DkSRvfyc",
        "outputId": "753a4ff7-f136-4ebe-ab9b-32d401a7669c"
      },
      "execution_count": null,
      "outputs": [
        {
          "output_type": "stream",
          "name": "stdout",
          "text": [
            "tf.Tensor(\n",
            "[[-0.4612942  -1.2607166   0.6381864  -1.0042187   1.7762218  -0.73869854\n",
            "   0.9379199   0.64424336 -1.2065094   0.8090192  -0.57249284  0.08140461\n",
            "   0.09970669 -0.44855723 -0.21643102  0.16648975  0.8828404  -0.4644177\n",
            "   0.59270096 -0.92315143]\n",
            " [-0.4612942  -1.2607166   0.6381864  -1.0042187   1.7762218  -0.73869854\n",
            "   0.9379199   0.64424336 -1.2065094   0.8090192  -0.57249284  0.08140461\n",
            "   0.09970669 -0.44855723 -0.21643102  0.16648975  0.8828404  -0.4644177\n",
            "   0.59270096 -0.92315143]\n",
            " [-0.4612942  -1.2607166   0.6381864  -1.0042187   1.7762218  -0.73869854\n",
            "   0.9379199   0.64424336 -1.2065094   0.8090192  -0.57249284  0.08140461\n",
            "   0.09970669 -0.44855723 -0.21643102  0.16648975  0.8828404  -0.4644177\n",
            "   0.59270096 -0.92315143]], shape=(3, 20), dtype=float32)\n",
            "(100, 3, 20)\n"
          ]
        }
      ]
    },
    {
      "cell_type": "code",
      "source": [
        "# Convolution layer\n",
        "x = tf.ones((100, 32, 32, 3))\n",
        "conv_layer = tf.keras.layers.Conv2D(16, kernel_size=(3, 3))\n",
        "y = conv_layer(x)\n",
        "\n",
        "# 출력 확인\n",
        "print(y[0])\n",
        "print(y.shape)"
      ],
      "metadata": {
        "colab": {
          "base_uri": "https://localhost:8080/"
        },
        "id": "-NSbvgLIwE8h",
        "outputId": "b6f08f53-8202-4b97-8750-2ee699134b5f"
      },
      "execution_count": null,
      "outputs": [
        {
          "output_type": "stream",
          "name": "stdout",
          "text": [
            "tf.Tensor(\n",
            "[[[ 0.15926678 -0.5354266   0.07550141 ... -0.6327461  -0.62567335\n",
            "   -0.58985496]\n",
            "  [ 0.15926678 -0.5354266   0.07550141 ... -0.6327461  -0.62567335\n",
            "   -0.58985496]\n",
            "  [ 0.15926678 -0.5354266   0.07550141 ... -0.6327461  -0.62567335\n",
            "   -0.58985496]\n",
            "  ...\n",
            "  [ 0.15926678 -0.5354266   0.07550141 ... -0.6327461  -0.62567335\n",
            "   -0.58985496]\n",
            "  [ 0.15926678 -0.5354266   0.07550141 ... -0.6327461  -0.62567335\n",
            "   -0.58985496]\n",
            "  [ 0.15926678 -0.5354266   0.07550141 ... -0.6327461  -0.62567335\n",
            "   -0.58985496]]\n",
            "\n",
            " [[ 0.15926678 -0.5354266   0.07550141 ... -0.6327461  -0.62567335\n",
            "   -0.58985496]\n",
            "  [ 0.15926678 -0.5354266   0.07550141 ... -0.6327461  -0.62567335\n",
            "   -0.58985496]\n",
            "  [ 0.15926678 -0.5354266   0.07550141 ... -0.6327461  -0.62567335\n",
            "   -0.58985496]\n",
            "  ...\n",
            "  [ 0.15926678 -0.5354266   0.07550141 ... -0.6327461  -0.62567335\n",
            "   -0.58985496]\n",
            "  [ 0.15926678 -0.5354266   0.07550141 ... -0.6327461  -0.62567335\n",
            "   -0.58985496]\n",
            "  [ 0.15926678 -0.5354266   0.07550141 ... -0.6327461  -0.62567335\n",
            "   -0.58985496]]\n",
            "\n",
            " [[ 0.15926678 -0.5354266   0.07550141 ... -0.6327461  -0.62567335\n",
            "   -0.58985496]\n",
            "  [ 0.15926678 -0.5354266   0.07550141 ... -0.6327461  -0.62567335\n",
            "   -0.58985496]\n",
            "  [ 0.15926678 -0.5354266   0.07550141 ... -0.6327461  -0.62567335\n",
            "   -0.58985496]\n",
            "  ...\n",
            "  [ 0.15926678 -0.5354266   0.07550141 ... -0.6327461  -0.62567335\n",
            "   -0.58985496]\n",
            "  [ 0.15926678 -0.5354266   0.07550141 ... -0.6327461  -0.62567335\n",
            "   -0.58985496]\n",
            "  [ 0.15926678 -0.5354266   0.07550141 ... -0.6327461  -0.62567335\n",
            "   -0.58985496]]\n",
            "\n",
            " ...\n",
            "\n",
            " [[ 0.15926678 -0.5354266   0.07550141 ... -0.6327461  -0.62567335\n",
            "   -0.58985496]\n",
            "  [ 0.15926678 -0.5354266   0.07550141 ... -0.6327461  -0.62567335\n",
            "   -0.58985496]\n",
            "  [ 0.15926678 -0.5354266   0.07550141 ... -0.6327461  -0.62567335\n",
            "   -0.58985496]\n",
            "  ...\n",
            "  [ 0.15926678 -0.5354266   0.07550141 ... -0.6327461  -0.62567335\n",
            "   -0.58985496]\n",
            "  [ 0.15926678 -0.5354266   0.07550141 ... -0.6327461  -0.62567335\n",
            "   -0.58985496]\n",
            "  [ 0.15926678 -0.5354266   0.07550141 ... -0.6327461  -0.62567335\n",
            "   -0.58985496]]\n",
            "\n",
            " [[ 0.15926678 -0.5354266   0.07550141 ... -0.6327461  -0.62567335\n",
            "   -0.58985496]\n",
            "  [ 0.15926678 -0.5354266   0.07550141 ... -0.6327461  -0.62567335\n",
            "   -0.58985496]\n",
            "  [ 0.15926678 -0.5354266   0.07550141 ... -0.6327461  -0.62567335\n",
            "   -0.58985496]\n",
            "  ...\n",
            "  [ 0.15926678 -0.5354266   0.07550141 ... -0.6327461  -0.62567335\n",
            "   -0.58985496]\n",
            "  [ 0.15926678 -0.5354266   0.07550141 ... -0.6327461  -0.62567335\n",
            "   -0.58985496]\n",
            "  [ 0.15926678 -0.5354266   0.07550141 ... -0.6327461  -0.62567335\n",
            "   -0.58985496]]\n",
            "\n",
            " [[ 0.15926678 -0.5354266   0.07550141 ... -0.6327461  -0.62567335\n",
            "   -0.58985496]\n",
            "  [ 0.15926678 -0.5354266   0.07550141 ... -0.6327461  -0.62567335\n",
            "   -0.58985496]\n",
            "  [ 0.15926678 -0.5354266   0.07550141 ... -0.6327461  -0.62567335\n",
            "   -0.58985496]\n",
            "  ...\n",
            "  [ 0.15926678 -0.5354266   0.07550141 ... -0.6327461  -0.62567335\n",
            "   -0.58985496]\n",
            "  [ 0.15926678 -0.5354266   0.07550141 ... -0.6327461  -0.62567335\n",
            "   -0.58985496]\n",
            "  [ 0.15926678 -0.5354266   0.07550141 ... -0.6327461  -0.62567335\n",
            "   -0.58985496]]], shape=(30, 30, 16), dtype=float32)\n",
            "(100, 30, 30, 16)\n"
          ]
        }
      ]
    },
    {
      "cell_type": "code",
      "source": [
        "# LSTM layer\n",
        "x = tf.ones((100, 10, 32))\n",
        "lstm_layer = tf.keras.layers.LSTM(64)\n",
        "y = lstm_layer(x)\n",
        "\n",
        "# 출력 확인\n",
        "print(y[0])\n",
        "print(y.shape)"
      ],
      "metadata": {
        "colab": {
          "base_uri": "https://localhost:8080/"
        },
        "id": "U4WucpdIwYma",
        "outputId": "91861d20-99d1-476a-9236-fb932171ae56"
      },
      "execution_count": null,
      "outputs": [
        {
          "output_type": "stream",
          "name": "stdout",
          "text": [
            "tf.Tensor(\n",
            "[ 0.41524258 -0.08113306  0.23876591  0.26216227  0.21961346 -0.18857718\n",
            " -0.3576368  -0.48978075  0.2578544   0.17102201 -0.2103363  -0.15535785\n",
            " -0.05947609  0.29848236  0.06670788 -0.18941678 -0.04239445 -0.04713926\n",
            "  0.1546987  -0.24254873 -0.179846   -0.36347485 -0.1866643   0.24693832\n",
            "  0.2953274  -0.38907593 -0.31140962  0.430104   -0.13667175  0.03193688\n",
            " -0.26111647 -0.0584886   0.36379632 -0.3079898   0.21167736  0.02809984\n",
            "  0.19664444 -0.3817192  -0.2287812   0.15662892  0.29048067  0.21077119\n",
            "  0.3693508  -0.30350357 -0.21542175 -0.48446378 -0.00850243  0.37060127\n",
            " -0.31663892 -0.19459358 -0.44095153  0.34055018 -0.04257359 -0.09661432\n",
            "  0.34661344 -0.22511415  0.20284326  0.352514    0.22174212 -0.33794656\n",
            "  0.32136473 -0.60753816 -0.49772012 -0.55776364], shape=(64,), dtype=float32)\n",
            "(100, 64)\n"
          ]
        }
      ]
    },
    {
      "cell_type": "code",
      "source": [
        "# LSTM layer\n",
        "x = tf.ones((100, 10, 32))\n",
        "lstm_layer1 = tf.keras.layers.LSTM(64)\n",
        "lstm_layer2 = tf.keras.layers.LSTM(64)\n",
        "y1 = lstm_layer1(x)\n",
        "y2 = lstm_layer2(y1)\n",
        "# 출력 확인\n",
        "print(y1[0])\n",
        "print(y1.shape)"
      ],
      "metadata": {
        "colab": {
          "base_uri": "https://localhost:8080/",
          "height": 426
        },
        "id": "xI0ERw9Sw1m-",
        "outputId": "f5a9267a-f058-48b4-db54-908d7f869374"
      },
      "execution_count": null,
      "outputs": [
        {
          "output_type": "error",
          "ename": "ValueError",
          "evalue": "ignored",
          "traceback": [
            "\u001b[0;31m---------------------------------------------------------------------------\u001b[0m",
            "\u001b[0;31mValueError\u001b[0m                                Traceback (most recent call last)",
            "\u001b[0;32m<ipython-input-16-cf034b3df05f>\u001b[0m in \u001b[0;36m<cell line: 6>\u001b[0;34m()\u001b[0m\n\u001b[1;32m      4\u001b[0m \u001b[0mlstm_layer2\u001b[0m \u001b[0;34m=\u001b[0m \u001b[0mtf\u001b[0m\u001b[0;34m.\u001b[0m\u001b[0mkeras\u001b[0m\u001b[0;34m.\u001b[0m\u001b[0mlayers\u001b[0m\u001b[0;34m.\u001b[0m\u001b[0mLSTM\u001b[0m\u001b[0;34m(\u001b[0m\u001b[0;36m64\u001b[0m\u001b[0;34m)\u001b[0m\u001b[0;34m\u001b[0m\u001b[0;34m\u001b[0m\u001b[0m\n\u001b[1;32m      5\u001b[0m \u001b[0my1\u001b[0m \u001b[0;34m=\u001b[0m \u001b[0mlstm_layer1\u001b[0m\u001b[0;34m(\u001b[0m\u001b[0mx\u001b[0m\u001b[0;34m)\u001b[0m\u001b[0;34m\u001b[0m\u001b[0;34m\u001b[0m\u001b[0m\n\u001b[0;32m----> 6\u001b[0;31m \u001b[0my2\u001b[0m \u001b[0;34m=\u001b[0m \u001b[0mlstm_layer2\u001b[0m\u001b[0;34m(\u001b[0m\u001b[0my1\u001b[0m\u001b[0;34m)\u001b[0m\u001b[0;34m\u001b[0m\u001b[0;34m\u001b[0m\u001b[0m\n\u001b[0m\u001b[1;32m      7\u001b[0m \u001b[0;31m# 출력 확인\u001b[0m\u001b[0;34m\u001b[0m\u001b[0;34m\u001b[0m\u001b[0m\n\u001b[1;32m      8\u001b[0m \u001b[0mprint\u001b[0m\u001b[0;34m(\u001b[0m\u001b[0my1\u001b[0m\u001b[0;34m[\u001b[0m\u001b[0;36m0\u001b[0m\u001b[0;34m]\u001b[0m\u001b[0;34m)\u001b[0m\u001b[0;34m\u001b[0m\u001b[0;34m\u001b[0m\u001b[0m\n",
            "\u001b[0;32m/usr/local/lib/python3.10/dist-packages/keras/layers/rnn/base_rnn.py\u001b[0m in \u001b[0;36m__call__\u001b[0;34m(self, inputs, initial_state, constants, **kwargs)\u001b[0m\n\u001b[1;32m    554\u001b[0m \u001b[0;34m\u001b[0m\u001b[0m\n\u001b[1;32m    555\u001b[0m         \u001b[0;32mif\u001b[0m \u001b[0minitial_state\u001b[0m \u001b[0;32mis\u001b[0m \u001b[0;32mNone\u001b[0m \u001b[0;32mand\u001b[0m \u001b[0mconstants\u001b[0m \u001b[0;32mis\u001b[0m \u001b[0;32mNone\u001b[0m\u001b[0;34m:\u001b[0m\u001b[0;34m\u001b[0m\u001b[0;34m\u001b[0m\u001b[0m\n\u001b[0;32m--> 556\u001b[0;31m             \u001b[0;32mreturn\u001b[0m \u001b[0msuper\u001b[0m\u001b[0;34m(\u001b[0m\u001b[0;34m)\u001b[0m\u001b[0;34m.\u001b[0m\u001b[0m__call__\u001b[0m\u001b[0;34m(\u001b[0m\u001b[0minputs\u001b[0m\u001b[0;34m,\u001b[0m \u001b[0;34m**\u001b[0m\u001b[0mkwargs\u001b[0m\u001b[0;34m)\u001b[0m\u001b[0;34m\u001b[0m\u001b[0;34m\u001b[0m\u001b[0m\n\u001b[0m\u001b[1;32m    557\u001b[0m \u001b[0;34m\u001b[0m\u001b[0m\n\u001b[1;32m    558\u001b[0m         \u001b[0;31m# If any of `initial_state` or `constants` are specified and are Keras\u001b[0m\u001b[0;34m\u001b[0m\u001b[0;34m\u001b[0m\u001b[0m\n",
            "\u001b[0;32m/usr/local/lib/python3.10/dist-packages/keras/utils/traceback_utils.py\u001b[0m in \u001b[0;36merror_handler\u001b[0;34m(*args, **kwargs)\u001b[0m\n\u001b[1;32m     68\u001b[0m             \u001b[0;31m# To get the full stack trace, call:\u001b[0m\u001b[0;34m\u001b[0m\u001b[0;34m\u001b[0m\u001b[0m\n\u001b[1;32m     69\u001b[0m             \u001b[0;31m# `tf.debugging.disable_traceback_filtering()`\u001b[0m\u001b[0;34m\u001b[0m\u001b[0;34m\u001b[0m\u001b[0m\n\u001b[0;32m---> 70\u001b[0;31m             \u001b[0;32mraise\u001b[0m \u001b[0me\u001b[0m\u001b[0;34m.\u001b[0m\u001b[0mwith_traceback\u001b[0m\u001b[0;34m(\u001b[0m\u001b[0mfiltered_tb\u001b[0m\u001b[0;34m)\u001b[0m \u001b[0;32mfrom\u001b[0m \u001b[0;32mNone\u001b[0m\u001b[0;34m\u001b[0m\u001b[0;34m\u001b[0m\u001b[0m\n\u001b[0m\u001b[1;32m     71\u001b[0m         \u001b[0;32mfinally\u001b[0m\u001b[0;34m:\u001b[0m\u001b[0;34m\u001b[0m\u001b[0;34m\u001b[0m\u001b[0m\n\u001b[1;32m     72\u001b[0m             \u001b[0;32mdel\u001b[0m \u001b[0mfiltered_tb\u001b[0m\u001b[0;34m\u001b[0m\u001b[0;34m\u001b[0m\u001b[0m\n",
            "\u001b[0;32m/usr/local/lib/python3.10/dist-packages/keras/engine/input_spec.py\u001b[0m in \u001b[0;36massert_input_compatibility\u001b[0;34m(input_spec, inputs, layer_name)\u001b[0m\n\u001b[1;32m    233\u001b[0m             \u001b[0mndim\u001b[0m \u001b[0;34m=\u001b[0m \u001b[0mshape\u001b[0m\u001b[0;34m.\u001b[0m\u001b[0mrank\u001b[0m\u001b[0;34m\u001b[0m\u001b[0;34m\u001b[0m\u001b[0m\n\u001b[1;32m    234\u001b[0m             \u001b[0;32mif\u001b[0m \u001b[0mndim\u001b[0m \u001b[0;34m!=\u001b[0m \u001b[0mspec\u001b[0m\u001b[0;34m.\u001b[0m\u001b[0mndim\u001b[0m\u001b[0;34m:\u001b[0m\u001b[0;34m\u001b[0m\u001b[0;34m\u001b[0m\u001b[0m\n\u001b[0;32m--> 235\u001b[0;31m                 raise ValueError(\n\u001b[0m\u001b[1;32m    236\u001b[0m                     \u001b[0;34mf'Input {input_index} of layer \"{layer_name}\" '\u001b[0m\u001b[0;34m\u001b[0m\u001b[0;34m\u001b[0m\u001b[0m\n\u001b[1;32m    237\u001b[0m                     \u001b[0;34m\"is incompatible with the layer: \"\u001b[0m\u001b[0;34m\u001b[0m\u001b[0;34m\u001b[0m\u001b[0m\n",
            "\u001b[0;31mValueError\u001b[0m: Input 0 of layer \"lstm_2\" is incompatible with the layer: expected ndim=3, found ndim=2. Full shape received: (100, 64)"
          ]
        }
      ]
    },
    {
      "cell_type": "code",
      "source": [
        "# LSTM layer\n",
        "x = tf.ones((100, 10, 32))\n",
        "lstm_layer1 = tf.keras.layers.LSTM(64, return_sequences=True)\n",
        "lstm_layer2 = tf.keras.layers.LSTM(64)\n",
        "y1 = lstm_layer1(x)\n",
        "y2 = lstm_layer2(y1)\n",
        "# 출력 확인\n",
        "# print(y1[0])\n",
        "print(y1.shape)"
      ],
      "metadata": {
        "id": "ElL_mwzgxHa7",
        "colab": {
          "base_uri": "https://localhost:8080/"
        },
        "outputId": "b56fbb81-fada-4be3-9c1f-7bb3b4f51df0"
      },
      "execution_count": null,
      "outputs": [
        {
          "output_type": "stream",
          "name": "stdout",
          "text": [
            "(100, 10, 64)\n"
          ]
        }
      ]
    },
    {
      "cell_type": "code",
      "source": [
        "# Dropout 레이어\n",
        "\n",
        "x = tf.ones((100, 10))\n",
        "dropout_layer = tf.keras.layers.Dropout(0.5)\n",
        "y1 = dropout_layer(x, training=True)  # training=True로 설정하여 학습 모드로 설정\n",
        "y2 = dropout_layer(x, training=True)  # training=True로 설정하여 학습 모드로 설정\n",
        "# 출력 확인\n",
        "print(y1[0])\n",
        "print(y2[0])\n",
        "print(y.shape)"
      ],
      "metadata": {
        "colab": {
          "base_uri": "https://localhost:8080/"
        },
        "id": "ldwqydCsxQz4",
        "outputId": "0964bcb4-f890-40c7-f7c8-f61dabeb35c1"
      },
      "execution_count": null,
      "outputs": [
        {
          "output_type": "stream",
          "name": "stdout",
          "text": [
            "tf.Tensor([0. 0. 0. 2. 2. 0. 0. 0. 2. 0.], shape=(10,), dtype=float32)\n",
            "tf.Tensor([0. 0. 2. 2. 2. 0. 0. 2. 0. 0.], shape=(10,), dtype=float32)\n",
            "(100, 64)\n"
          ]
        }
      ]
    },
    {
      "cell_type": "code",
      "source": [
        "x = tf.ones((100, 10))\n",
        "batchnorm_layer = tf.keras.layers.BatchNormalization()\n",
        "y = batchnorm_layer(x, training=True)\n",
        "\n",
        "# 출력 확인\n",
        "print(y[0])\n",
        "print(y.shape)"
      ],
      "metadata": {
        "colab": {
          "base_uri": "https://localhost:8080/"
        },
        "id": "2hqERK8I1umh",
        "outputId": "4625e67a-be50-42c7-b69c-710fa3ec957c"
      },
      "execution_count": null,
      "outputs": [
        {
          "output_type": "stream",
          "name": "stdout",
          "text": [
            "tf.Tensor([0. 0. 0. 0. 0. 0. 0. 0. 0. 0.], shape=(10,), dtype=float32)\n",
            "(100, 10)\n"
          ]
        }
      ]
    },
    {
      "cell_type": "markdown",
      "source": [
        "## 3. 모델 구성"
      ],
      "metadata": {
        "id": "_f53Cafd1-J_"
      }
    },
    {
      "cell_type": "code",
      "source": [
        "from tensorflow.keras.models import Sequential\n",
        "from tensorflow.keras.layers import Dense, Dropout, LeakyReLU\n",
        "\n",
        "# 모델 구성\n",
        "model = Sequential()\n",
        "model.add(Dense(64, input_shape=(10,)))\n",
        "model.add(LeakyReLU(alpha=0.2))\n",
        "model.add(Dropout(0.5))\n",
        "model.add(Dense(32))\n",
        "model.add(LeakyReLU(alpha=0.2))\n",
        "model.add(Dropout(0.5))\n",
        "model.add(Dense(1)) # 분류모델인경우 model.add(Dense(1), activation = 'sigmoid')\n",
        "\n",
        "# 모델 컴파일\n",
        "model.compile(optimizer='adam', loss='mse') # 마찬가지로 분류모델의 경우 model.compile(optimizer='adam', loss = 'binary_crossentropy', metrics=['accuracy'])\n",
        "\n",
        "# 모델 요약 정보 출력\n",
        "model.summary()"
      ],
      "metadata": {
        "colab": {
          "base_uri": "https://localhost:8080/"
        },
        "id": "_1ZFZ14k2LFN",
        "outputId": "990660e9-d45f-4722-ac5a-75989630dc46"
      },
      "execution_count": null,
      "outputs": [
        {
          "output_type": "stream",
          "name": "stdout",
          "text": [
            "Model: \"sequential_1\"\n",
            "_________________________________________________________________\n",
            " Layer (type)                Output Shape              Param #   \n",
            "=================================================================\n",
            " dense_6 (Dense)             (None, 64)                704       \n",
            "                                                                 \n",
            " leaky_re_lu (LeakyReLU)     (None, 64)                0         \n",
            "                                                                 \n",
            " dropout_1 (Dropout)         (None, 64)                0         \n",
            "                                                                 \n",
            " dense_7 (Dense)             (None, 32)                2080      \n",
            "                                                                 \n",
            " leaky_re_lu_1 (LeakyReLU)   (None, 32)                0         \n",
            "                                                                 \n",
            " dropout_2 (Dropout)         (None, 32)                0         \n",
            "                                                                 \n",
            " dense_8 (Dense)             (None, 1)                 33        \n",
            "                                                                 \n",
            "=================================================================\n",
            "Total params: 2,817\n",
            "Trainable params: 2,817\n",
            "Non-trainable params: 0\n",
            "_________________________________________________________________\n"
          ]
        }
      ]
    },
    {
      "cell_type": "markdown",
      "source": [
        "## 4. 모델 학습 및 다루기"
      ],
      "metadata": {
        "id": "bKiDztXN_oEA"
      }
    },
    {
      "cell_type": "code",
      "source": [
        "# 모델 트레이닝 관련\n",
        "from keras.callbacks import EarlyStopping\n",
        "\n",
        "early_stopping = EarlyStopping(patience=3)  # 3 에포크 동안 개선이 없으면 학습 조기 종료\n",
        "hist = model.fit(X_train, y_train,\n",
        "          validation_data=(X_train[:10], y_train[:10]),\n",
        "          epochs = 50,\n",
        "          callbacks=[early_stopping]) # validation set 필요\n"
      ],
      "metadata": {
        "colab": {
          "base_uri": "https://localhost:8080/"
        },
        "id": "AvBe06ax_lYZ",
        "outputId": "ce8cbb33-26ac-48ff-8e22-9de7c14fa3f0"
      },
      "execution_count": null,
      "outputs": [
        {
          "output_type": "stream",
          "name": "stdout",
          "text": [
            "Epoch 1/50\n",
            "12/12 [==============================] - 2s 20ms/step - loss: 29088.5137 - val_loss: 21315.8301\n",
            "Epoch 2/50\n",
            "12/12 [==============================] - 0s 5ms/step - loss: 28929.9824 - val_loss: 21177.8164\n",
            "Epoch 3/50\n",
            "12/12 [==============================] - 0s 6ms/step - loss: 28754.3965 - val_loss: 21029.2715\n",
            "Epoch 4/50\n",
            "12/12 [==============================] - 0s 5ms/step - loss: 28538.6973 - val_loss: 20858.8340\n",
            "Epoch 5/50\n",
            "12/12 [==============================] - 0s 6ms/step - loss: 28273.4766 - val_loss: 20647.1211\n",
            "Epoch 6/50\n",
            "12/12 [==============================] - 0s 5ms/step - loss: 28032.7969 - val_loss: 20406.8945\n",
            "Epoch 7/50\n",
            "12/12 [==============================] - 0s 5ms/step - loss: 27508.5586 - val_loss: 20096.9238\n",
            "Epoch 8/50\n",
            "12/12 [==============================] - 0s 6ms/step - loss: 27221.7031 - val_loss: 19719.7402\n",
            "Epoch 9/50\n",
            "12/12 [==============================] - 0s 6ms/step - loss: 26565.7793 - val_loss: 19265.9180\n",
            "Epoch 10/50\n",
            "12/12 [==============================] - 0s 5ms/step - loss: 25977.5586 - val_loss: 18737.3828\n",
            "Epoch 11/50\n",
            "12/12 [==============================] - 0s 5ms/step - loss: 24919.0898 - val_loss: 18082.7773\n",
            "Epoch 12/50\n",
            "12/12 [==============================] - 0s 5ms/step - loss: 23889.6855 - val_loss: 17325.3145\n",
            "Epoch 13/50\n",
            "12/12 [==============================] - 0s 6ms/step - loss: 22951.1562 - val_loss: 16481.1797\n",
            "Epoch 14/50\n",
            "12/12 [==============================] - 0s 5ms/step - loss: 21396.5176 - val_loss: 15533.0361\n",
            "Epoch 15/50\n",
            "12/12 [==============================] - 0s 5ms/step - loss: 20518.7148 - val_loss: 14503.8564\n",
            "Epoch 16/50\n",
            "12/12 [==============================] - 0s 5ms/step - loss: 19497.4531 - val_loss: 13400.4922\n",
            "Epoch 17/50\n",
            "12/12 [==============================] - 0s 5ms/step - loss: 17399.7949 - val_loss: 12203.7920\n",
            "Epoch 18/50\n",
            "12/12 [==============================] - 0s 5ms/step - loss: 15862.4053 - val_loss: 10946.2920\n",
            "Epoch 19/50\n",
            "12/12 [==============================] - 0s 5ms/step - loss: 14286.2578 - val_loss: 9754.1777\n",
            "Epoch 20/50\n",
            "12/12 [==============================] - 0s 5ms/step - loss: 12972.4463 - val_loss: 8603.6855\n",
            "Epoch 21/50\n",
            "12/12 [==============================] - 0s 5ms/step - loss: 11695.9756 - val_loss: 7528.7236\n",
            "Epoch 22/50\n",
            "12/12 [==============================] - 0s 5ms/step - loss: 10636.9141 - val_loss: 6529.9858\n",
            "Epoch 23/50\n",
            "12/12 [==============================] - 0s 5ms/step - loss: 9531.8438 - val_loss: 5550.4365\n",
            "Epoch 24/50\n",
            "12/12 [==============================] - 0s 6ms/step - loss: 8777.9863 - val_loss: 4690.5479\n",
            "Epoch 25/50\n",
            "12/12 [==============================] - 0s 10ms/step - loss: 8088.4531 - val_loss: 4012.0913\n",
            "Epoch 26/50\n",
            "12/12 [==============================] - 0s 9ms/step - loss: 7818.3667 - val_loss: 3449.0591\n",
            "Epoch 27/50\n",
            "12/12 [==============================] - 0s 10ms/step - loss: 7041.9971 - val_loss: 2923.9116\n",
            "Epoch 28/50\n",
            "12/12 [==============================] - 0s 9ms/step - loss: 6446.1709 - val_loss: 2532.2388\n",
            "Epoch 29/50\n",
            "12/12 [==============================] - 0s 8ms/step - loss: 6615.9775 - val_loss: 2165.7290\n",
            "Epoch 30/50\n",
            "12/12 [==============================] - 0s 8ms/step - loss: 6115.4438 - val_loss: 1921.2260\n",
            "Epoch 31/50\n",
            "12/12 [==============================] - 0s 8ms/step - loss: 6135.8145 - val_loss: 1746.5045\n",
            "Epoch 32/50\n",
            "12/12 [==============================] - 0s 8ms/step - loss: 5839.6987 - val_loss: 1668.2346\n",
            "Epoch 33/50\n",
            "12/12 [==============================] - 0s 9ms/step - loss: 5274.2461 - val_loss: 1608.8633\n",
            "Epoch 34/50\n",
            "12/12 [==============================] - 0s 10ms/step - loss: 5546.7583 - val_loss: 1540.4639\n",
            "Epoch 35/50\n",
            "12/12 [==============================] - 0s 7ms/step - loss: 5586.5288 - val_loss: 1525.5095\n",
            "Epoch 36/50\n",
            "12/12 [==============================] - 0s 9ms/step - loss: 5523.0737 - val_loss: 1505.9020\n",
            "Epoch 37/50\n",
            "12/12 [==============================] - 0s 9ms/step - loss: 5773.8145 - val_loss: 1478.8076\n",
            "Epoch 38/50\n",
            "12/12 [==============================] - 0s 8ms/step - loss: 4993.8467 - val_loss: 1451.1699\n",
            "Epoch 39/50\n",
            "12/12 [==============================] - 0s 7ms/step - loss: 5906.1558 - val_loss: 1424.2545\n",
            "Epoch 40/50\n",
            "12/12 [==============================] - 0s 7ms/step - loss: 5508.6631 - val_loss: 1402.7953\n",
            "Epoch 41/50\n",
            "12/12 [==============================] - 0s 9ms/step - loss: 5380.2725 - val_loss: 1365.3298\n",
            "Epoch 42/50\n",
            "12/12 [==============================] - 0s 8ms/step - loss: 5332.8198 - val_loss: 1332.4568\n",
            "Epoch 43/50\n",
            "12/12 [==============================] - 0s 7ms/step - loss: 5268.1460 - val_loss: 1292.4819\n",
            "Epoch 44/50\n",
            "12/12 [==============================] - 0s 9ms/step - loss: 5042.4492 - val_loss: 1292.4170\n",
            "Epoch 45/50\n",
            "12/12 [==============================] - 0s 8ms/step - loss: 4807.4424 - val_loss: 1304.2556\n",
            "Epoch 46/50\n",
            "12/12 [==============================] - 0s 9ms/step - loss: 5104.3213 - val_loss: 1298.3218\n",
            "Epoch 47/50\n",
            "12/12 [==============================] - 0s 7ms/step - loss: 5352.5918 - val_loss: 1286.5934\n",
            "Epoch 48/50\n",
            "12/12 [==============================] - 0s 5ms/step - loss: 5282.9893 - val_loss: 1277.7797\n",
            "Epoch 49/50\n",
            "12/12 [==============================] - 0s 6ms/step - loss: 4777.7441 - val_loss: 1246.9456\n",
            "Epoch 50/50\n",
            "12/12 [==============================] - 0s 5ms/step - loss: 4995.1821 - val_loss: 1243.2317\n"
          ]
        }
      ]
    },
    {
      "cell_type": "code",
      "source": [
        "from keras.callbacks import ModelCheckpoint\n",
        "\n",
        "# 모델 저장 콜백 설정\n",
        "checkpoint = ModelCheckpoint('./best_model.h5', save_best_only=True, save_weights_only=False)\n",
        "\n",
        "# 모델 학습 시 콜백 사용\n",
        "model.fit(X_train, y_train,\n",
        "        validation_data=(X_train[:10], y_train[:10]),\n",
        "        epochs = 50,\n",
        "        callbacks=[checkpoint], verbose = 0)"
      ],
      "metadata": {
        "id": "qMe5RQXm_3fl",
        "colab": {
          "base_uri": "https://localhost:8080/"
        },
        "outputId": "86195228-7646-4113-f9d4-6b3732e639ec"
      },
      "execution_count": null,
      "outputs": [
        {
          "output_type": "execute_result",
          "data": {
            "text/plain": [
              "<keras.callbacks.History at 0x7fd8ac3b97e0>"
            ]
          },
          "metadata": {},
          "execution_count": 23
        }
      ]
    },
    {
      "cell_type": "code",
      "source": [
        "from keras.models import load_model\n",
        "\n",
        "best_model = load_model('./best_model.h5')\n",
        "\n",
        "# 테스트 데이터에 대해 예측 수행\n",
        "predictions = best_model.predict(X_test)"
      ],
      "metadata": {
        "colab": {
          "base_uri": "https://localhost:8080/"
        },
        "id": "v-x46u7-Oig8",
        "outputId": "af3ddac7-5de8-451c-92ea-af1e063c83d9"
      },
      "execution_count": null,
      "outputs": [
        {
          "output_type": "stream",
          "name": "stdout",
          "text": [
            "3/3 [==============================] - 0s 3ms/step\n"
          ]
        }
      ]
    },
    {
      "cell_type": "markdown",
      "source": [
        "# Keras with Optuna\n",
        "\n",
        "하이퍼파라미터 최적화 라이브러리인 Optuna를 keras 와 함께 사용할 수 도 있습니다.\n",
        "마찬가지로 네트워크의 파라미터를 고려한 최적화 함수를 구성하면됩니다."
      ],
      "metadata": {
        "id": "zPpwZtzQPhRR"
      }
    },
    {
      "cell_type": "code",
      "source": [
        "!pip install optuna"
      ],
      "metadata": {
        "colab": {
          "base_uri": "https://localhost:8080/"
        },
        "id": "pEBABvHop7eA",
        "outputId": "179cf101-2d16-4403-9e87-7e53fe5caadb"
      },
      "execution_count": null,
      "outputs": [
        {
          "output_type": "stream",
          "name": "stdout",
          "text": [
            "Collecting optuna\n",
            "  Downloading optuna-3.2.0-py3-none-any.whl (390 kB)\n",
            "\u001b[?25l     \u001b[90m━━━━━━━━━━━━━━━━━━━━━━━━━━━━━━━━━━━━━━━━\u001b[0m \u001b[32m0.0/390.6 kB\u001b[0m \u001b[31m?\u001b[0m eta \u001b[36m-:--:--\u001b[0m\r\u001b[2K     \u001b[90m━━━━━━━━━━━━━━━━━━━━━━━━━━━━━━━━━━━━━━\u001b[0m \u001b[32m390.6/390.6 kB\u001b[0m \u001b[31m11.6 MB/s\u001b[0m eta \u001b[36m0:00:00\u001b[0m\n",
            "\u001b[?25hCollecting alembic>=1.5.0 (from optuna)\n",
            "  Downloading alembic-1.11.1-py3-none-any.whl (224 kB)\n",
            "\u001b[2K     \u001b[90m━━━━━━━━━━━━━━━━━━━━━━━━━━━━━━━━━━━━━━\u001b[0m \u001b[32m224.5/224.5 kB\u001b[0m \u001b[31m16.9 MB/s\u001b[0m eta \u001b[36m0:00:00\u001b[0m\n",
            "\u001b[?25hCollecting cmaes>=0.9.1 (from optuna)\n",
            "  Downloading cmaes-0.9.1-py3-none-any.whl (21 kB)\n",
            "Collecting colorlog (from optuna)\n",
            "  Downloading colorlog-6.7.0-py2.py3-none-any.whl (11 kB)\n",
            "Requirement already satisfied: numpy in /usr/local/lib/python3.10/dist-packages (from optuna) (1.22.4)\n",
            "Requirement already satisfied: packaging>=20.0 in /usr/local/lib/python3.10/dist-packages (from optuna) (23.1)\n",
            "Requirement already satisfied: sqlalchemy>=1.3.0 in /usr/local/lib/python3.10/dist-packages (from optuna) (2.0.16)\n",
            "Requirement already satisfied: tqdm in /usr/local/lib/python3.10/dist-packages (from optuna) (4.65.0)\n",
            "Requirement already satisfied: PyYAML in /usr/local/lib/python3.10/dist-packages (from optuna) (6.0)\n",
            "Collecting Mako (from alembic>=1.5.0->optuna)\n",
            "  Downloading Mako-1.2.4-py3-none-any.whl (78 kB)\n",
            "\u001b[2K     \u001b[90m━━━━━━━━━━━━━━━━━━━━━━━━━━━━━━━━━━━━━━━━\u001b[0m \u001b[32m78.7/78.7 kB\u001b[0m \u001b[31m9.5 MB/s\u001b[0m eta \u001b[36m0:00:00\u001b[0m\n",
            "\u001b[?25hRequirement already satisfied: typing-extensions>=4 in /usr/local/lib/python3.10/dist-packages (from alembic>=1.5.0->optuna) (4.6.3)\n",
            "Requirement already satisfied: greenlet!=0.4.17 in /usr/local/lib/python3.10/dist-packages (from sqlalchemy>=1.3.0->optuna) (2.0.2)\n",
            "Requirement already satisfied: MarkupSafe>=0.9.2 in /usr/local/lib/python3.10/dist-packages (from Mako->alembic>=1.5.0->optuna) (2.1.3)\n",
            "Installing collected packages: Mako, colorlog, cmaes, alembic, optuna\n",
            "Successfully installed Mako-1.2.4 alembic-1.11.1 cmaes-0.9.1 colorlog-6.7.0 optuna-3.2.0\n"
          ]
        }
      ]
    },
    {
      "cell_type": "code",
      "source": [
        "import optuna\n",
        "from keras.datasets import mnist\n",
        "from keras.layers import Dense\n",
        "from keras.models import Sequential\n",
        "from keras.optimizers import RMSprop\n",
        "from keras.utils import np_utils\n",
        "\n",
        "def objective(trial):\n",
        "\n",
        "    # 모델 정의\n",
        "    num_layers = trial.suggest_int('num_layers', 1, 3)\n",
        "    model = Sequential()\n",
        "    for i in range(num_layers):\n",
        "        num_units = trial.suggest_categorical('num_units_layer{}'.format(i), [32, 64])\n",
        "        activation = trial.suggest_categorical('activation_layer{}'.format(i), ['relu', 'tanh'])\n",
        "        model.add(Dense(units=num_units, activation=activation))\n",
        "    model.add(Dense(1))\n",
        "\n",
        "    # 옵티마이저 선택\n",
        "    lr = trial.suggest_loguniform('lr', 1e-5, 1e-2)\n",
        "    optimizer = RMSprop(learning_rate=lr)\n",
        "\n",
        "    model.compile(loss='mean_squared_error', optimizer=optimizer)  # 회귀 문제이므로 손실함수로 MSE 사용\n",
        "\n",
        "    model.fit(X_train, y_train,\n",
        "              epochs=2,\n",
        "              batch_size=128)\n",
        "\n",
        "    # 검증셋에서의 손실을 구합니다.\n",
        "    val_loss = model.evaluate(X_test, y_test, verbose=0)\n",
        "    return val_loss\n",
        "\n",
        "study = optuna.create_study(direction='minimize')\n",
        "study.optimize(objective, n_trials=10)\n",
        "\n",
        "print('Number of finished trials: ', len(study.trials))\n",
        "print('Best trial:')\n",
        "trial = study.best_trial\n",
        "\n",
        "print('  Value: ', trial.value)\n",
        "print('  Params: ')\n",
        "for key, value in trial.params.items():\n",
        "    print('    {}: {}'.format(key, value))\n"
      ],
      "metadata": {
        "colab": {
          "base_uri": "https://localhost:8080/"
        },
        "id": "9V7-Ol5mpRGe",
        "outputId": "b589837c-55c3-43e6-a400-05391b751144"
      },
      "execution_count": null,
      "outputs": [
        {
          "output_type": "stream",
          "name": "stderr",
          "text": [
            "[I 2023-07-03 12:20:34,923] A new study created in memory with name: no-name-abd47747-4bff-41e3-8e06-7283c6685c76\n"
          ]
        },
        {
          "output_type": "stream",
          "name": "stdout",
          "text": [
            "Epoch 1/2\n"
          ]
        },
        {
          "output_type": "stream",
          "name": "stderr",
          "text": [
            "<ipython-input-27-52dbcf8cc773>:20: FutureWarning: suggest_loguniform has been deprecated in v3.0.0. This feature will be removed in v6.0.0. See https://github.com/optuna/optuna/releases/tag/v3.0.0. Use suggest_float(..., log=True) instead.\n",
            "  lr = trial.suggest_loguniform('lr', 1e-5, 1e-2)\n"
          ]
        },
        {
          "output_type": "stream",
          "name": "stdout",
          "text": [
            "3/3 [==============================] - 1s 8ms/step - loss: 29111.4453\n",
            "Epoch 2/2\n",
            "3/3 [==============================] - 0s 7ms/step - loss: 29102.4023\n"
          ]
        },
        {
          "output_type": "stream",
          "name": "stderr",
          "text": [
            "[I 2023-07-03 12:20:36,002] Trial 0 finished with value: 28909.513671875 and parameters: {'num_layers': 2, 'num_units_layer0': 32, 'activation_layer0': 'tanh', 'num_units_layer1': 64, 'activation_layer1': 'tanh', 'lr': 0.0001411791895173174}. Best is trial 0 with value: 28909.513671875.\n"
          ]
        },
        {
          "output_type": "stream",
          "name": "stdout",
          "text": [
            "Epoch 1/2\n",
            "3/3 [==============================] - 1s 7ms/step - loss: 29159.9180\n",
            "Epoch 2/2\n",
            "3/3 [==============================] - 0s 8ms/step - loss: 29101.1387\n"
          ]
        },
        {
          "output_type": "stream",
          "name": "stderr",
          "text": [
            "[I 2023-07-03 12:20:37,009] Trial 1 finished with value: 28872.908203125 and parameters: {'num_layers': 2, 'num_units_layer0': 64, 'activation_layer0': 'relu', 'num_units_layer1': 64, 'activation_layer1': 'relu', 'lr': 0.0004603249450295794}. Best is trial 1 with value: 28872.908203125.\n"
          ]
        },
        {
          "output_type": "stream",
          "name": "stdout",
          "text": [
            "Epoch 1/2\n",
            "3/3 [==============================] - 1s 6ms/step - loss: 29247.1113\n",
            "Epoch 2/2\n",
            "3/3 [==============================] - 0s 7ms/step - loss: 29238.7930\n"
          ]
        },
        {
          "output_type": "stream",
          "name": "stderr",
          "text": [
            "[I 2023-07-03 12:20:37,773] Trial 2 finished with value: 29038.826171875 and parameters: {'num_layers': 2, 'num_units_layer0': 32, 'activation_layer0': 'relu', 'num_units_layer1': 32, 'activation_layer1': 'tanh', 'lr': 6.027269556014778e-05}. Best is trial 1 with value: 28872.908203125.\n"
          ]
        },
        {
          "output_type": "stream",
          "name": "stdout",
          "text": [
            "Epoch 1/2\n",
            "3/3 [==============================] - 0s 6ms/step - loss: 28988.3594\n",
            "Epoch 2/2\n",
            "3/3 [==============================] - 0s 9ms/step - loss: 28777.3945\n"
          ]
        },
        {
          "output_type": "stream",
          "name": "stderr",
          "text": [
            "WARNING:tensorflow:5 out of the last 110 calls to <function Model.make_test_function.<locals>.test_function at 0x7fd8783301f0> triggered tf.function retracing. Tracing is expensive and the excessive number of tracings could be due to (1) creating @tf.function repeatedly in a loop, (2) passing tensors with different shapes, (3) passing Python objects instead of tensors. For (1), please define your @tf.function outside of the loop. For (2), @tf.function has reduce_retracing=True option that can avoid unnecessary retracing. For (3), please refer to https://www.tensorflow.org/guide/function#controlling_retracing and https://www.tensorflow.org/api_docs/python/tf/function for  more details.\n",
            "[I 2023-07-03 12:20:38,414] Trial 3 finished with value: 28499.08984375 and parameters: {'num_layers': 1, 'num_units_layer0': 32, 'activation_layer0': 'tanh', 'lr': 0.006655422340809868}. Best is trial 3 with value: 28499.08984375.\n"
          ]
        },
        {
          "output_type": "stream",
          "name": "stdout",
          "text": [
            "Epoch 1/2\n",
            "3/3 [==============================] - 0s 5ms/step - loss: 29139.4512\n",
            "Epoch 2/2\n",
            "3/3 [==============================] - 0s 4ms/step - loss: 29114.2832\n"
          ]
        },
        {
          "output_type": "stream",
          "name": "stderr",
          "text": [
            "WARNING:tensorflow:5 out of the last 13 calls to <function Model.make_test_function.<locals>.test_function at 0x7fd878331630> triggered tf.function retracing. Tracing is expensive and the excessive number of tracings could be due to (1) creating @tf.function repeatedly in a loop, (2) passing tensors with different shapes, (3) passing Python objects instead of tensors. For (1), please define your @tf.function outside of the loop. For (2), @tf.function has reduce_retracing=True option that can avoid unnecessary retracing. For (3), please refer to https://www.tensorflow.org/guide/function#controlling_retracing and https://www.tensorflow.org/api_docs/python/tf/function for  more details.\n",
            "[I 2023-07-03 12:20:39,007] Trial 4 finished with value: 28904.232421875 and parameters: {'num_layers': 1, 'num_units_layer0': 64, 'activation_layer0': 'relu', 'lr': 0.00037108917913553216}. Best is trial 3 with value: 28499.08984375.\n"
          ]
        },
        {
          "output_type": "stream",
          "name": "stdout",
          "text": [
            "Epoch 1/2\n",
            "3/3 [==============================] - 1s 6ms/step - loss: 29103.7617\n",
            "Epoch 2/2\n",
            "3/3 [==============================] - 0s 5ms/step - loss: 29100.5020\n"
          ]
        },
        {
          "output_type": "stream",
          "name": "stderr",
          "text": [
            "[I 2023-07-03 12:20:39,819] Trial 5 finished with value: 28886.7890625 and parameters: {'num_layers': 3, 'num_units_layer0': 32, 'activation_layer0': 'relu', 'num_units_layer1': 64, 'activation_layer1': 'tanh', 'num_units_layer2': 32, 'activation_layer2': 'relu', 'lr': 1.4506393479611323e-05}. Best is trial 3 with value: 28499.08984375.\n"
          ]
        },
        {
          "output_type": "stream",
          "name": "stdout",
          "text": [
            "Epoch 1/2\n",
            "3/3 [==============================] - 1s 6ms/step - loss: 29086.3066\n",
            "Epoch 2/2\n",
            "3/3 [==============================] - 0s 5ms/step - loss: 28946.2383\n"
          ]
        },
        {
          "output_type": "stream",
          "name": "stderr",
          "text": [
            "[I 2023-07-03 12:20:40,634] Trial 6 finished with value: 28670.685546875 and parameters: {'num_layers': 3, 'num_units_layer0': 64, 'activation_layer0': 'relu', 'num_units_layer1': 64, 'activation_layer1': 'tanh', 'num_units_layer2': 32, 'activation_layer2': 'tanh', 'lr': 0.00033343460630245}. Best is trial 3 with value: 28499.08984375.\n"
          ]
        },
        {
          "output_type": "stream",
          "name": "stdout",
          "text": [
            "Epoch 1/2\n",
            "3/3 [==============================] - 1s 6ms/step - loss: 28802.0801\n",
            "Epoch 2/2\n",
            "3/3 [==============================] - 0s 5ms/step - loss: 27640.6738\n"
          ]
        },
        {
          "output_type": "stream",
          "name": "stderr",
          "text": [
            "[I 2023-07-03 12:20:41,454] Trial 7 finished with value: 26306.927734375 and parameters: {'num_layers': 3, 'num_units_layer0': 64, 'activation_layer0': 'relu', 'num_units_layer1': 64, 'activation_layer1': 'tanh', 'num_units_layer2': 64, 'activation_layer2': 'relu', 'lr': 0.0023564025822692034}. Best is trial 7 with value: 26306.927734375.\n"
          ]
        },
        {
          "output_type": "stream",
          "name": "stdout",
          "text": [
            "Epoch 1/2\n",
            "3/3 [==============================] - 0s 5ms/step - loss: 29093.1895\n",
            "Epoch 2/2\n",
            "3/3 [==============================] - 0s 4ms/step - loss: 29063.1953\n"
          ]
        },
        {
          "output_type": "stream",
          "name": "stderr",
          "text": [
            "[I 2023-07-03 12:20:42,120] Trial 8 finished with value: 28850.97265625 and parameters: {'num_layers': 1, 'num_units_layer0': 64, 'activation_layer0': 'tanh', 'lr': 0.0006588249024414871}. Best is trial 7 with value: 26306.927734375.\n"
          ]
        },
        {
          "output_type": "stream",
          "name": "stdout",
          "text": [
            "Epoch 1/2\n",
            "3/3 [==============================] - 1s 9ms/step - loss: 29156.4648\n",
            "Epoch 2/2\n",
            "3/3 [==============================] - 0s 5ms/step - loss: 29141.2969\n"
          ]
        },
        {
          "output_type": "stream",
          "name": "stderr",
          "text": [
            "[I 2023-07-03 12:20:42,939] Trial 9 finished with value: 28926.392578125 and parameters: {'num_layers': 3, 'num_units_layer0': 32, 'activation_layer0': 'tanh', 'num_units_layer1': 64, 'activation_layer1': 'relu', 'num_units_layer2': 32, 'activation_layer2': 'tanh', 'lr': 6.474710722236188e-05}. Best is trial 7 with value: 26306.927734375.\n"
          ]
        },
        {
          "output_type": "stream",
          "name": "stdout",
          "text": [
            "Number of finished trials:  10\n",
            "Best trial:\n",
            "  Value:  26306.927734375\n",
            "  Params: \n",
            "    num_layers: 3\n",
            "    num_units_layer0: 64\n",
            "    activation_layer0: relu\n",
            "    num_units_layer1: 64\n",
            "    activation_layer1: tanh\n",
            "    num_units_layer2: 64\n",
            "    activation_layer2: relu\n",
            "    lr: 0.0023564025822692034\n"
          ]
        }
      ]
    }
  ]
}
