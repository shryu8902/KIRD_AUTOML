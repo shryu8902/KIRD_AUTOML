{
  "cells": [
    {
      "cell_type": "markdown",
      "metadata": {
        "id": "view-in-github",
        "colab_type": "text"
      },
      "source": [
        "<a href=\"https://colab.research.google.com/github/shryu8902/KIRD_AUTOML/blob/main/KIRD_Day_1_3_ML_%EB%AA%A8%EB%8D%B8_%ED%94%84%EB%A1%9C%EC%84%B8%EC%8A%A4_%EB%B3%84_%EC%9E%90%EB%8F%99%ED%99%94_%EB%9D%BC%EC%9D%B4%EB%B8%8C%EB%9F%AC%EB%A6%AC_%ED%99%9C%EC%9A%A9.ipynb\" target=\"_parent\"><img src=\"https://colab.research.google.com/assets/colab-badge.svg\" alt=\"Open In Colab\"/></a>"
      ]
    },
    {
      "cell_type": "markdown",
      "metadata": {
        "id": "wVxx_SKmztr8"
      },
      "source": [
        "#1. 데이터 전처리 및 피쳐 엔지니어링\n",
        "\n",
        "이번 실습에서는 이전 예제와 마찬가지로 타이타닉 생존자 데이터셋으로 머신러닝 모델 개발과정에서 각 단계별 특화된 자동화 라이브러리를 활용해보도록하겠습니다.\n",
        "먼저 데이터 전처리 및 피쳐엔지니어링을 위해 ```feature-engine``` 라이브러리를 활용해보겠습니다.\n"
      ]
    },
    {
      "cell_type": "markdown",
      "metadata": {
        "id": "YzCg_xEd-ynU"
      },
      "source": [
        "## 0. 데이터 및 라이브러리 준비"
      ]
    },
    {
      "cell_type": "code",
      "execution_count": null,
      "metadata": {
        "colab": {
          "base_uri": "https://localhost:8080/"
        },
        "id": "JwRcdDLQ-1C3",
        "outputId": "2327e9ff-2575-48ce-818f-aecda3d24871"
      },
      "outputs": [
        {
          "name": "stdout",
          "output_type": "stream",
          "text": [
            "Collecting feature_engine\n",
            "  Downloading feature_engine-1.6.1-py2.py3-none-any.whl (326 kB)\n",
            "\u001b[?25l     \u001b[90m━━━━━━━━━━━━━━━━━━━━━━━━━━━━━━━━━━━━━━━━\u001b[0m \u001b[32m0.0/326.6 kB\u001b[0m \u001b[31m?\u001b[0m eta \u001b[36m-:--:--\u001b[0m\r\u001b[2K     \u001b[91m━━━━━━━━━━━━━━━━━━━━━━━━━━━━━━━━━━━━━\u001b[0m\u001b[91m╸\u001b[0m\u001b[90m━\u001b[0m \u001b[32m317.4/326.6 kB\u001b[0m \u001b[31m9.6 MB/s\u001b[0m eta \u001b[36m0:00:01\u001b[0m\r\u001b[2K     \u001b[90m━━━━━━━━━━━━━━━━━━━━━━━━━━━━━━━━━━━━━━━\u001b[0m \u001b[32m326.6/326.6 kB\u001b[0m \u001b[31m7.5 MB/s\u001b[0m eta \u001b[36m0:00:00\u001b[0m\n",
            "\u001b[?25hRequirement already satisfied: numpy>=1.18.2 in /usr/local/lib/python3.10/dist-packages (from feature_engine) (1.22.4)\n",
            "Requirement already satisfied: pandas>=1.0.3 in /usr/local/lib/python3.10/dist-packages (from feature_engine) (1.5.3)\n",
            "Requirement already satisfied: scikit-learn>=1.0.0 in /usr/local/lib/python3.10/dist-packages (from feature_engine) (1.2.2)\n",
            "Requirement already satisfied: scipy>=1.4.1 in /usr/local/lib/python3.10/dist-packages (from feature_engine) (1.10.1)\n",
            "Requirement already satisfied: statsmodels>=0.11.1 in /usr/local/lib/python3.10/dist-packages (from feature_engine) (0.13.5)\n",
            "Requirement already satisfied: python-dateutil>=2.8.1 in /usr/local/lib/python3.10/dist-packages (from pandas>=1.0.3->feature_engine) (2.8.2)\n",
            "Requirement already satisfied: pytz>=2020.1 in /usr/local/lib/python3.10/dist-packages (from pandas>=1.0.3->feature_engine) (2022.7.1)\n",
            "Requirement already satisfied: joblib>=1.1.1 in /usr/local/lib/python3.10/dist-packages (from scikit-learn>=1.0.0->feature_engine) (1.2.0)\n",
            "Requirement already satisfied: threadpoolctl>=2.0.0 in /usr/local/lib/python3.10/dist-packages (from scikit-learn>=1.0.0->feature_engine) (3.1.0)\n",
            "Requirement already satisfied: patsy>=0.5.2 in /usr/local/lib/python3.10/dist-packages (from statsmodels>=0.11.1->feature_engine) (0.5.3)\n",
            "Requirement already satisfied: packaging>=21.3 in /usr/local/lib/python3.10/dist-packages (from statsmodels>=0.11.1->feature_engine) (23.1)\n",
            "Requirement already satisfied: six in /usr/local/lib/python3.10/dist-packages (from patsy>=0.5.2->statsmodels>=0.11.1->feature_engine) (1.16.0)\n",
            "Installing collected packages: feature_engine\n",
            "Successfully installed feature_engine-1.6.1\n",
            "--2023-06-30 04:38:26--  https://raw.githubusercontent.com/shryu8902/KIRD_AUTOML/main/Titanic-Dataset.csv\n",
            "Resolving raw.githubusercontent.com (raw.githubusercontent.com)... 185.199.108.133, 185.199.109.133, 185.199.110.133, ...\n",
            "Connecting to raw.githubusercontent.com (raw.githubusercontent.com)|185.199.108.133|:443... connected.\n",
            "HTTP request sent, awaiting response... 200 OK\n",
            "Length: 61194 (60K) [text/plain]\n",
            "Saving to: ‘Titanic-Dataset.csv’\n",
            "\n",
            "Titanic-Dataset.csv 100%[===================>]  59.76K  --.-KB/s    in 0.007s  \n",
            "\n",
            "2023-06-30 04:38:26 (8.13 MB/s) - ‘Titanic-Dataset.csv’ saved [61194/61194]\n",
            "\n"
          ]
        }
      ],
      "source": [
        "import pandas as pd\n",
        "!pip install feature_engine\n",
        "!wget https://raw.githubusercontent.com/shryu8902/KIRD_AUTOML/main/Titanic-Dataset.csv\n",
        "titanic_data = pd.read_csv('./Titanic-Dataset.csv')"
      ]
    },
    {
      "cell_type": "code",
      "execution_count": null,
      "metadata": {
        "colab": {
          "base_uri": "https://localhost:8080/"
        },
        "id": "xX1G5QOb_yf9",
        "outputId": "78c91915-e64a-427b-f563-7d3e0e7f70b3"
      },
      "outputs": [
        {
          "data": {
            "text/plain": [
              "Survived      0\n",
              "Pclass        0\n",
              "Sex           0\n",
              "Age         177\n",
              "SibSp         0\n",
              "Parch         0\n",
              "Ticket        0\n",
              "Fare          0\n",
              "Embarked      2\n",
              "dtype: int64"
            ]
          },
          "execution_count": 2,
          "metadata": {},
          "output_type": "execute_result"
        }
      ],
      "source": [
        "titanic_data.drop(['PassengerId','Cabin','Name'],axis = 1, inplace=True)\n",
        "\n",
        "titanic_data.isna().sum()"
      ]
    },
    {
      "cell_type": "code",
      "execution_count": null,
      "metadata": {
        "colab": {
          "base_uri": "https://localhost:8080/",
          "height": 143
        },
        "id": "DpIUD0N2RjuB",
        "outputId": "e97c2e02-3a2a-4ffe-b4dc-5de07fb359f9"
      },
      "outputs": [
        {
          "data": {
            "text/html": [
              "\n",
              "  <div id=\"df-7eafe437-d5fe-462a-9fa8-f9619920e87e\">\n",
              "    <div class=\"colab-df-container\">\n",
              "      <div>\n",
              "<style scoped>\n",
              "    .dataframe tbody tr th:only-of-type {\n",
              "        vertical-align: middle;\n",
              "    }\n",
              "\n",
              "    .dataframe tbody tr th {\n",
              "        vertical-align: top;\n",
              "    }\n",
              "\n",
              "    .dataframe thead th {\n",
              "        text-align: right;\n",
              "    }\n",
              "</style>\n",
              "<table border=\"1\" class=\"dataframe\">\n",
              "  <thead>\n",
              "    <tr style=\"text-align: right;\">\n",
              "      <th></th>\n",
              "      <th>Survived</th>\n",
              "      <th>Pclass</th>\n",
              "      <th>Sex</th>\n",
              "      <th>Age</th>\n",
              "      <th>SibSp</th>\n",
              "      <th>Parch</th>\n",
              "      <th>Ticket</th>\n",
              "      <th>Fare</th>\n",
              "      <th>Embarked</th>\n",
              "    </tr>\n",
              "  </thead>\n",
              "  <tbody>\n",
              "    <tr>\n",
              "      <th>0</th>\n",
              "      <td>0</td>\n",
              "      <td>3</td>\n",
              "      <td>male</td>\n",
              "      <td>22.0</td>\n",
              "      <td>1</td>\n",
              "      <td>0</td>\n",
              "      <td>A/5 21171</td>\n",
              "      <td>7.2500</td>\n",
              "      <td>S</td>\n",
              "    </tr>\n",
              "    <tr>\n",
              "      <th>1</th>\n",
              "      <td>1</td>\n",
              "      <td>1</td>\n",
              "      <td>female</td>\n",
              "      <td>38.0</td>\n",
              "      <td>1</td>\n",
              "      <td>0</td>\n",
              "      <td>PC 17599</td>\n",
              "      <td>71.2833</td>\n",
              "      <td>C</td>\n",
              "    </tr>\n",
              "    <tr>\n",
              "      <th>2</th>\n",
              "      <td>1</td>\n",
              "      <td>3</td>\n",
              "      <td>female</td>\n",
              "      <td>26.0</td>\n",
              "      <td>0</td>\n",
              "      <td>0</td>\n",
              "      <td>STON/O2. 3101282</td>\n",
              "      <td>7.9250</td>\n",
              "      <td>S</td>\n",
              "    </tr>\n",
              "  </tbody>\n",
              "</table>\n",
              "</div>\n",
              "      <button class=\"colab-df-convert\" onclick=\"convertToInteractive('df-7eafe437-d5fe-462a-9fa8-f9619920e87e')\"\n",
              "              title=\"Convert this dataframe to an interactive table.\"\n",
              "              style=\"display:none;\">\n",
              "        \n",
              "  <svg xmlns=\"http://www.w3.org/2000/svg\" height=\"24px\"viewBox=\"0 0 24 24\"\n",
              "       width=\"24px\">\n",
              "    <path d=\"M0 0h24v24H0V0z\" fill=\"none\"/>\n",
              "    <path d=\"M18.56 5.44l.94 2.06.94-2.06 2.06-.94-2.06-.94-.94-2.06-.94 2.06-2.06.94zm-11 1L8.5 8.5l.94-2.06 2.06-.94-2.06-.94L8.5 2.5l-.94 2.06-2.06.94zm10 10l.94 2.06.94-2.06 2.06-.94-2.06-.94-.94-2.06-.94 2.06-2.06.94z\"/><path d=\"M17.41 7.96l-1.37-1.37c-.4-.4-.92-.59-1.43-.59-.52 0-1.04.2-1.43.59L10.3 9.45l-7.72 7.72c-.78.78-.78 2.05 0 2.83L4 21.41c.39.39.9.59 1.41.59.51 0 1.02-.2 1.41-.59l7.78-7.78 2.81-2.81c.8-.78.8-2.07 0-2.86zM5.41 20L4 18.59l7.72-7.72 1.47 1.35L5.41 20z\"/>\n",
              "  </svg>\n",
              "      </button>\n",
              "      \n",
              "  <style>\n",
              "    .colab-df-container {\n",
              "      display:flex;\n",
              "      flex-wrap:wrap;\n",
              "      gap: 12px;\n",
              "    }\n",
              "\n",
              "    .colab-df-convert {\n",
              "      background-color: #E8F0FE;\n",
              "      border: none;\n",
              "      border-radius: 50%;\n",
              "      cursor: pointer;\n",
              "      display: none;\n",
              "      fill: #1967D2;\n",
              "      height: 32px;\n",
              "      padding: 0 0 0 0;\n",
              "      width: 32px;\n",
              "    }\n",
              "\n",
              "    .colab-df-convert:hover {\n",
              "      background-color: #E2EBFA;\n",
              "      box-shadow: 0px 1px 2px rgba(60, 64, 67, 0.3), 0px 1px 3px 1px rgba(60, 64, 67, 0.15);\n",
              "      fill: #174EA6;\n",
              "    }\n",
              "\n",
              "    [theme=dark] .colab-df-convert {\n",
              "      background-color: #3B4455;\n",
              "      fill: #D2E3FC;\n",
              "    }\n",
              "\n",
              "    [theme=dark] .colab-df-convert:hover {\n",
              "      background-color: #434B5C;\n",
              "      box-shadow: 0px 1px 3px 1px rgba(0, 0, 0, 0.15);\n",
              "      filter: drop-shadow(0px 1px 2px rgba(0, 0, 0, 0.3));\n",
              "      fill: #FFFFFF;\n",
              "    }\n",
              "  </style>\n",
              "\n",
              "      <script>\n",
              "        const buttonEl =\n",
              "          document.querySelector('#df-7eafe437-d5fe-462a-9fa8-f9619920e87e button.colab-df-convert');\n",
              "        buttonEl.style.display =\n",
              "          google.colab.kernel.accessAllowed ? 'block' : 'none';\n",
              "\n",
              "        async function convertToInteractive(key) {\n",
              "          const element = document.querySelector('#df-7eafe437-d5fe-462a-9fa8-f9619920e87e');\n",
              "          const dataTable =\n",
              "            await google.colab.kernel.invokeFunction('convertToInteractive',\n",
              "                                                     [key], {});\n",
              "          if (!dataTable) return;\n",
              "\n",
              "          const docLinkHtml = 'Like what you see? Visit the ' +\n",
              "            '<a target=\"_blank\" href=https://colab.research.google.com/notebooks/data_table.ipynb>data table notebook</a>'\n",
              "            + ' to learn more about interactive tables.';\n",
              "          element.innerHTML = '';\n",
              "          dataTable['output_type'] = 'display_data';\n",
              "          await google.colab.output.renderOutput(dataTable, element);\n",
              "          const docLink = document.createElement('div');\n",
              "          docLink.innerHTML = docLinkHtml;\n",
              "          element.appendChild(docLink);\n",
              "        }\n",
              "      </script>\n",
              "    </div>\n",
              "  </div>\n",
              "  "
            ],
            "text/plain": [
              "   Survived  Pclass     Sex   Age  SibSp  Parch            Ticket     Fare  \\\n",
              "0         0       3    male  22.0      1      0         A/5 21171   7.2500   \n",
              "1         1       1  female  38.0      1      0          PC 17599  71.2833   \n",
              "2         1       3  female  26.0      0      0  STON/O2. 3101282   7.9250   \n",
              "\n",
              "  Embarked  \n",
              "0        S  \n",
              "1        C  \n",
              "2        S  "
            ]
          },
          "execution_count": 3,
          "metadata": {},
          "output_type": "execute_result"
        }
      ],
      "source": [
        "titanic_data.head(3)"
      ]
    },
    {
      "cell_type": "markdown",
      "metadata": {
        "id": "xFc9tysRBsls"
      },
      "source": [
        "## 1. 누락값 처리\n",
        "- ```DropMissingData``` : 누락값을 포함한 row를 제거. threshold 로 전체 변수중 NA 값의 비율에 따라 row 제외.\n",
        "- ```MeanMedianImputer``` : 평균 또는 중앙값으로 누락값 대체\n",
        "- ```CategoricalImputer``` : categorical 변수 (type ‘object’ or ‘categorical’)를 최빈값 또는 임의의 값으로 대체\n",
        "- ```AddMissingIndicator``` : missing value에 대한 indicator binary variable 생성, 변수명_na 컬럼 추가."
      ]
    },
    {
      "cell_type": "code",
      "execution_count": null,
      "metadata": {
        "colab": {
          "base_uri": "https://localhost:8080/"
        },
        "id": "9ls9sUUaTTz2",
        "outputId": "10dfc25e-1c63-4562-f266-e4832a8e5967"
      },
      "outputs": [
        {
          "name": "stdout",
          "output_type": "stream",
          "text": [
            "Survived    0\n",
            "Pclass      0\n",
            "Sex         0\n",
            "Age         0\n",
            "SibSp       0\n",
            "Parch       0\n",
            "Ticket      0\n",
            "Fare        0\n",
            "Embarked    0\n",
            "dtype: int64\n",
            "raw data shape (891, 9)\n",
            "proccessed data shape (712, 9)\n"
          ]
        }
      ],
      "source": [
        "from feature_engine.imputation import DropMissingData\n",
        "\n",
        "imputer = DropMissingData(variables=['Age', 'Embarked'])\n",
        "imputed_data = imputer.fit_transform(titanic_data)\n",
        "print(imputed_data.isna().sum())\n",
        "\n",
        "print('raw data shape', titanic_data.shape)\n",
        "print('proccessed data shape', imputed_data.shape)"
      ]
    },
    {
      "cell_type": "code",
      "execution_count": null,
      "metadata": {
        "colab": {
          "base_uri": "https://localhost:8080/"
        },
        "id": "4XnLdXzc_1LX",
        "outputId": "c27f5896-dfb6-4352-f389-8332a155cfaa"
      },
      "outputs": [
        {
          "data": {
            "text/plain": [
              "5      28.0\n",
              "17     28.0\n",
              "19     28.0\n",
              "26     28.0\n",
              "28     28.0\n",
              "       ... \n",
              "859    28.0\n",
              "863    28.0\n",
              "868    28.0\n",
              "878    28.0\n",
              "888    28.0\n",
              "Name: Age, Length: 177, dtype: float64"
            ]
          },
          "execution_count": 5,
          "metadata": {},
          "output_type": "execute_result"
        }
      ],
      "source": [
        "from feature_engine.imputation import MeanMedianImputer\n",
        "\n",
        "imputer = MeanMedianImputer(imputation_method='median', variables=['Age'])\n",
        "imputed_data = imputer.fit_transform(titanic_data)\n",
        "imputed_data.Age[titanic_data.Age.isna()]"
      ]
    },
    {
      "cell_type": "code",
      "execution_count": null,
      "metadata": {
        "colab": {
          "base_uri": "https://localhost:8080/"
        },
        "id": "_g6r3WL0Q3n-",
        "outputId": "d150fd03-9cd3-4925-856d-0486a2081ff1"
      },
      "outputs": [
        {
          "data": {
            "text/plain": [
              "61     S\n",
              "829    S\n",
              "Name: Embarked, dtype: object"
            ]
          },
          "execution_count": 6,
          "metadata": {},
          "output_type": "execute_result"
        }
      ],
      "source": [
        "from feature_engine.imputation import CategoricalImputer\n",
        "\n",
        "imputer = CategoricalImputer('frequent', variables=['Embarked']) # frequent : 최빈값, missing : 주어진 설정값으로.\n",
        "imputed_data = imputer.fit_transform(titanic_data)\n",
        "imputed_data.Embarked[titanic_data.Embarked.isna()]"
      ]
    },
    {
      "cell_type": "code",
      "execution_count": null,
      "metadata": {
        "colab": {
          "base_uri": "https://localhost:8080/"
        },
        "id": "ZKqIHQNoQfJ5",
        "outputId": "771e4a71-45aa-432d-89c3-bc5ee0da532c"
      },
      "outputs": [
        {
          "name": "stdout",
          "output_type": "stream",
          "text": [
            "Index(['Survived', 'Pclass', 'Sex', 'Age', 'SibSp', 'Parch', 'Ticket', 'Fare',\n",
            "       'Embarked', 'Age_na', 'Embarked_na'],\n",
            "      dtype='object')\n",
            "61     1\n",
            "829    1\n",
            "Name: Embarked_na, dtype: int64\n",
            "5     1\n",
            "17    1\n",
            "19    1\n",
            "26    1\n",
            "28    1\n",
            "Name: Age_na, dtype: int64\n"
          ]
        }
      ],
      "source": [
        "from feature_engine.imputation import AddMissingIndicator\n",
        "\n",
        "imputer = AddMissingIndicator(variables=['Age','Embarked'])\n",
        "imputed_data = imputer.fit_transform(titanic_data)\n",
        "print(imputed_data.columns)\n",
        "print(imputed_data.Embarked_na[titanic_data.Embarked.isna()])\n",
        "print(imputed_data.Age_na[titanic_data.Age.isna()][:5])"
      ]
    },
    {
      "cell_type": "markdown",
      "metadata": {
        "id": "N_7Jt36w6jsu"
      },
      "source": [
        "## 2. 카테고리컬 인코딩 (Categorical encoding)\n",
        "변수가 아닌 클래스 이름 등으로 구성된 카테코리컬 데이터를 숫자 (벡터)로 변환해주는 함수들.\n",
        "\n",
        "- ```OneHotEncoder``` : 카테고리컬 변수에 대해 원핫 인코딩 수행.\n",
        "- ```OrdinalEncoder``` : 카테고리컬 변수를 정수로 인코딩"
      ]
    },
    {
      "cell_type": "code",
      "execution_count": null,
      "metadata": {
        "colab": {
          "base_uri": "https://localhost:8080/"
        },
        "id": "2yqf2vRx88YV",
        "outputId": "ddcb6ff6-e495-495c-965a-eab9a723eb38"
      },
      "outputs": [
        {
          "data": {
            "text/plain": [
              "Survived      int64\n",
              "Pclass        int64\n",
              "Sex          object\n",
              "Age         float64\n",
              "SibSp         int64\n",
              "Parch         int64\n",
              "Ticket       object\n",
              "Fare        float64\n",
              "Embarked     object\n",
              "dtype: object"
            ]
          },
          "execution_count": 8,
          "metadata": {},
          "output_type": "execute_result"
        }
      ],
      "source": [
        "titanic_data.dtypes"
      ]
    },
    {
      "cell_type": "code",
      "execution_count": null,
      "metadata": {
        "colab": {
          "base_uri": "https://localhost:8080/"
        },
        "id": "3iAOwEYxCUMf",
        "outputId": "4ec240ee-748d-4369-e256-2be1c7c46f32"
      },
      "outputs": [
        {
          "name": "stdout",
          "output_type": "stream",
          "text": [
            "   Survived   Age  SibSp  Parch            Ticket     Fare Embarked  Sex_male  \\\n",
            "0         0  22.0      1      0         A/5 21171   7.2500        S         1   \n",
            "1         1  38.0      1      0          PC 17599  71.2833        C         0   \n",
            "2         1  26.0      0      0  STON/O2. 3101282   7.9250        S         0   \n",
            "\n",
            "   Sex_female  Pclass_3  Pclass_1  Pclass_2  \n",
            "0           0         1         0         0  \n",
            "1           1         0         1         0  \n",
            "2           1         1         0         0  \n"
          ]
        }
      ],
      "source": [
        "from feature_engine.encoding import OneHotEncoder\n",
        "\n",
        "encoder = OneHotEncoder(\n",
        "    variables=['Sex', 'Pclass'],\n",
        "    ignore_format=True, # object, categorical 이외의 데이터에 대한 원핫인코딩 가능\n",
        "    )\n",
        "\n",
        "trans_data = encoder.fit_transform(titanic_data)\n",
        "print(trans_data.head(3))"
      ]
    },
    {
      "cell_type": "code",
      "execution_count": null,
      "metadata": {
        "colab": {
          "base_uri": "https://localhost:8080/"
        },
        "id": "Se6JqTX88lLz",
        "outputId": "85a44dc6-3189-417e-c9e6-1ae429771ae7"
      },
      "outputs": [
        {
          "name": "stdout",
          "output_type": "stream",
          "text": [
            "   Survived  Pclass  Sex   Age  SibSp  Parch  Ticket     Fare Embarked\n",
            "0         0       3    0  22.0      1      0       0   7.2500        S\n",
            "1         1       1    1  38.0      1      0       1  71.2833        C\n",
            "2         1       3    1  26.0      0      0       2   7.9250        S\n"
          ]
        }
      ],
      "source": [
        "from feature_engine.encoding import OrdinalEncoder\n",
        "\n",
        "encoder = OrdinalEncoder(\n",
        "    encoding_method='arbitrary',\n",
        "    variables=['Sex','Ticket'],\n",
        "    )\n",
        "\n",
        "trans_data = encoder.fit_transform(titanic_data)\n",
        "print(trans_data.head(3))"
      ]
    },
    {
      "cell_type": "markdown",
      "metadata": {
        "id": "5ElRlfbX_AC1"
      },
      "source": [
        "## 3. 이산화 (Discretization) / Binning\n",
        "연속형, 수치형 변수들을 정수 클래스로 이산화\n",
        "\n",
        "- ```EqualFrequencyDiscretiser``` : 주어진 bin에 따라서 같은 비율로 맞추도록 정수 클래스로 변환.\n",
        "- ```EqualWidthDiscretiser``` : 등간격으로 bin 생성 후 정수 클래스로 변환\n",
        "- ```ArbitraryDiscretiser``` : 주어진 임의의 범위 순으로 정수 클래스로 변환"
      ]
    },
    {
      "cell_type": "code",
      "execution_count": null,
      "metadata": {
        "colab": {
          "base_uri": "https://localhost:8080/"
        },
        "id": "G8XW_-FI_P1A",
        "outputId": "33ed8b17-346d-4986-8d9a-216110026df5"
      },
      "outputs": [
        {
          "name": "stdout",
          "output_type": "stream",
          "text": [
            "   Survived  Pclass     Sex   Age  SibSp  Parch            Ticket  Fare  \\\n",
            "0         0       3    male  22.0      1      0         A/5 21171     0   \n",
            "1         1       1  female  38.0      1      0          PC 17599     8   \n",
            "2         1       3  female  26.0      0      0  STON/O2. 3101282     2   \n",
            "\n",
            "  Embarked  \n",
            "0        S  \n",
            "1        C  \n",
            "2        S  \n"
          ]
        }
      ],
      "source": [
        "from feature_engine.discretisation import EqualFrequencyDiscretiser\n",
        "\n",
        "discretizer = EqualFrequencyDiscretiser(\n",
        "    variables=['Fare'],\n",
        "    q=10\n",
        "    )\n",
        "\n",
        "trans_data = discretizer.fit_transform(titanic_data)\n",
        "print(trans_data.head(3))"
      ]
    },
    {
      "cell_type": "code",
      "execution_count": null,
      "metadata": {
        "colab": {
          "base_uri": "https://localhost:8080/",
          "height": 448
        },
        "id": "MCqLQi3C_pAN",
        "outputId": "e9ac2095-1b17-4159-ecb4-baf148908c33"
      },
      "outputs": [
        {
          "data": {
            "text/plain": [
              "<Axes: >"
            ]
          },
          "execution_count": 12,
          "metadata": {},
          "output_type": "execute_result"
        },
        {
          "data": {
            "image/png": "[encoded data removed]",
            "text/plain": [
              "<Figure size 640x480 with 1 Axes>"
            ]
          },
          "metadata": {},
          "output_type": "display_data"
        }
      ],
      "source": [
        "trans_data.Fare.hist()"
      ]
    },
    {
      "cell_type": "code",
      "execution_count": null,
      "metadata": {
        "colab": {
          "base_uri": "https://localhost:8080/"
        },
        "id": "JintRmoWBxbS",
        "outputId": "ed9498dc-f46d-4646-da4e-83b6ab67691b"
      },
      "outputs": [
        {
          "name": "stdout",
          "output_type": "stream",
          "text": [
            "   Survived  Pclass     Sex   Age  SibSp  Parch            Ticket  Fare  \\\n",
            "0         0       3    male  22.0      1      0         A/5 21171     0   \n",
            "1         1       1  female  38.0      1      0          PC 17599     1   \n",
            "2         1       3  female  26.0      0      0  STON/O2. 3101282     0   \n",
            "\n",
            "  Embarked  \n",
            "0        S  \n",
            "1        C  \n",
            "2        S  \n"
          ]
        }
      ],
      "source": [
        "from feature_engine.discretisation import EqualWidthDiscretiser\n",
        "\n",
        "discretizer = EqualWidthDiscretiser(\n",
        "    variables=['Fare'],\n",
        "    bins=10\n",
        "    )\n",
        "\n",
        "trans_data = discretizer.fit_transform(titanic_data)\n",
        "print(trans_data.head(3))"
      ]
    },
    {
      "cell_type": "code",
      "execution_count": null,
      "metadata": {
        "colab": {
          "base_uri": "https://localhost:8080/",
          "height": 448
        },
        "id": "25r_CETGB41d",
        "outputId": "5d322595-aefa-48e0-a687-13fd53ae2ad0"
      },
      "outputs": [
        {
          "data": {
            "text/plain": [
              "<Axes: >"
            ]
          },
          "execution_count": 14,
          "metadata": {},
          "output_type": "execute_result"
        },
        {
          "data": {
            "image/png": "[encoded data removed]",
            "text/plain": [
              "<Figure size 640x480 with 1 Axes>"
            ]
          },
          "metadata": {},
          "output_type": "display_data"
        }
      ],
      "source": [
        "trans_data.Fare.hist()"
      ]
    },
    {
      "cell_type": "code",
      "execution_count": null,
      "metadata": {
        "colab": {
          "base_uri": "https://localhost:8080/"
        },
        "id": "xmhBNRU6_2mj",
        "outputId": "d7c5c86a-5437-4834-f697-e4d00f4bce63"
      },
      "outputs": [
        {
          "name": "stdout",
          "output_type": "stream",
          "text": [
            "   Survived  Pclass     Sex   Age  SibSp  Parch            Ticket  Fare  \\\n",
            "0         0       3    male  22.0      1      0         A/5 21171     0   \n",
            "1         1       1  female  38.0      1      0          PC 17599     1   \n",
            "2         1       3  female  26.0      0      0  STON/O2. 3101282     0   \n",
            "\n",
            "  Embarked  \n",
            "0        S  \n",
            "1        C  \n",
            "2        S  \n"
          ]
        }
      ],
      "source": [
        "from feature_engine.discretisation import ArbitraryDiscretiser\n",
        "\n",
        "discretizer = ArbitraryDiscretiser(\n",
        "    binning_dict = {'Fare' :[0,10,100,1000]}, ## 기존 variable이 binning_dict안으로 들어감\n",
        "    )\n",
        "\n",
        "trans_data = discretizer.fit_transform(titanic_data)\n",
        "print(trans_data.head(3))"
      ]
    },
    {
      "cell_type": "code",
      "execution_count": null,
      "metadata": {
        "colab": {
          "base_uri": "https://localhost:8080/",
          "height": 448
        },
        "id": "DyQN7f4uAwF_",
        "outputId": "0261ddae-b48f-4060-f640-32bad40f38bb"
      },
      "outputs": [
        {
          "data": {
            "text/plain": [
              "<Axes: >"
            ]
          },
          "execution_count": 16,
          "metadata": {},
          "output_type": "execute_result"
        },
        {
          "data": {
            "image/png": "[encoded data removed]",
            "text/plain": [
              "<Figure size 640x480 with 1 Axes>"
            ]
          },
          "metadata": {},
          "output_type": "display_data"
        }
      ],
      "source": [
        "trans_data.Fare.hist()"
      ]
    },
    {
      "cell_type": "markdown",
      "metadata": {
        "id": "Xcqm6TUhClPm"
      },
      "source": [
        "## 4. 아웃라이어 처리\n",
        "아웃라이어/이상값 처리\n",
        "\n",
        "- ```Winsorizer``` : numerical variables에 대해 조건에 따라서 극단값 제한. e.g., 가우시안 : 평균+-3표준편차, IQR : 박스플롯 아웃라이어 처리\n",
        "- ```ArbitraryOutlierCapper``` : 임의의 기준값 이상/이하인 값으로 제한.\n",
        "- ```OutlierTrimmer``` : Winsorizer와 유사하나 극단값을 제한이 아닌 제외함."
      ]
    },
    {
      "cell_type": "code",
      "execution_count": null,
      "metadata": {
        "colab": {
          "base_uri": "https://localhost:8080/"
        },
        "id": "FOXS98FkCG0X",
        "outputId": "81c522fa-1382-40ce-c3bf-63c551c9f09a"
      },
      "outputs": [
        {
          "name": "stdout",
          "output_type": "stream",
          "text": [
            "Age range before capping 0.42 80.0\n",
            "Age range after capping 15.182796496241505 44.21543879787613\n"
          ]
        }
      ],
      "source": [
        "# Winsorizer by gaussian\n",
        "from feature_engine.outliers import Winsorizer\n",
        "\n",
        "outlier_remover = Winsorizer(\n",
        "    variables = ['Age'],\n",
        "    capping_method = 'gaussian',\n",
        "    tail = 'both', # 'right', 'left','both'\n",
        "    fold = 1, # std scale\n",
        "    missing_values = 'ignore'\n",
        "    )\n",
        "\n",
        "removed_data = outlier_remover.fit_transform(titanic_data)\n",
        "\n",
        "print('Age range before capping', titanic_data.Age.min(), titanic_data.Age.max())\n",
        "print('Age range after capping',removed_data.Age.min(), removed_data.Age.max())"
      ]
    },
    {
      "cell_type": "code",
      "execution_count": null,
      "metadata": {
        "colab": {
          "base_uri": "https://localhost:8080/"
        },
        "id": "Q8F7KrIBM0df",
        "outputId": "f0cab2a8-56c7-4dee-e081-fd343e911c92"
      },
      "outputs": [
        {
          "name": "stdout",
          "output_type": "stream",
          "text": [
            "Age range before capping 0.42 80.0\n",
            "Age range after capping 4.0 56.0\n"
          ]
        }
      ],
      "source": [
        "# Winsorizer by quantiles\n",
        "\n",
        "outlier_remover = Winsorizer(\n",
        "    variables = ['Age'],\n",
        "    capping_method = 'quantiles',\n",
        "    tail = 'both', # 'right', 'left','both'\n",
        "    fold = 0.05, # std scale\n",
        "    missing_values = 'ignore'\n",
        "    )\n",
        "\n",
        "removed_data = outlier_remover.fit_transform(titanic_data)\n",
        "print('Age range before capping', titanic_data.Age.min(), titanic_data.Age.max())\n",
        "print('Age range after capping',removed_data.Age.min(), removed_data.Age.max())"
      ]
    },
    {
      "cell_type": "code",
      "execution_count": null,
      "metadata": {
        "colab": {
          "base_uri": "https://localhost:8080/"
        },
        "id": "B7bDCHgpPU1w",
        "outputId": "6a418dac-6793-4efa-8a41-e46a35bea51e"
      },
      "outputs": [
        {
          "name": "stdout",
          "output_type": "stream",
          "text": [
            "516\n",
            "Survived    0\n",
            "Pclass      0\n",
            "Sex         0\n",
            "Age         0\n",
            "SibSp       0\n",
            "Parch       0\n",
            "Ticket      0\n",
            "Fare        0\n",
            "Embarked    1\n",
            "dtype: int64\n"
          ]
        }
      ],
      "source": [
        "# Outlier Trimmer by gaussian\n",
        "from feature_engine.outliers import OutlierTrimmer\n",
        "\n",
        "outlier_remover = OutlierTrimmer(\n",
        "    variables = ['Age'],\n",
        "    capping_method = 'gaussian',\n",
        "    tail = 'both', # 'right', 'left','both'\n",
        "    fold = 1, # std scale\n",
        "    missing_values = 'ignore'\n",
        "    )\n",
        "\n",
        "removed_data = outlier_remover.fit_transform(titanic_data)\n",
        "print(len(removed_data))\n",
        "print(removed_data.isna().sum())"
      ]
    },
    {
      "cell_type": "markdown",
      "metadata": {
        "id": "oVfkbsTMRl7B"
      },
      "source": [
        "## 5. 피쳐 생성\n",
        "기존의 변수를 바탕으로 새로운 feature (variable) 생성\n",
        "\n",
        "- ```Winsorizer``` : numerical variables에 대해 조건에 따라서 극단값 제한. e.g., 가우시안 : 평균+-3표준편차, IQR : 박스플롯 아웃라이어 처리\n",
        "- ```RelativeFeatures``` : 주어진 변수와 레퍼런스 변수 사이에서의 연산 사칙연산 등 수행\n",
        "- ```CyclicalFeatures``` : sin/cos(variable * (2. * pi / max_value)) 변환 수행\n",
        "----------------------------------------------------------\n",
        "- ```PolynomialFeatures``` : Scikit-learn 제공, numerical 변수들에 대한 polynomial 조합 생성"
      ]
    },
    {
      "cell_type": "code",
      "execution_count": null,
      "metadata": {
        "colab": {
          "base_uri": "https://localhost:8080/"
        },
        "id": "uI-Ih8oWRDSt",
        "outputId": "6de8c003-b98b-4eb8-c4c8-504a7b153bea"
      },
      "outputs": [
        {
          "name": "stdout",
          "output_type": "stream",
          "text": [
            "Index(['Survived', 'Pclass', 'Sex', 'Age', 'SibSp', 'Parch', 'Ticket', 'Fare',\n",
            "       'Embarked', 'sum_SibSp_Parch'],\n",
            "      dtype='object')\n",
            "   Survived  Pclass     Sex   Age  SibSp  Parch            Ticket     Fare  \\\n",
            "0         0       3    male  22.0      1      0         A/5 21171   7.2500   \n",
            "1         1       1  female  38.0      1      0          PC 17599  71.2833   \n",
            "2         1       3  female  26.0      0      0  STON/O2. 3101282   7.9250   \n",
            "\n",
            "  Embarked  sum_SibSp_Parch  \n",
            "0        S                1  \n",
            "1        C                1  \n",
            "2        S                0  \n"
          ]
        }
      ],
      "source": [
        "from feature_engine.creation import MathFeatures\n",
        "\n",
        "feature_creator = MathFeatures(\n",
        "    variables = ['SibSp','Parch'],\n",
        "    func = \"sum\", # sum, prod, mean, max, min, etc.\n",
        "    missing_values = 'ignore'\n",
        "    )\n",
        "\n",
        "new_data = feature_creator.fit_transform(titanic_data)\n",
        "print(new_data.columns)\n",
        "print(new_data.head(3))"
      ]
    },
    {
      "cell_type": "code",
      "execution_count": null,
      "metadata": {
        "colab": {
          "base_uri": "https://localhost:8080/"
        },
        "id": "F5_rAPsFZhQ1",
        "outputId": "d1c26b7c-a497-4317-cb04-16e99c180f4f"
      },
      "outputs": [
        {
          "name": "stdout",
          "output_type": "stream",
          "text": [
            "['1' 'Fare' 'SibSp' 'Parch' 'Fare SibSp' 'Fare Parch' 'SibSp Parch']\n",
            "[[ 1.      7.25    1.      0.      7.25    0.      0.    ]\n",
            " [ 1.     71.2833  1.      0.     71.2833  0.      0.    ]\n",
            " [ 1.      7.925   0.      0.      0.      0.      0.    ]]\n"
          ]
        }
      ],
      "source": [
        "# Numerical feature만 조합가능.\n",
        "# scikit-learn 라이브러리 활용\n",
        "from sklearn.preprocessing import PolynomialFeatures\n",
        "\n",
        "feature_creator = PolynomialFeatures(\n",
        "    degree = 2,\n",
        "    interaction_only = True,\n",
        "    )\n",
        "\n",
        "new_data = feature_creator.fit_transform(titanic_data[['Fare','SibSp','Parch']])\n",
        "\n",
        "print(feature_creator.get_feature_names_out(['Fare','SibSp','Parch']))\n",
        "print(new_data[:3,:])"
      ]
    },
    {
      "cell_type": "markdown",
      "metadata": {
        "id": "dPruqmjwr2-8"
      },
      "source": [
        "## 6. 연습\n",
        "위의 기법 등을 활용해서 전처리가 완료된 타이타닉 데이터셋을 생성해봅니다."
      ]
    },
    {
      "cell_type": "code",
      "execution_count": null,
      "metadata": {
        "id": "-gFhljNZjKod"
      },
      "outputs": [],
      "source": [
        "imputer = DropMissingData(variables=['Age', 'Embarked'])\n",
        "imputed_data = imputer.fit_transform(titanic_data)\n",
        "encoder = OrdinalEncoder(\n",
        "    encoding_method='arbitrary',\n",
        "    variables=['Sex','Embarked'],\n",
        "    )\n",
        "trans_data = encoder.fit_transform(imputed_data)\n",
        "data = trans_data.drop(['Ticket'],axis=1)"
      ]
    },
    {
      "cell_type": "code",
      "execution_count": null,
      "metadata": {
        "colab": {
          "base_uri": "https://localhost:8080/",
          "height": 206
        },
        "id": "utM4Eskrss8i",
        "outputId": "6a5503e2-e8eb-4ef6-966f-d0dfc65eabb5"
      },
      "outputs": [
        {
          "data": {
            "text/html": [
              "\n",
              "  <div id=\"df-a3112883-cb49-4f31-a245-7e3ce3bf9dab\">\n",
              "    <div class=\"colab-df-container\">\n",
              "      <div>\n",
              "<style scoped>\n",
              "    .dataframe tbody tr th:only-of-type {\n",
              "        vertical-align: middle;\n",
              "    }\n",
              "\n",
              "    .dataframe tbody tr th {\n",
              "        vertical-align: top;\n",
              "    }\n",
              "\n",
              "    .dataframe thead th {\n",
              "        text-align: right;\n",
              "    }\n",
              "</style>\n",
              "<table border=\"1\" class=\"dataframe\">\n",
              "  <thead>\n",
              "    <tr style=\"text-align: right;\">\n",
              "      <th></th>\n",
              "      <th>Survived</th>\n",
              "      <th>Pclass</th>\n",
              "      <th>Sex</th>\n",
              "      <th>Age</th>\n",
              "      <th>SibSp</th>\n",
              "      <th>Parch</th>\n",
              "      <th>Fare</th>\n",
              "      <th>Embarked</th>\n",
              "    </tr>\n",
              "  </thead>\n",
              "  <tbody>\n",
              "    <tr>\n",
              "      <th>0</th>\n",
              "      <td>0</td>\n",
              "      <td>3</td>\n",
              "      <td>0</td>\n",
              "      <td>22.0</td>\n",
              "      <td>1</td>\n",
              "      <td>0</td>\n",
              "      <td>7.2500</td>\n",
              "      <td>0</td>\n",
              "    </tr>\n",
              "    <tr>\n",
              "      <th>1</th>\n",
              "      <td>1</td>\n",
              "      <td>1</td>\n",
              "      <td>1</td>\n",
              "      <td>38.0</td>\n",
              "      <td>1</td>\n",
              "      <td>0</td>\n",
              "      <td>71.2833</td>\n",
              "      <td>1</td>\n",
              "    </tr>\n",
              "    <tr>\n",
              "      <th>2</th>\n",
              "      <td>1</td>\n",
              "      <td>3</td>\n",
              "      <td>1</td>\n",
              "      <td>26.0</td>\n",
              "      <td>0</td>\n",
              "      <td>0</td>\n",
              "      <td>7.9250</td>\n",
              "      <td>0</td>\n",
              "    </tr>\n",
              "    <tr>\n",
              "      <th>3</th>\n",
              "      <td>1</td>\n",
              "      <td>1</td>\n",
              "      <td>1</td>\n",
              "      <td>35.0</td>\n",
              "      <td>1</td>\n",
              "      <td>0</td>\n",
              "      <td>53.1000</td>\n",
              "      <td>0</td>\n",
              "    </tr>\n",
              "    <tr>\n",
              "      <th>4</th>\n",
              "      <td>0</td>\n",
              "      <td>3</td>\n",
              "      <td>0</td>\n",
              "      <td>35.0</td>\n",
              "      <td>0</td>\n",
              "      <td>0</td>\n",
              "      <td>8.0500</td>\n",
              "      <td>0</td>\n",
              "    </tr>\n",
              "  </tbody>\n",
              "</table>\n",
              "</div>\n",
              "      <button class=\"colab-df-convert\" onclick=\"convertToInteractive('df-a3112883-cb49-4f31-a245-7e3ce3bf9dab')\"\n",
              "              title=\"Convert this dataframe to an interactive table.\"\n",
              "              style=\"display:none;\">\n",
              "        \n",
              "  <svg xmlns=\"http://www.w3.org/2000/svg\" height=\"24px\"viewBox=\"0 0 24 24\"\n",
              "       width=\"24px\">\n",
              "    <path d=\"M0 0h24v24H0V0z\" fill=\"none\"/>\n",
              "    <path d=\"M18.56 5.44l.94 2.06.94-2.06 2.06-.94-2.06-.94-.94-2.06-.94 2.06-2.06.94zm-11 1L8.5 8.5l.94-2.06 2.06-.94-2.06-.94L8.5 2.5l-.94 2.06-2.06.94zm10 10l.94 2.06.94-2.06 2.06-.94-2.06-.94-.94-2.06-.94 2.06-2.06.94z\"/><path d=\"M17.41 7.96l-1.37-1.37c-.4-.4-.92-.59-1.43-.59-.52 0-1.04.2-1.43.59L10.3 9.45l-7.72 7.72c-.78.78-.78 2.05 0 2.83L4 21.41c.39.39.9.59 1.41.59.51 0 1.02-.2 1.41-.59l7.78-7.78 2.81-2.81c.8-.78.8-2.07 0-2.86zM5.41 20L4 18.59l7.72-7.72 1.47 1.35L5.41 20z\"/>\n",
              "  </svg>\n",
              "      </button>\n",
              "      \n",
              "  <style>\n",
              "    .colab-df-container {\n",
              "      display:flex;\n",
              "      flex-wrap:wrap;\n",
              "      gap: 12px;\n",
              "    }\n",
              "\n",
              "    .colab-df-convert {\n",
              "      background-color: #E8F0FE;\n",
              "      border: none;\n",
              "      border-radius: 50%;\n",
              "      cursor: pointer;\n",
              "      display: none;\n",
              "      fill: #1967D2;\n",
              "      height: 32px;\n",
              "      padding: 0 0 0 0;\n",
              "      width: 32px;\n",
              "    }\n",
              "\n",
              "    .colab-df-convert:hover {\n",
              "      background-color: #E2EBFA;\n",
              "      box-shadow: 0px 1px 2px rgba(60, 64, 67, 0.3), 0px 1px 3px 1px rgba(60, 64, 67, 0.15);\n",
              "      fill: #174EA6;\n",
              "    }\n",
              "\n",
              "    [theme=dark] .colab-df-convert {\n",
              "      background-color: #3B4455;\n",
              "      fill: #D2E3FC;\n",
              "    }\n",
              "\n",
              "    [theme=dark] .colab-df-convert:hover {\n",
              "      background-color: #434B5C;\n",
              "      box-shadow: 0px 1px 3px 1px rgba(0, 0, 0, 0.15);\n",
              "      filter: drop-shadow(0px 1px 2px rgba(0, 0, 0, 0.3));\n",
              "      fill: #FFFFFF;\n",
              "    }\n",
              "  </style>\n",
              "\n",
              "      <script>\n",
              "        const buttonEl =\n",
              "          document.querySelector('#df-a3112883-cb49-4f31-a245-7e3ce3bf9dab button.colab-df-convert');\n",
              "        buttonEl.style.display =\n",
              "          google.colab.kernel.accessAllowed ? 'block' : 'none';\n",
              "\n",
              "        async function convertToInteractive(key) {\n",
              "          const element = document.querySelector('#df-a3112883-cb49-4f31-a245-7e3ce3bf9dab');\n",
              "          const dataTable =\n",
              "            await google.colab.kernel.invokeFunction('convertToInteractive',\n",
              "                                                     [key], {});\n",
              "          if (!dataTable) return;\n",
              "\n",
              "          const docLinkHtml = 'Like what you see? Visit the ' +\n",
              "            '<a target=\"_blank\" href=https://colab.research.google.com/notebooks/data_table.ipynb>data table notebook</a>'\n",
              "            + ' to learn more about interactive tables.';\n",
              "          element.innerHTML = '';\n",
              "          dataTable['output_type'] = 'display_data';\n",
              "          await google.colab.output.renderOutput(dataTable, element);\n",
              "          const docLink = document.createElement('div');\n",
              "          docLink.innerHTML = docLinkHtml;\n",
              "          element.appendChild(docLink);\n",
              "        }\n",
              "      </script>\n",
              "    </div>\n",
              "  </div>\n",
              "  "
            ],
            "text/plain": [
              "   Survived  Pclass  Sex   Age  SibSp  Parch     Fare  Embarked\n",
              "0         0       3    0  22.0      1      0   7.2500         0\n",
              "1         1       1    1  38.0      1      0  71.2833         1\n",
              "2         1       3    1  26.0      0      0   7.9250         0\n",
              "3         1       1    1  35.0      1      0  53.1000         0\n",
              "4         0       3    0  35.0      0      0   8.0500         0"
            ]
          },
          "execution_count": 23,
          "metadata": {},
          "output_type": "execute_result"
        }
      ],
      "source": [
        "data.head(5)"
      ]
    },
    {
      "cell_type": "markdown",
      "metadata": {
        "id": "Ci4t3OXnjA8e"
      },
      "source": [
        "#2. 임밸런스 데이터\n",
        "\n",
        "이번 실습에서는 임밸런스 데이터를 다루기 위한 imbalanced-learn의 기능들을 실습해보도록하겠습니다.\n",
        "학습데이터 내의 클래스의 비율을 맞춰주기 위한 것이기때문에, 사전에 클래스에 대한 변수를 필요로 합니다."
      ]
    },
    {
      "cell_type": "code",
      "execution_count": null,
      "metadata": {
        "colab": {
          "base_uri": "https://localhost:8080/"
        },
        "id": "RnytWDAujAu-",
        "outputId": "ecd1da22-a7fa-4209-d235-dc4087bfd90e"
      },
      "outputs": [
        {
          "name": "stdout",
          "output_type": "stream",
          "text": [
            "Requirement already satisfied: imbalanced-learn in /usr/local/lib/python3.10/dist-packages (0.10.1)\n",
            "Requirement already satisfied: numpy>=1.17.3 in /usr/local/lib/python3.10/dist-packages (from imbalanced-learn) (1.22.4)\n",
            "Requirement already satisfied: scipy>=1.3.2 in /usr/local/lib/python3.10/dist-packages (from imbalanced-learn) (1.10.1)\n",
            "Requirement already satisfied: scikit-learn>=1.0.2 in /usr/local/lib/python3.10/dist-packages (from imbalanced-learn) (1.2.2)\n",
            "Requirement already satisfied: joblib>=1.1.1 in /usr/local/lib/python3.10/dist-packages (from imbalanced-learn) (1.2.0)\n",
            "Requirement already satisfied: threadpoolctl>=2.0.0 in /usr/local/lib/python3.10/dist-packages (from imbalanced-learn) (3.1.0)\n"
          ]
        }
      ],
      "source": [
        "# 라이브러리 다운로드\n",
        "!pip install imbalanced-learn"
      ]
    },
    {
      "cell_type": "code",
      "execution_count": null,
      "metadata": {
        "colab": {
          "base_uri": "https://localhost:8080/",
          "height": 448
        },
        "id": "aFtsgYM4vQ2M",
        "outputId": "e11af973-bd37-4334-f959-f381feadb331"
      },
      "outputs": [
        {
          "data": {
            "text/plain": [
              "<Axes: >"
            ]
          },
          "execution_count": 25,
          "metadata": {},
          "output_type": "execute_result"
        },
        {
          "data": {
            "image/png": "[encoded data removed]",
            "text/plain": [
              "<Figure size 640x480 with 1 Axes>"
            ]
          },
          "metadata": {},
          "output_type": "display_data"
        }
      ],
      "source": [
        "# 타이타닉 생존자 비율\n",
        "data.Survived.hist()"
      ]
    },
    {
      "cell_type": "code",
      "execution_count": null,
      "metadata": {
        "colab": {
          "base_uri": "https://localhost:8080/",
          "height": 448
        },
        "id": "OldwTjehylmo",
        "outputId": "4b5cf7fc-3b16-452e-9562-7c3917d3dd39"
      },
      "outputs": [
        {
          "data": {
            "text/plain": [
              "<Axes: >"
            ]
          },
          "execution_count": 26,
          "metadata": {},
          "output_type": "execute_result"
        },
        {
          "data": {
            "image/png": "[encoded data removed]",
            "text/plain": [
              "<Figure size 640x480 with 1 Axes>"
            ]
          },
          "metadata": {},
          "output_type": "display_data"
        }
      ],
      "source": [
        "# 타이타닉 생존자 비율\n",
        "data.Pclass.hist()"
      ]
    },
    {
      "cell_type": "markdown",
      "metadata": {
        "id": "A1-APQgWv8aK"
      },
      "source": [
        "## 1. Undersampling\n",
        "\n",
        "```RandomUnderSampler``` : 주류 클래스 데이터를 랜덤하게 샘플링하여 숫자를 줄임.\n"
      ]
    },
    {
      "cell_type": "code",
      "execution_count": null,
      "metadata": {
        "colab": {
          "base_uri": "https://localhost:8080/",
          "height": 450
        },
        "id": "C42oR4DtwfvH",
        "outputId": "5e8123d6-1903-4843-cb8a-a4918243180a"
      },
      "outputs": [
        {
          "data": {
            "text/plain": [
              "<Axes: >"
            ]
          },
          "execution_count": 27,
          "metadata": {},
          "output_type": "execute_result"
        },
        {
          "data": {
            "image/png": "[encoded data removed]",
            "text/plain": [
              "<Figure size 640x480 with 1 Axes>"
            ]
          },
          "metadata": {},
          "output_type": "display_data"
        }
      ],
      "source": [
        "from imblearn.under_sampling import RandomUnderSampler\n",
        "\n",
        "# Binary class의 경우\n",
        "sampler = RandomUnderSampler(random_state=0)\n",
        "sampled_df, sampled_lable = sampler.fit_resample(data, data.Survived)\n",
        "\n",
        "sampled_df.Survived.hist()"
      ]
    },
    {
      "cell_type": "code",
      "execution_count": null,
      "metadata": {
        "colab": {
          "base_uri": "https://localhost:8080/",
          "height": 448
        },
        "id": "woVIQWR9ysnc",
        "outputId": "9ab93f08-c2e8-4c86-8c76-81084133a528"
      },
      "outputs": [
        {
          "data": {
            "text/plain": [
              "<Axes: >"
            ]
          },
          "execution_count": 28,
          "metadata": {},
          "output_type": "execute_result"
        },
        {
          "data": {
            "image/png": "[encoded data removed]",
            "text/plain": [
              "<Figure size 640x480 with 1 Axes>"
            ]
          },
          "metadata": {},
          "output_type": "display_data"
        }
      ],
      "source": [
        "# Multiclass의 경우\n",
        "sampler = RandomUnderSampler(random_state=0, sampling_strategy = 'majority') #\n",
        "sampled_df, sampled_lable = sampler.fit_resample(data, data.Pclass)\n",
        "\n",
        "sampled_df.Pclass.hist()"
      ]
    },
    {
      "cell_type": "markdown",
      "metadata": {
        "id": "ctTh4G5F0Ibq"
      },
      "source": [
        "## 1. Oversampling\n",
        "\n",
        "오버샘플링은 소수 클래스의 데이터 숫자를 늘려줍니다. data augmentation을 위해 살용할 수 있습니다.\n",
        "\n",
        "```RandomOverSampler``` : 비주류 클래스 데이터를 랜덤하게 샘플링하여 숫자를 늘림.\n",
        "```SMOTE```: Synthetic Minority Over-sampling , K-NN을 활용하여 신규 샘플을 생성.\n",
        "```ADASYN```: SMOTE와 유사하지만, 분류 경계에 더 많은 소수 클래스 샘플을 생성.\n"
      ]
    },
    {
      "cell_type": "code",
      "execution_count": null,
      "metadata": {
        "colab": {
          "base_uri": "https://localhost:8080/"
        },
        "id": "JQbnL_V71r3H",
        "outputId": "e83fda53-38fe-486c-d786-0dbd08e90a4e"
      },
      "outputs": [
        {
          "name": "stdout",
          "output_type": "stream",
          "text": [
            "          Pclass  Sex  Age  SibSp  Parch  Fare  Embarked\n",
            "Survived                                                \n",
            "0            424  424  424    424    424   424       424\n",
            "1            424  424  424    424    424   424       424\n"
          ]
        }
      ],
      "source": [
        "from imblearn.over_sampling import RandomOverSampler\n",
        "\n",
        "# Binary class의 경우\n",
        "sampler = RandomOverSampler(random_state=0)\n",
        "sampled_df, sampled_lable = sampler.fit_resample(data, data.Survived)\n",
        "\n",
        "print(sampled_df.groupby('Survived').count())"
      ]
    },
    {
      "cell_type": "code",
      "execution_count": null,
      "metadata": {
        "colab": {
          "base_uri": "https://localhost:8080/"
        },
        "id": "RpPuyGja0dGH",
        "outputId": "2d9da012-066e-464e-a963-ccddcb2262a8"
      },
      "outputs": [
        {
          "name": "stdout",
          "output_type": "stream",
          "text": [
            "        Survived  Sex  Age  SibSp  Parch  Fare  Embarked\n",
            "Pclass                                                  \n",
            "1            355  355  355    355    355   355       355\n",
            "2            355  355  355    355    355   355       355\n",
            "3            355  355  355    355    355   355       355\n"
          ]
        }
      ],
      "source": [
        "sampler = RandomOverSampler(random_state=0, sampling_strategy = 'not majority') #\n",
        "sampled_df, sampled_lable = sampler.fit_resample(data, data.Pclass)\n",
        "\n",
        "print(sampled_df.groupby('Pclass').count())"
      ]
    },
    {
      "cell_type": "code",
      "execution_count": null,
      "metadata": {
        "colab": {
          "base_uri": "https://localhost:8080/"
        },
        "id": "9hp6Jp1M116I",
        "outputId": "16dca797-299f-4a67-ec72-f39781497495"
      },
      "outputs": [
        {
          "name": "stdout",
          "output_type": "stream",
          "text": [
            "          Pclass  Sex  Age  SibSp  Parch  Fare  Embarked\n",
            "Survived                                                \n",
            "0            424  424  424    424    424   424       424\n",
            "1            424  424  424    424    424   424       424\n"
          ]
        }
      ],
      "source": [
        "from imblearn.over_sampling import SMOTE\n",
        "\n",
        "sampler = SMOTE(random_state=0, k_neighbors = 3)\n",
        "sampled_df, sampled_lable = sampler.fit_resample(data, data.Survived)\n",
        "\n",
        "print(sampled_df.groupby('Survived').count())"
      ]
    },
    {
      "cell_type": "code",
      "execution_count": null,
      "metadata": {
        "colab": {
          "base_uri": "https://localhost:8080/"
        },
        "id": "D4kojBhT2PyL",
        "outputId": "2a3301b3-ee55-4850-cdeb-0b3d77413c2e"
      },
      "outputs": [
        {
          "data": {
            "text/plain": [
              "843    23.289512\n",
              "844     1.872885\n",
              "845    40.000000\n",
              "846    20.051902\n",
              "847    20.000000\n",
              "Name: Age, dtype: float64"
            ]
          },
          "execution_count": 32,
          "metadata": {},
          "output_type": "execute_result"
        }
      ],
      "source": [
        "# categorical, integer 등을 고려해야할 필요가 있음.\n",
        "sampled_df[sampled_df.Survived ==1].Age.tail(5)"
      ]
    },
    {
      "cell_type": "code",
      "execution_count": null,
      "metadata": {
        "colab": {
          "base_uri": "https://localhost:8080/"
        },
        "id": "WWhyTmr_2W35",
        "outputId": "4fadf83b-81a3-427a-85f1-e5c20c756175"
      },
      "outputs": [
        {
          "name": "stdout",
          "output_type": "stream",
          "text": [
            "          Pclass  Sex  Age  SibSp  Parch  Fare  Embarked\n",
            "Survived                                                \n",
            "0            424  424  424    424    424   424       424\n",
            "1            400  400  400    400    400   400       400\n"
          ]
        }
      ],
      "source": [
        "from imblearn.over_sampling import ADASYN\n",
        "\n",
        "sampler = ADASYN(random_state=0, n_neighbors = 5)\n",
        "sampled_df, sampled_lable = sampler.fit_resample(data, data.Survived)\n",
        "print(sampled_df.groupby('Survived').count())"
      ]
    },
    {
      "cell_type": "code",
      "execution_count": null,
      "metadata": {
        "colab": {
          "base_uri": "https://localhost:8080/",
          "height": 507
        },
        "id": "oWFh1vRA5aAu",
        "outputId": "208df980-b8d2-4196-f6c5-0ce4ea67c8a7"
      },
      "outputs": [
        {
          "data": {
            "image/png": "[encoded data removed]",
            "text/plain": [
              "<Figure size 1000x500 with 3 Axes>"
            ]
          },
          "metadata": {},
          "output_type": "display_data"
        }
      ],
      "source": [
        "# SMOTE와 ADASYN의 차이점\n",
        "import matplotlib.pyplot as plt\n",
        "import numpy as np\n",
        "# 2차원 가우시안 변수 분포 생성\n",
        "np.random.seed(0)\n",
        "mean1 = [0, 0]\n",
        "cov1 = [[1, 0.8], [0.8, 1]]\n",
        "mean2 = [1, 1]\n",
        "cov2 = [[1, -0.8], [-0.8, 1]]\n",
        "X1 = np.random.multivariate_normal(mean1, cov1, 200)\n",
        "X2 = np.random.multivariate_normal(mean2, cov2, 50)\n",
        "\n",
        "X = np.concatenate([X1,X2])\n",
        "y = np.concatenate([np.zeros(200),np.ones(50)])\n",
        "# SMOTE 적용\n",
        "smote = SMOTE()\n",
        "X_smote, y_smote = smote.fit_resample(X, y)\n",
        "\n",
        "# ADASYN 적용\n",
        "adasyn = ADASYN()\n",
        "X_adasyn, y_adasyn = adasyn.fit_resample(X, y)\n",
        "\n",
        "# 데이터 시각화\n",
        "plt.figure(figsize=(10, 5))\n",
        "plt.subplot(1, 3, 1)\n",
        "plt.scatter(X1[:, 0], X1[:, 1], c='blue', label='Class 1')\n",
        "plt.scatter(X2[:, 0], X2[:, 1], c='red', label='Class 2')\n",
        "plt.title('Original Data')\n",
        "plt.legend()\n",
        "\n",
        "plt.subplot(1, 3, 2)\n",
        "plt.scatter(X_smote[:, 0], X_smote[:, 1], c=['blue' if label == 0 else 'red' for label in y_smote], label='SMOTE')\n",
        "plt.title('SMOTE')\n",
        "plt.legend()\n",
        "\n",
        "plt.subplot(1, 3, 3)\n",
        "plt.scatter(X_adasyn[:, 0], X_adasyn[:, 1], c=['blue' if label == 0 else 'red' for label in y_adasyn], label='ADASYN')\n",
        "plt.title('SMOTE')\n",
        "plt.legend()\n",
        "\n",
        "plt.tight_layout()\n",
        "plt.show()\n"
      ]
    },
    {
      "cell_type": "markdown",
      "metadata": {
        "id": "z9SEiUBs-9YJ"
      },
      "source": [
        "# 3. 하이퍼 파라미터 최적화 with Optuna\n",
        "\n",
        "이전 실습자료에서는 scikit-learn 랜덤포레스트 모델과 skopt 라이브러리를 활용하여 모델 탐색 및 하이퍼 파라미터 최적화를 수행하였습니다.  \n",
        "이번 실습에서는 lightGBM과 optuna를 활용한 모델 학습을 수행해보도록하겠습니다."
      ]
    },
    {
      "cell_type": "markdown",
      "metadata": {
        "id": "tCSx7p5k_6jP"
      },
      "source": [
        "## 1. LightGBM 모델 트레이닝"
      ]
    },
    {
      "cell_type": "code",
      "execution_count": null,
      "metadata": {
        "colab": {
          "base_uri": "https://localhost:8080/"
        },
        "id": "K7xGc5hUAuk2",
        "outputId": "d206d459-5401-4f33-c6fe-0b14aedd092b"
      },
      "outputs": [
        {
          "name": "stdout",
          "output_type": "stream",
          "text": [
            "Requirement already satisfied: lightgbm in /usr/local/lib/python3.10/dist-packages (3.3.5)\n",
            "Requirement already satisfied: wheel in /usr/local/lib/python3.10/dist-packages (from lightgbm) (0.40.0)\n",
            "Requirement already satisfied: numpy in /usr/local/lib/python3.10/dist-packages (from lightgbm) (1.22.4)\n",
            "Requirement already satisfied: scipy in /usr/local/lib/python3.10/dist-packages (from lightgbm) (1.10.1)\n",
            "Requirement already satisfied: scikit-learn!=0.22.0 in /usr/local/lib/python3.10/dist-packages (from lightgbm) (1.2.2)\n",
            "Requirement already satisfied: joblib>=1.1.1 in /usr/local/lib/python3.10/dist-packages (from scikit-learn!=0.22.0->lightgbm) (1.2.0)\n",
            "Requirement already satisfied: threadpoolctl>=2.0.0 in /usr/local/lib/python3.10/dist-packages (from scikit-learn!=0.22.0->lightgbm) (3.1.0)\n"
          ]
        }
      ],
      "source": [
        "!pip install lightgbm"
      ]
    },
    {
      "cell_type": "code",
      "execution_count": null,
      "metadata": {
        "id": "-ElbbsjR_DAq"
      },
      "outputs": [],
      "source": [
        "from sklearn.model_selection import train_test_split\n",
        "\n",
        "X = data.drop('Survived', axis=1)\n",
        "y = data['Survived']\n",
        "X_train, X_test, y_train, y_test = train_test_split(X, y, test_size=0.2, stratify=y, random_state=0) # Stratified split 적용\n"
      ]
    },
    {
      "cell_type": "code",
      "execution_count": null,
      "metadata": {
        "colab": {
          "base_uri": "https://localhost:8080/"
        },
        "id": "fP2ib24vAkam",
        "outputId": "b248089b-bb8e-44cc-f0ca-8ada4106a23f"
      },
      "outputs": [
        {
          "name": "stdout",
          "output_type": "stream",
          "text": [
            "Accuracy: 0.8321678321678322\n"
          ]
        }
      ],
      "source": [
        "import lightgbm as lgb\n",
        "from sklearn.metrics import accuracy_score\n",
        "\n",
        "\n",
        "# LightGBM 모델 설정\n",
        "params = {\n",
        "    'objective': 'binary',\n",
        "    'metric': 'binary_logloss',\n",
        "    'boosting_type': 'gbdt',\n",
        "    'max_depth' : 3,\n",
        "    'learning_rate': 0.1,\n",
        "}\n",
        "\n",
        "# LightGBM 모델 학습\n",
        "model = lgb.LGBMClassifier(**params)\n",
        "model.fit(X_train, y_train)\n",
        "\n",
        "# 테스트 데이터에 대한 예측\n",
        "y_pred = model.predict(X_test)\n",
        "\n",
        "# 정확도 평가\n",
        "accuracy = accuracy_score(y_test, y_pred)\n",
        "print(\"Accuracy:\", accuracy)\n"
      ]
    },
    {
      "cell_type": "markdown",
      "source": [
        "## 매뉴얼 하이퍼 파라미터 조정.\n",
        "\n",
        "위의 코드에서 하이퍼 파라미터들을 수정해가면서 Accuracy를 올려보세요.\n",
        "\n",
        "https://lightgbm.readthedocs.io/en/stable/Parameters-Tuning.html"
      ],
      "metadata": {
        "id": "ckgRQz5Qs2zc"
      }
    },
    {
      "cell_type": "code",
      "source": [
        "params = {\n",
        "    'objective': 'binary',\n",
        "    'metric': 'binary_logloss',\n",
        "    'boosting_type': 'gbdt',\n",
        "    'max_depth' : 3,\n",
        "    'learning_rate': 0.1,\n",
        "}\n",
        "\n",
        "# LightGBM 모델 학습\n",
        "model = lgb.LGBMClassifier(**params)\n",
        "model.fit(X_train, y_train)\n",
        "\n",
        "# 테스트 데이터에 대한 예측\n",
        "y_pred = model.predict(X_test)\n",
        "\n",
        "# 정확도 평가\n",
        "accuracy = accuracy_score(y_test, y_pred)\n",
        "print(\"Accuracy:\", accuracy)\n"
      ],
      "metadata": {
        "id": "mTJsVYNqpXXo"
      },
      "execution_count": null,
      "outputs": []
    },
    {
      "cell_type": "markdown",
      "metadata": {
        "id": "8uZF_duWHo7O"
      },
      "source": [
        "## 2. Optuna 활용하기.\n",
        "\n",
        ">Optuna is an automatic hyperparameter optimization software framework, particularly designed for machine learning. It features an imperative, dfine-by-run style user API. Thanks to our define-by-run API, the code written with Optuna enjoys high modularity, and the user of Optuna can dynamically construct the search spaces for the hyperparameters.\n",
        "\n",
        "Optuna를 활용하기 위한 기초요소는 다음과 같습니다.\n",
        "\n",
        "- Objective Function: Objective Function은 최적화하려는 대상 함수입니다. 주어진 하이퍼파라미터 조합에 대해 평가되는 함수로, 일반적으로 모델의 학습과 검증을 수행하여 최적화 목표를 제공합니다. Objective Function은 하이퍼파라미터 조합을 받아 해당 조합으로 모델을 학습하고 평가하는 역할을 수행합니다.\n",
        "\n",
        "- Trial: Trial은 단일 최적화 시도를 나타내는 객체입니다. Trial 객체는 하나의 하이퍼파라미터 조합과 해당 조합에 대한 목적 함수의 평가 결과를 저장합니다.\n",
        "\n",
        "- Study: Study는 Optuna에서 전체 최적화 과정을 관리하는 객체로 하이퍼파라미터 조합에 대한 성능 추적과 최적화 알고리즘의 실행을 담당합니다. 하나의 Study 객체는 하나의 최적화 작업을 의미하고 여러 개의 Trial 객체를 생성하여 하이퍼파라미터 조합을 탐색하고 평가합니다.\n",
        "\n",
        "- Trial Suggest: Trial Suggest는 하이퍼파라미터 값을 추천하는 메서드를 제공하는 객체입니다. suggest_uniform, suggest_categorical, suggest_loguniform 등의 메서드를 사용하여 연속형, 범주형, 로그 스케일 등의 하이퍼파라미터 값을 추천할 수 있습니다. Objective Function 내에서 Trial Suggest를 호출하여 추천된 하이퍼파라미터 값을 가져올 수 있습니다."
      ]
    },
    {
      "cell_type": "markdown",
      "metadata": {
        "id": "sjpOsr5hKY43"
      },
      "source": [
        "하이퍼 파라미터 탐색 범위 제안 메서드\n",
        "\n",
        "- suggest_int(name, low, high): 주어진 범위에서 균등 분포로 정수형 하이퍼파라미터 값을 추천합니다.\n",
        "\n",
        "- suggest_categorical(name, choices): 주어진 카테고리 리스트 중 하나의 값을 선택하여 범주형 하이퍼파라미터 값을 추천합니다.\n",
        "\n",
        "- suggest_discrete_uniform(name, low, high, q): 주어진 범위에서 균등 분포로 이산형 하이퍼파라미터 값을 추천합니다.\n",
        "\n",
        "- suggest_uniform(name, low, high): 주어진 범위에서 균등 분포로 실수형 하이퍼파라미터 값을 추천합니다.\n",
        "\n",
        "- suggest_loguniform(name, low, high): 주어진 범위에서 로그 균등 분포로 실수형 하이퍼파라미터 값을 추천합니다.\n"
      ]
    },
    {
      "cell_type": "code",
      "execution_count": null,
      "metadata": {
        "colab": {
          "base_uri": "https://localhost:8080/"
        },
        "id": "b7gVVkz1EjZ_",
        "outputId": "be6b04fd-d5db-43fb-ac56-7c10bc915147"
      },
      "outputs": [
        {
          "name": "stdout",
          "output_type": "stream",
          "text": [
            "Collecting optuna\n",
            "  Downloading optuna-3.2.0-py3-none-any.whl (390 kB)\n",
            "\u001b[2K     \u001b[90m━━━━━━━━━━━━━━━━━━━━━━━━━━━━━━━━━━━━━━━\u001b[0m \u001b[32m390.6/390.6 kB\u001b[0m \u001b[31m8.4 MB/s\u001b[0m eta \u001b[36m0:00:00\u001b[0m\n",
            "\u001b[?25hCollecting alembic>=1.5.0 (from optuna)\n",
            "  Downloading alembic-1.11.1-py3-none-any.whl (224 kB)\n",
            "\u001b[2K     \u001b[90m━━━━━━━━━━━━━━━━━━━━━━━━━━━━━━━━━━━━━━\u001b[0m \u001b[32m224.5/224.5 kB\u001b[0m \u001b[31m11.7 MB/s\u001b[0m eta \u001b[36m0:00:00\u001b[0m\n",
            "\u001b[?25hCollecting cmaes>=0.9.1 (from optuna)\n",
            "  Downloading cmaes-0.9.1-py3-none-any.whl (21 kB)\n",
            "Collecting colorlog (from optuna)\n",
            "  Downloading colorlog-6.7.0-py2.py3-none-any.whl (11 kB)\n",
            "Requirement already satisfied: numpy in /usr/local/lib/python3.10/dist-packages (from optuna) (1.22.4)\n",
            "Requirement already satisfied: packaging>=20.0 in /usr/local/lib/python3.10/dist-packages (from optuna) (23.1)\n",
            "Requirement already satisfied: sqlalchemy>=1.3.0 in /usr/local/lib/python3.10/dist-packages (from optuna) (2.0.16)\n",
            "Requirement already satisfied: tqdm in /usr/local/lib/python3.10/dist-packages (from optuna) (4.65.0)\n",
            "Requirement already satisfied: PyYAML in /usr/local/lib/python3.10/dist-packages (from optuna) (6.0)\n",
            "Collecting Mako (from alembic>=1.5.0->optuna)\n",
            "  Downloading Mako-1.2.4-py3-none-any.whl (78 kB)\n",
            "\u001b[2K     \u001b[90m━━━━━━━━━━━━━━━━━━━━━━━━━━━━━━━━━━━━━━━━\u001b[0m \u001b[32m78.7/78.7 kB\u001b[0m \u001b[31m9.4 MB/s\u001b[0m eta \u001b[36m0:00:00\u001b[0m\n",
            "\u001b[?25hRequirement already satisfied: typing-extensions>=4 in /usr/local/lib/python3.10/dist-packages (from alembic>=1.5.0->optuna) (4.6.3)\n",
            "Requirement already satisfied: greenlet!=0.4.17 in /usr/local/lib/python3.10/dist-packages (from sqlalchemy>=1.3.0->optuna) (2.0.2)\n",
            "Requirement already satisfied: MarkupSafe>=0.9.2 in /usr/local/lib/python3.10/dist-packages (from Mako->alembic>=1.5.0->optuna) (2.1.3)\n",
            "Installing collected packages: Mako, colorlog, cmaes, alembic, optuna\n",
            "Successfully installed Mako-1.2.4 alembic-1.11.1 cmaes-0.9.1 colorlog-6.7.0 optuna-3.2.0\n"
          ]
        }
      ],
      "source": [
        "!pip install optuna"
      ]
    },
    {
      "cell_type": "code",
      "execution_count": null,
      "metadata": {
        "id": "keenhW5fEoGt"
      },
      "outputs": [],
      "source": [
        "# 라이브러리 불러오기\n",
        "import lightgbm as lgb\n",
        "from sklearn.metrics import accuracy_score\n",
        "import optuna"
      ]
    },
    {
      "cell_type": "code",
      "execution_count": null,
      "metadata": {
        "colab": {
          "base_uri": "https://localhost:8080/"
        },
        "id": "mfJReHTHmxKM",
        "outputId": "c4e6125a-54b0-4318-86a0-1cd7c074f476"
      },
      "outputs": [
        {
          "name": "stderr",
          "output_type": "stream",
          "text": [
            "[I 2023-06-30 04:47:05,615] A new study created in memory with name: no-name-c51911cd-1265-44a5-981b-28b0ff9282ad\n",
            "[I 2023-06-30 04:47:05,619] Trial 0 finished with value: 17.285370540281537 and parameters: {'x': 6.157567863581007}. Best is trial 0 with value: 17.285370540281537.\n",
            "[I 2023-06-30 04:47:05,623] Trial 1 finished with value: 0.16402398239781085 and parameters: {'x': 1.5950012563009475}. Best is trial 1 with value: 0.16402398239781085.\n",
            "[I 2023-06-30 04:47:05,629] Trial 2 finished with value: 0.27196059005492484 and parameters: {'x': 1.4785015915125677}. Best is trial 1 with value: 0.16402398239781085.\n",
            "[I 2023-06-30 04:47:05,632] Trial 3 finished with value: 56.367731093966405 and parameters: {'x': 9.507844637042405}. Best is trial 1 with value: 0.16402398239781085.\n",
            "[I 2023-06-30 04:47:05,634] Trial 4 finished with value: 62.51451994209413 and parameters: {'x': 9.906612418861451}. Best is trial 1 with value: 0.16402398239781085.\n",
            "[I 2023-06-30 04:47:05,636] Trial 5 finished with value: 52.80484790569349 and parameters: {'x': 9.266694427708757}. Best is trial 1 with value: 0.16402398239781085.\n",
            "[I 2023-06-30 04:47:05,642] Trial 6 finished with value: 34.2851140250486 and parameters: {'x': 7.85534918045445}. Best is trial 1 with value: 0.16402398239781085.\n",
            "[I 2023-06-30 04:47:05,645] Trial 7 finished with value: 59.314085458139644 and parameters: {'x': 9.70156383198501}. Best is trial 1 with value: 0.16402398239781085.\n",
            "[I 2023-06-30 04:47:05,647] Trial 8 finished with value: 19.627306384115723 and parameters: {'x': 6.430271592590653}. Best is trial 1 with value: 0.16402398239781085.\n",
            "[I 2023-06-30 04:47:05,656] Trial 9 finished with value: 47.206333119429836 and parameters: {'x': 8.870686510053405}. Best is trial 1 with value: 0.16402398239781085.\n"
          ]
        },
        {
          "name": "stdout",
          "output_type": "stream",
          "text": [
            "{'x': 1.5950012563009475}\n"
          ]
        }
      ],
      "source": [
        "# 기본적인 예제\n",
        "def objective(trial):\n",
        "    x = trial.suggest_float(\"x\", 0, 10)\n",
        "    return (x-2)**2\n",
        "\n",
        "study = optuna.create_study(direction='minimize')\n",
        "study.optimize(objective, n_trials=10)\n",
        "print(study.best_params)"
      ]
    },
    {
      "cell_type": "markdown",
      "metadata": {
        "id": "bz16HP4JoJX7"
      },
      "source": [
        "### Optuna with LightGBM"
      ]
    },
    {
      "cell_type": "code",
      "execution_count": null,
      "metadata": {
        "id": "DmXt1u1cJ3Dn"
      },
      "outputs": [],
      "source": [
        "# 목적 함수 구성.\n",
        "# 목적 함수는 최적화 대상 값을 반환해야합니다. e.g., 점수, 정확도, 로스 등\n",
        "\n",
        "def objective(trial):\n",
        "    # 탐색을 위한 범위 설정\n",
        "    params = {\n",
        "        'objective': 'binary',\n",
        "        'metric': 'binary_logloss',\n",
        "        'boosting_type': trial.suggest_categorical('boosting_type', ['gbdt', 'dart', 'goss']),\n",
        "        'num_leaves': trial.suggest_int('num_leaves', 10, 100),\n",
        "        'max_depth' : trial.suggest_int('max_depth', 1, 10),\n",
        "        'learning_rate': trial.suggest_loguniform('learning_rate', 0.01, 0.1),\n",
        "    }\n",
        "    # 최적화 대상값 반환을 위한 모델 설정\n",
        "    model = lgb.LGBMClassifier(**params)\n",
        "    model.fit(X_train, y_train)\n",
        "    y_pred = model.predict(X_test)\n",
        "    accuracy = accuracy_score(y_test, y_pred)\n",
        "    return accuracy\n"
      ]
    },
    {
      "cell_type": "code",
      "execution_count": null,
      "metadata": {
        "colab": {
          "base_uri": "https://localhost:8080/"
        },
        "id": "yC_gbe0wJ0Jh",
        "outputId": "0685b071-dfe8-4f4c-f036-d813498beb87"
      },
      "outputs": [
        {
          "name": "stderr",
          "output_type": "stream",
          "text": [
            "[I 2023-06-30 04:51:12,341] A new study created in memory with name: no-name-ab69eb14-c55b-4ee4-8e4b-5ea9d1e63e57\n",
            "<ipython-input-52-2069f853cd63>:12: FutureWarning: suggest_loguniform has been deprecated in v3.0.0. This feature will be removed in v6.0.0. See https://github.com/optuna/optuna/releases/tag/v3.0.0. Use suggest_float(..., log=True) instead.\n",
            "  'learning_rate': trial.suggest_loguniform('learning_rate', 0.01, 0.1),\n",
            "[I 2023-06-30 04:51:12,393] Trial 0 finished with value: 0.8461538461538461 and parameters: {'boosting_type': 'gbdt', 'num_leaves': 16, 'max_depth': 10, 'learning_rate': 0.01592759685290768}. Best is trial 0 with value: 0.8461538461538461.\n",
            "<ipython-input-52-2069f853cd63>:12: FutureWarning: suggest_loguniform has been deprecated in v3.0.0. This feature will be removed in v6.0.0. See https://github.com/optuna/optuna/releases/tag/v3.0.0. Use suggest_float(..., log=True) instead.\n",
            "  'learning_rate': trial.suggest_loguniform('learning_rate', 0.01, 0.1),\n",
            "[I 2023-06-30 04:51:12,448] Trial 1 finished with value: 0.8321678321678322 and parameters: {'boosting_type': 'dart', 'num_leaves': 62, 'max_depth': 4, 'learning_rate': 0.05783600957806506}. Best is trial 0 with value: 0.8461538461538461.\n",
            "<ipython-input-52-2069f853cd63>:12: FutureWarning: suggest_loguniform has been deprecated in v3.0.0. This feature will be removed in v6.0.0. See https://github.com/optuna/optuna/releases/tag/v3.0.0. Use suggest_float(..., log=True) instead.\n",
            "  'learning_rate': trial.suggest_loguniform('learning_rate', 0.01, 0.1),\n",
            "[I 2023-06-30 04:51:12,484] Trial 2 finished with value: 0.8391608391608392 and parameters: {'boosting_type': 'gbdt', 'num_leaves': 14, 'max_depth': 7, 'learning_rate': 0.015277938580010069}. Best is trial 0 with value: 0.8461538461538461.\n",
            "<ipython-input-52-2069f853cd63>:12: FutureWarning: suggest_loguniform has been deprecated in v3.0.0. This feature will be removed in v6.0.0. See https://github.com/optuna/optuna/releases/tag/v3.0.0. Use suggest_float(..., log=True) instead.\n",
            "  'learning_rate': trial.suggest_loguniform('learning_rate', 0.01, 0.1),\n",
            "[I 2023-06-30 04:51:12,514] Trial 3 finished with value: 0.8601398601398601 and parameters: {'boosting_type': 'dart', 'num_leaves': 59, 'max_depth': 2, 'learning_rate': 0.06634803505875758}. Best is trial 3 with value: 0.8601398601398601.\n",
            "<ipython-input-52-2069f853cd63>:12: FutureWarning: suggest_loguniform has been deprecated in v3.0.0. This feature will be removed in v6.0.0. See https://github.com/optuna/optuna/releases/tag/v3.0.0. Use suggest_float(..., log=True) instead.\n",
            "  'learning_rate': trial.suggest_loguniform('learning_rate', 0.01, 0.1),\n",
            "[I 2023-06-30 04:51:12,578] Trial 4 finished with value: 0.8391608391608392 and parameters: {'boosting_type': 'dart', 'num_leaves': 60, 'max_depth': 9, 'learning_rate': 0.01912055655914288}. Best is trial 3 with value: 0.8601398601398601.\n",
            "<ipython-input-52-2069f853cd63>:12: FutureWarning: suggest_loguniform has been deprecated in v3.0.0. This feature will be removed in v6.0.0. See https://github.com/optuna/optuna/releases/tag/v3.0.0. Use suggest_float(..., log=True) instead.\n",
            "  'learning_rate': trial.suggest_loguniform('learning_rate', 0.01, 0.1),\n",
            "[I 2023-06-30 04:51:12,643] Trial 5 finished with value: 0.8391608391608392 and parameters: {'boosting_type': 'dart', 'num_leaves': 51, 'max_depth': 7, 'learning_rate': 0.08555824400547477}. Best is trial 3 with value: 0.8601398601398601.\n",
            "<ipython-input-52-2069f853cd63>:12: FutureWarning: suggest_loguniform has been deprecated in v3.0.0. This feature will be removed in v6.0.0. See https://github.com/optuna/optuna/releases/tag/v3.0.0. Use suggest_float(..., log=True) instead.\n",
            "  'learning_rate': trial.suggest_loguniform('learning_rate', 0.01, 0.1),\n",
            "[I 2023-06-30 04:51:12,670] Trial 6 finished with value: 0.8391608391608392 and parameters: {'boosting_type': 'gbdt', 'num_leaves': 69, 'max_depth': 1, 'learning_rate': 0.0923039482054411}. Best is trial 3 with value: 0.8601398601398601.\n",
            "<ipython-input-52-2069f853cd63>:12: FutureWarning: suggest_loguniform has been deprecated in v3.0.0. This feature will be removed in v6.0.0. See https://github.com/optuna/optuna/releases/tag/v3.0.0. Use suggest_float(..., log=True) instead.\n",
            "  'learning_rate': trial.suggest_loguniform('learning_rate', 0.01, 0.1),\n",
            "[I 2023-06-30 04:51:12,759] Trial 7 finished with value: 0.8531468531468531 and parameters: {'boosting_type': 'dart', 'num_leaves': 53, 'max_depth': 9, 'learning_rate': 0.04472140377983376}. Best is trial 3 with value: 0.8601398601398601.\n",
            "<ipython-input-52-2069f853cd63>:12: FutureWarning: suggest_loguniform has been deprecated in v3.0.0. This feature will be removed in v6.0.0. See https://github.com/optuna/optuna/releases/tag/v3.0.0. Use suggest_float(..., log=True) instead.\n",
            "  'learning_rate': trial.suggest_loguniform('learning_rate', 0.01, 0.1),\n",
            "[I 2023-06-30 04:51:12,803] Trial 8 finished with value: 0.8741258741258742 and parameters: {'boosting_type': 'goss', 'num_leaves': 76, 'max_depth': 3, 'learning_rate': 0.09571172110486727}. Best is trial 8 with value: 0.8741258741258742.\n",
            "<ipython-input-52-2069f853cd63>:12: FutureWarning: suggest_loguniform has been deprecated in v3.0.0. This feature will be removed in v6.0.0. See https://github.com/optuna/optuna/releases/tag/v3.0.0. Use suggest_float(..., log=True) instead.\n",
            "  'learning_rate': trial.suggest_loguniform('learning_rate', 0.01, 0.1),\n",
            "[I 2023-06-30 04:51:12,870] Trial 9 finished with value: 0.8321678321678322 and parameters: {'boosting_type': 'gbdt', 'num_leaves': 15, 'max_depth': 5, 'learning_rate': 0.01772146215692324}. Best is trial 8 with value: 0.8741258741258742.\n",
            "<ipython-input-52-2069f853cd63>:12: FutureWarning: suggest_loguniform has been deprecated in v3.0.0. This feature will be removed in v6.0.0. See https://github.com/optuna/optuna/releases/tag/v3.0.0. Use suggest_float(..., log=True) instead.\n",
            "  'learning_rate': trial.suggest_loguniform('learning_rate', 0.01, 0.1),\n",
            "[I 2023-06-30 04:51:12,921] Trial 10 finished with value: 0.8741258741258742 and parameters: {'boosting_type': 'goss', 'num_leaves': 99, 'max_depth': 3, 'learning_rate': 0.03388822684976615}. Best is trial 8 with value: 0.8741258741258742.\n",
            "<ipython-input-52-2069f853cd63>:12: FutureWarning: suggest_loguniform has been deprecated in v3.0.0. This feature will be removed in v6.0.0. See https://github.com/optuna/optuna/releases/tag/v3.0.0. Use suggest_float(..., log=True) instead.\n",
            "  'learning_rate': trial.suggest_loguniform('learning_rate', 0.01, 0.1),\n",
            "[I 2023-06-30 04:51:12,978] Trial 11 finished with value: 0.8671328671328671 and parameters: {'boosting_type': 'goss', 'num_leaves': 97, 'max_depth': 3, 'learning_rate': 0.03231712408819376}. Best is trial 8 with value: 0.8741258741258742.\n",
            "<ipython-input-52-2069f853cd63>:12: FutureWarning: suggest_loguniform has been deprecated in v3.0.0. This feature will be removed in v6.0.0. See https://github.com/optuna/optuna/releases/tag/v3.0.0. Use suggest_float(..., log=True) instead.\n",
            "  'learning_rate': trial.suggest_loguniform('learning_rate', 0.01, 0.1),\n",
            "[I 2023-06-30 04:51:13,036] Trial 12 finished with value: 0.8951048951048951 and parameters: {'boosting_type': 'goss', 'num_leaves': 98, 'max_depth': 3, 'learning_rate': 0.03081361753763389}. Best is trial 12 with value: 0.8951048951048951.\n",
            "<ipython-input-52-2069f853cd63>:12: FutureWarning: suggest_loguniform has been deprecated in v3.0.0. This feature will be removed in v6.0.0. See https://github.com/optuna/optuna/releases/tag/v3.0.0. Use suggest_float(..., log=True) instead.\n",
            "  'learning_rate': trial.suggest_loguniform('learning_rate', 0.01, 0.1),\n",
            "[I 2023-06-30 04:51:13,086] Trial 13 finished with value: 0.8321678321678322 and parameters: {'boosting_type': 'goss', 'num_leaves': 82, 'max_depth': 1, 'learning_rate': 0.023595304164962277}. Best is trial 12 with value: 0.8951048951048951.\n",
            "<ipython-input-52-2069f853cd63>:12: FutureWarning: suggest_loguniform has been deprecated in v3.0.0. This feature will be removed in v6.0.0. See https://github.com/optuna/optuna/releases/tag/v3.0.0. Use suggest_float(..., log=True) instead.\n",
            "  'learning_rate': trial.suggest_loguniform('learning_rate', 0.01, 0.1),\n",
            "[I 2023-06-30 04:51:13,138] Trial 14 finished with value: 0.8741258741258742 and parameters: {'boosting_type': 'goss', 'num_leaves': 80, 'max_depth': 5, 'learning_rate': 0.042881090968566175}. Best is trial 12 with value: 0.8951048951048951.\n",
            "<ipython-input-52-2069f853cd63>:12: FutureWarning: suggest_loguniform has been deprecated in v3.0.0. This feature will be removed in v6.0.0. See https://github.com/optuna/optuna/releases/tag/v3.0.0. Use suggest_float(..., log=True) instead.\n",
            "  'learning_rate': trial.suggest_loguniform('learning_rate', 0.01, 0.1),\n",
            "[I 2023-06-30 04:51:13,206] Trial 15 finished with value: 0.8741258741258742 and parameters: {'boosting_type': 'goss', 'num_leaves': 86, 'max_depth': 3, 'learning_rate': 0.0120348955476005}. Best is trial 12 with value: 0.8951048951048951.\n",
            "<ipython-input-52-2069f853cd63>:12: FutureWarning: suggest_loguniform has been deprecated in v3.0.0. This feature will be removed in v6.0.0. See https://github.com/optuna/optuna/releases/tag/v3.0.0. Use suggest_float(..., log=True) instead.\n",
            "  'learning_rate': trial.suggest_loguniform('learning_rate', 0.01, 0.1),\n",
            "[I 2023-06-30 04:51:13,270] Trial 16 finished with value: 0.8741258741258742 and parameters: {'boosting_type': 'goss', 'num_leaves': 33, 'max_depth': 6, 'learning_rate': 0.09890268926798085}. Best is trial 12 with value: 0.8951048951048951.\n",
            "<ipython-input-52-2069f853cd63>:12: FutureWarning: suggest_loguniform has been deprecated in v3.0.0. This feature will be removed in v6.0.0. See https://github.com/optuna/optuna/releases/tag/v3.0.0. Use suggest_float(..., log=True) instead.\n",
            "  'learning_rate': trial.suggest_loguniform('learning_rate', 0.01, 0.1),\n",
            "[I 2023-06-30 04:51:13,331] Trial 17 finished with value: 0.8881118881118881 and parameters: {'boosting_type': 'goss', 'num_leaves': 90, 'max_depth': 4, 'learning_rate': 0.02454477134574174}. Best is trial 12 with value: 0.8951048951048951.\n",
            "<ipython-input-52-2069f853cd63>:12: FutureWarning: suggest_loguniform has been deprecated in v3.0.0. This feature will be removed in v6.0.0. See https://github.com/optuna/optuna/releases/tag/v3.0.0. Use suggest_float(..., log=True) instead.\n",
            "  'learning_rate': trial.suggest_loguniform('learning_rate', 0.01, 0.1),\n",
            "[I 2023-06-30 04:51:13,390] Trial 18 finished with value: 0.8671328671328671 and parameters: {'boosting_type': 'goss', 'num_leaves': 89, 'max_depth': 4, 'learning_rate': 0.0267462147521817}. Best is trial 12 with value: 0.8951048951048951.\n",
            "<ipython-input-52-2069f853cd63>:12: FutureWarning: suggest_loguniform has been deprecated in v3.0.0. This feature will be removed in v6.0.0. See https://github.com/optuna/optuna/releases/tag/v3.0.0. Use suggest_float(..., log=True) instead.\n",
            "  'learning_rate': trial.suggest_loguniform('learning_rate', 0.01, 0.1),\n",
            "[I 2023-06-30 04:51:13,462] Trial 19 finished with value: 0.8601398601398601 and parameters: {'boosting_type': 'goss', 'num_leaves': 39, 'max_depth': 6, 'learning_rate': 0.02278622292361029}. Best is trial 12 with value: 0.8951048951048951.\n",
            "<ipython-input-52-2069f853cd63>:12: FutureWarning: suggest_loguniform has been deprecated in v3.0.0. This feature will be removed in v6.0.0. See https://github.com/optuna/optuna/releases/tag/v3.0.0. Use suggest_float(..., log=True) instead.\n",
            "  'learning_rate': trial.suggest_loguniform('learning_rate', 0.01, 0.1),\n",
            "[I 2023-06-30 04:51:13,518] Trial 20 finished with value: 0.8391608391608392 and parameters: {'boosting_type': 'goss', 'num_leaves': 93, 'max_depth': 2, 'learning_rate': 0.027906501002333526}. Best is trial 12 with value: 0.8951048951048951.\n",
            "<ipython-input-52-2069f853cd63>:12: FutureWarning: suggest_loguniform has been deprecated in v3.0.0. This feature will be removed in v6.0.0. See https://github.com/optuna/optuna/releases/tag/v3.0.0. Use suggest_float(..., log=True) instead.\n",
            "  'learning_rate': trial.suggest_loguniform('learning_rate', 0.01, 0.1),\n",
            "[I 2023-06-30 04:51:13,584] Trial 21 finished with value: 0.8601398601398601 and parameters: {'boosting_type': 'goss', 'num_leaves': 77, 'max_depth': 4, 'learning_rate': 0.03821374305581599}. Best is trial 12 with value: 0.8951048951048951.\n",
            "<ipython-input-52-2069f853cd63>:12: FutureWarning: suggest_loguniform has been deprecated in v3.0.0. This feature will be removed in v6.0.0. See https://github.com/optuna/optuna/releases/tag/v3.0.0. Use suggest_float(..., log=True) instead.\n",
            "  'learning_rate': trial.suggest_loguniform('learning_rate', 0.01, 0.1),\n",
            "[I 2023-06-30 04:51:13,643] Trial 22 finished with value: 0.8601398601398601 and parameters: {'boosting_type': 'goss', 'num_leaves': 72, 'max_depth': 2, 'learning_rate': 0.05581543764733502}. Best is trial 12 with value: 0.8951048951048951.\n",
            "<ipython-input-52-2069f853cd63>:12: FutureWarning: suggest_loguniform has been deprecated in v3.0.0. This feature will be removed in v6.0.0. See https://github.com/optuna/optuna/releases/tag/v3.0.0. Use suggest_float(..., log=True) instead.\n",
            "  'learning_rate': trial.suggest_loguniform('learning_rate', 0.01, 0.1),\n",
            "[I 2023-06-30 04:51:13,709] Trial 23 finished with value: 0.8671328671328671 and parameters: {'boosting_type': 'goss', 'num_leaves': 100, 'max_depth': 4, 'learning_rate': 0.03044344113337146}. Best is trial 12 with value: 0.8951048951048951.\n",
            "<ipython-input-52-2069f853cd63>:12: FutureWarning: suggest_loguniform has been deprecated in v3.0.0. This feature will be removed in v6.0.0. See https://github.com/optuna/optuna/releases/tag/v3.0.0. Use suggest_float(..., log=True) instead.\n",
            "  'learning_rate': trial.suggest_loguniform('learning_rate', 0.01, 0.1),\n",
            "[I 2023-06-30 04:51:13,766] Trial 24 finished with value: 0.8671328671328671 and parameters: {'boosting_type': 'goss', 'num_leaves': 92, 'max_depth': 3, 'learning_rate': 0.037763707188246315}. Best is trial 12 with value: 0.8951048951048951.\n",
            "<ipython-input-52-2069f853cd63>:12: FutureWarning: suggest_loguniform has been deprecated in v3.0.0. This feature will be removed in v6.0.0. See https://github.com/optuna/optuna/releases/tag/v3.0.0. Use suggest_float(..., log=True) instead.\n",
            "  'learning_rate': trial.suggest_loguniform('learning_rate', 0.01, 0.1),\n",
            "[I 2023-06-30 04:51:13,854] Trial 25 finished with value: 0.8601398601398601 and parameters: {'boosting_type': 'goss', 'num_leaves': 73, 'max_depth': 5, 'learning_rate': 0.024442085626461725}. Best is trial 12 with value: 0.8951048951048951.\n",
            "<ipython-input-52-2069f853cd63>:12: FutureWarning: suggest_loguniform has been deprecated in v3.0.0. This feature will be removed in v6.0.0. See https://github.com/optuna/optuna/releases/tag/v3.0.0. Use suggest_float(..., log=True) instead.\n",
            "  'learning_rate': trial.suggest_loguniform('learning_rate', 0.01, 0.1),\n",
            "[I 2023-06-30 04:51:13,908] Trial 26 finished with value: 0.8181818181818182 and parameters: {'boosting_type': 'goss', 'num_leaves': 83, 'max_depth': 2, 'learning_rate': 0.02107196554104464}. Best is trial 12 with value: 0.8951048951048951.\n",
            "<ipython-input-52-2069f853cd63>:12: FutureWarning: suggest_loguniform has been deprecated in v3.0.0. This feature will be removed in v6.0.0. See https://github.com/optuna/optuna/releases/tag/v3.0.0. Use suggest_float(..., log=True) instead.\n",
            "  'learning_rate': trial.suggest_loguniform('learning_rate', 0.01, 0.1),\n",
            "[I 2023-06-30 04:51:13,954] Trial 27 finished with value: 0.8321678321678322 and parameters: {'boosting_type': 'goss', 'num_leaves': 90, 'max_depth': 1, 'learning_rate': 0.029389354006555055}. Best is trial 12 with value: 0.8951048951048951.\n",
            "<ipython-input-52-2069f853cd63>:12: FutureWarning: suggest_loguniform has been deprecated in v3.0.0. This feature will be removed in v6.0.0. See https://github.com/optuna/optuna/releases/tag/v3.0.0. Use suggest_float(..., log=True) instead.\n",
            "  'learning_rate': trial.suggest_loguniform('learning_rate', 0.01, 0.1),\n",
            "[I 2023-06-30 04:51:14,008] Trial 28 finished with value: 0.8601398601398601 and parameters: {'boosting_type': 'gbdt', 'num_leaves': 65, 'max_depth': 3, 'learning_rate': 0.07700427351646658}. Best is trial 12 with value: 0.8951048951048951.\n",
            "<ipython-input-52-2069f853cd63>:12: FutureWarning: suggest_loguniform has been deprecated in v3.0.0. This feature will be removed in v6.0.0. See https://github.com/optuna/optuna/releases/tag/v3.0.0. Use suggest_float(..., log=True) instead.\n",
            "  'learning_rate': trial.suggest_loguniform('learning_rate', 0.01, 0.1),\n",
            "[I 2023-06-30 04:51:14,063] Trial 29 finished with value: 0.8881118881118881 and parameters: {'boosting_type': 'goss', 'num_leaves': 77, 'max_depth': 4, 'learning_rate': 0.04973420536685046}. Best is trial 12 with value: 0.8951048951048951.\n",
            "<ipython-input-52-2069f853cd63>:12: FutureWarning: suggest_loguniform has been deprecated in v3.0.0. This feature will be removed in v6.0.0. See https://github.com/optuna/optuna/releases/tag/v3.0.0. Use suggest_float(..., log=True) instead.\n",
            "  'learning_rate': trial.suggest_loguniform('learning_rate', 0.01, 0.1),\n",
            "[I 2023-06-30 04:51:14,125] Trial 30 finished with value: 0.8391608391608392 and parameters: {'boosting_type': 'gbdt', 'num_leaves': 24, 'max_depth': 7, 'learning_rate': 0.047829649089637244}. Best is trial 12 with value: 0.8951048951048951.\n",
            "<ipython-input-52-2069f853cd63>:12: FutureWarning: suggest_loguniform has been deprecated in v3.0.0. This feature will be removed in v6.0.0. See https://github.com/optuna/optuna/releases/tag/v3.0.0. Use suggest_float(..., log=True) instead.\n",
            "  'learning_rate': trial.suggest_loguniform('learning_rate', 0.01, 0.1),\n",
            "[I 2023-06-30 04:51:14,191] Trial 31 finished with value: 0.8811188811188811 and parameters: {'boosting_type': 'goss', 'num_leaves': 77, 'max_depth': 4, 'learning_rate': 0.07530784079213768}. Best is trial 12 with value: 0.8951048951048951.\n",
            "<ipython-input-52-2069f853cd63>:12: FutureWarning: suggest_loguniform has been deprecated in v3.0.0. This feature will be removed in v6.0.0. See https://github.com/optuna/optuna/releases/tag/v3.0.0. Use suggest_float(..., log=True) instead.\n",
            "  'learning_rate': trial.suggest_loguniform('learning_rate', 0.01, 0.1),\n",
            "[I 2023-06-30 04:51:14,259] Trial 32 finished with value: 0.8811188811188811 and parameters: {'boosting_type': 'goss', 'num_leaves': 85, 'max_depth': 4, 'learning_rate': 0.05357155688436473}. Best is trial 12 with value: 0.8951048951048951.\n",
            "<ipython-input-52-2069f853cd63>:12: FutureWarning: suggest_loguniform has been deprecated in v3.0.0. This feature will be removed in v6.0.0. See https://github.com/optuna/optuna/releases/tag/v3.0.0. Use suggest_float(..., log=True) instead.\n",
            "  'learning_rate': trial.suggest_loguniform('learning_rate', 0.01, 0.1),\n",
            "[I 2023-06-30 04:51:14,317] Trial 33 finished with value: 0.8811188811188811 and parameters: {'boosting_type': 'goss', 'num_leaves': 95, 'max_depth': 5, 'learning_rate': 0.062223306098801626}. Best is trial 12 with value: 0.8951048951048951.\n",
            "<ipython-input-52-2069f853cd63>:12: FutureWarning: suggest_loguniform has been deprecated in v3.0.0. This feature will be removed in v6.0.0. See https://github.com/optuna/optuna/releases/tag/v3.0.0. Use suggest_float(..., log=True) instead.\n",
            "  'learning_rate': trial.suggest_loguniform('learning_rate', 0.01, 0.1),\n",
            "[I 2023-06-30 04:51:14,377] Trial 34 finished with value: 0.8811188811188811 and parameters: {'boosting_type': 'goss', 'num_leaves': 68, 'max_depth': 6, 'learning_rate': 0.0716358235497356}. Best is trial 12 with value: 0.8951048951048951.\n",
            "<ipython-input-52-2069f853cd63>:12: FutureWarning: suggest_loguniform has been deprecated in v3.0.0. This feature will be removed in v6.0.0. See https://github.com/optuna/optuna/releases/tag/v3.0.0. Use suggest_float(..., log=True) instead.\n",
            "  'learning_rate': trial.suggest_loguniform('learning_rate', 0.01, 0.1),\n",
            "[I 2023-06-30 04:51:14,455] Trial 35 finished with value: 0.8321678321678322 and parameters: {'boosting_type': 'dart', 'num_leaves': 87, 'max_depth': 4, 'learning_rate': 0.06707021014298552}. Best is trial 12 with value: 0.8951048951048951.\n",
            "<ipython-input-52-2069f853cd63>:12: FutureWarning: suggest_loguniform has been deprecated in v3.0.0. This feature will be removed in v6.0.0. See https://github.com/optuna/optuna/releases/tag/v3.0.0. Use suggest_float(..., log=True) instead.\n",
            "  'learning_rate': trial.suggest_loguniform('learning_rate', 0.01, 0.1),\n",
            "[I 2023-06-30 04:51:14,526] Trial 36 finished with value: 0.8811188811188811 and parameters: {'boosting_type': 'goss', 'num_leaves': 48, 'max_depth': 4, 'learning_rate': 0.07805003668870211}. Best is trial 12 with value: 0.8951048951048951.\n",
            "<ipython-input-52-2069f853cd63>:12: FutureWarning: suggest_loguniform has been deprecated in v3.0.0. This feature will be removed in v6.0.0. See https://github.com/optuna/optuna/releases/tag/v3.0.0. Use suggest_float(..., log=True) instead.\n",
            "  'learning_rate': trial.suggest_loguniform('learning_rate', 0.01, 0.1),\n",
            "[I 2023-06-30 04:51:14,607] Trial 37 finished with value: 0.8391608391608392 and parameters: {'boosting_type': 'dart', 'num_leaves': 75, 'max_depth': 5, 'learning_rate': 0.05177772988082583}. Best is trial 12 with value: 0.8951048951048951.\n",
            "<ipython-input-52-2069f853cd63>:12: FutureWarning: suggest_loguniform has been deprecated in v3.0.0. This feature will be removed in v6.0.0. See https://github.com/optuna/optuna/releases/tag/v3.0.0. Use suggest_float(..., log=True) instead.\n",
            "  'learning_rate': trial.suggest_loguniform('learning_rate', 0.01, 0.1),\n",
            "[I 2023-06-30 04:51:14,667] Trial 38 finished with value: 0.8391608391608392 and parameters: {'boosting_type': 'gbdt', 'num_leaves': 58, 'max_depth': 2, 'learning_rate': 0.06226996644241155}. Best is trial 12 with value: 0.8951048951048951.\n",
            "<ipython-input-52-2069f853cd63>:12: FutureWarning: suggest_loguniform has been deprecated in v3.0.0. This feature will be removed in v6.0.0. See https://github.com/optuna/optuna/releases/tag/v3.0.0. Use suggest_float(..., log=True) instead.\n",
            "  'learning_rate': trial.suggest_loguniform('learning_rate', 0.01, 0.1),\n",
            "[I 2023-06-30 04:51:14,759] Trial 39 finished with value: 0.8391608391608392 and parameters: {'boosting_type': 'dart', 'num_leaves': 79, 'max_depth': 10, 'learning_rate': 0.03695995689394742}. Best is trial 12 with value: 0.8951048951048951.\n",
            "<ipython-input-52-2069f853cd63>:12: FutureWarning: suggest_loguniform has been deprecated in v3.0.0. This feature will be removed in v6.0.0. See https://github.com/optuna/optuna/releases/tag/v3.0.0. Use suggest_float(..., log=True) instead.\n",
            "  'learning_rate': trial.suggest_loguniform('learning_rate', 0.01, 0.1),\n",
            "[I 2023-06-30 04:51:14,828] Trial 40 finished with value: 0.8671328671328671 and parameters: {'boosting_type': 'goss', 'num_leaves': 64, 'max_depth': 8, 'learning_rate': 0.048036380140859876}. Best is trial 12 with value: 0.8951048951048951.\n",
            "<ipython-input-52-2069f853cd63>:12: FutureWarning: suggest_loguniform has been deprecated in v3.0.0. This feature will be removed in v6.0.0. See https://github.com/optuna/optuna/releases/tag/v3.0.0. Use suggest_float(..., log=True) instead.\n",
            "  'learning_rate': trial.suggest_loguniform('learning_rate', 0.01, 0.1),\n",
            "[I 2023-06-30 04:51:14,915] Trial 41 finished with value: 0.8741258741258742 and parameters: {'boosting_type': 'goss', 'num_leaves': 83, 'max_depth': 4, 'learning_rate': 0.0420970824035845}. Best is trial 12 with value: 0.8951048951048951.\n",
            "<ipython-input-52-2069f853cd63>:12: FutureWarning: suggest_loguniform has been deprecated in v3.0.0. This feature will be removed in v6.0.0. See https://github.com/optuna/optuna/releases/tag/v3.0.0. Use suggest_float(..., log=True) instead.\n",
            "  'learning_rate': trial.suggest_loguniform('learning_rate', 0.01, 0.1),\n",
            "[I 2023-06-30 04:51:14,969] Trial 42 finished with value: 0.8741258741258742 and parameters: {'boosting_type': 'goss', 'num_leaves': 86, 'max_depth': 3, 'learning_rate': 0.05626356569853766}. Best is trial 12 with value: 0.8951048951048951.\n",
            "<ipython-input-52-2069f853cd63>:12: FutureWarning: suggest_loguniform has been deprecated in v3.0.0. This feature will be removed in v6.0.0. See https://github.com/optuna/optuna/releases/tag/v3.0.0. Use suggest_float(..., log=True) instead.\n",
            "  'learning_rate': trial.suggest_loguniform('learning_rate', 0.01, 0.1),\n",
            "[I 2023-06-30 04:51:15,040] Trial 43 finished with value: 0.8601398601398601 and parameters: {'boosting_type': 'goss', 'num_leaves': 95, 'max_depth': 4, 'learning_rate': 0.08408365527336618}. Best is trial 12 with value: 0.8951048951048951.\n",
            "<ipython-input-52-2069f853cd63>:12: FutureWarning: suggest_loguniform has been deprecated in v3.0.0. This feature will be removed in v6.0.0. See https://github.com/optuna/optuna/releases/tag/v3.0.0. Use suggest_float(..., log=True) instead.\n",
            "  'learning_rate': trial.suggest_loguniform('learning_rate', 0.01, 0.1),\n",
            "[I 2023-06-30 04:51:15,101] Trial 44 finished with value: 0.8741258741258742 and parameters: {'boosting_type': 'goss', 'num_leaves': 69, 'max_depth': 5, 'learning_rate': 0.05152465996004778}. Best is trial 12 with value: 0.8951048951048951.\n",
            "<ipython-input-52-2069f853cd63>:12: FutureWarning: suggest_loguniform has been deprecated in v3.0.0. This feature will be removed in v6.0.0. See https://github.com/optuna/optuna/releases/tag/v3.0.0. Use suggest_float(..., log=True) instead.\n",
            "  'learning_rate': trial.suggest_loguniform('learning_rate', 0.01, 0.1),\n",
            "[I 2023-06-30 04:51:15,162] Trial 45 finished with value: 0.8811188811188811 and parameters: {'boosting_type': 'goss', 'num_leaves': 100, 'max_depth': 3, 'learning_rate': 0.033519072156764286}. Best is trial 12 with value: 0.8951048951048951.\n",
            "<ipython-input-52-2069f853cd63>:12: FutureWarning: suggest_loguniform has been deprecated in v3.0.0. This feature will be removed in v6.0.0. See https://github.com/optuna/optuna/releases/tag/v3.0.0. Use suggest_float(..., log=True) instead.\n",
            "  'learning_rate': trial.suggest_loguniform('learning_rate', 0.01, 0.1),\n",
            "[I 2023-06-30 04:51:15,224] Trial 46 finished with value: 0.8391608391608392 and parameters: {'boosting_type': 'gbdt', 'num_leaves': 91, 'max_depth': 4, 'learning_rate': 0.07000746967646387}. Best is trial 12 with value: 0.8951048951048951.\n",
            "<ipython-input-52-2069f853cd63>:12: FutureWarning: suggest_loguniform has been deprecated in v3.0.0. This feature will be removed in v6.0.0. See https://github.com/optuna/optuna/releases/tag/v3.0.0. Use suggest_float(..., log=True) instead.\n",
            "  'learning_rate': trial.suggest_loguniform('learning_rate', 0.01, 0.1),\n",
            "[I 2023-06-30 04:51:15,276] Trial 47 finished with value: 0.8741258741258742 and parameters: {'boosting_type': 'goss', 'num_leaves': 84, 'max_depth': 2, 'learning_rate': 0.041541800707121136}. Best is trial 12 with value: 0.8951048951048951.\n",
            "<ipython-input-52-2069f853cd63>:12: FutureWarning: suggest_loguniform has been deprecated in v3.0.0. This feature will be removed in v6.0.0. See https://github.com/optuna/optuna/releases/tag/v3.0.0. Use suggest_float(..., log=True) instead.\n",
            "  'learning_rate': trial.suggest_loguniform('learning_rate', 0.01, 0.1),\n",
            "[I 2023-06-30 04:51:15,365] Trial 48 finished with value: 0.8461538461538461 and parameters: {'boosting_type': 'dart', 'num_leaves': 78, 'max_depth': 6, 'learning_rate': 0.06112952211319807}. Best is trial 12 with value: 0.8951048951048951.\n",
            "<ipython-input-52-2069f853cd63>:12: FutureWarning: suggest_loguniform has been deprecated in v3.0.0. This feature will be removed in v6.0.0. See https://github.com/optuna/optuna/releases/tag/v3.0.0. Use suggest_float(..., log=True) instead.\n",
            "  'learning_rate': trial.suggest_loguniform('learning_rate', 0.01, 0.1),\n",
            "[I 2023-06-30 04:51:15,444] Trial 49 finished with value: 0.8811188811188811 and parameters: {'boosting_type': 'goss', 'num_leaves': 97, 'max_depth': 3, 'learning_rate': 0.026818904357290677}. Best is trial 12 with value: 0.8951048951048951.\n"
          ]
        },
        {
          "name": "stdout",
          "output_type": "stream",
          "text": [
            "Best Accuracy: 0.8951048951048951\n",
            "Best Parameters: {'boosting_type': 'goss', 'num_leaves': 98, 'max_depth': 3, 'learning_rate': 0.03081361753763389}\n"
          ]
        }
      ],
      "source": [
        "study = optuna.create_study(direction='maximize')\n",
        "study.optimize(objective, n_trials=50)\n",
        "\n",
        "best_params = study.best_params\n",
        "best_model = lgb.LGBMClassifier(**best_params)\n",
        "best_model.fit(X_train, y_train)\n",
        "y_pred = best_model.predict(X_test)\n",
        "\n",
        "accuracy = accuracy_score(y_test, y_pred)\n",
        "print(\"Best Accuracy:\", accuracy)\n",
        "print(\"Best Parameters:\", best_params)\n"
      ]
    },
    {
      "cell_type": "code",
      "source": [
        "optuna.visualization.plot_param_importances(study)"
      ],
      "metadata": {
        "id": "3WnUQEaXwbpA"
      },
      "execution_count": null,
      "outputs": []
    },
    {
      "cell_type": "markdown",
      "metadata": {
        "id": "5-tDW-tgpGeP"
      },
      "source": [
        "### Optuna with Scikit-learn"
      ]
    },
    {
      "cell_type": "code",
      "execution_count": null,
      "metadata": {
        "colab": {
          "base_uri": "https://localhost:8080/"
        },
        "id": "xaFZKKZOpDnL",
        "outputId": "82553c29-69f3-4af4-bdd3-61f4e005a2f1"
      },
      "outputs": [
        {
          "name": "stderr",
          "output_type": "stream",
          "text": [
            "[I 2023-06-30 04:54:13,022] A new study created in memory with name: no-name-1c8021bb-77f6-4abb-886e-01f5687cabe1\n",
            "[I 2023-06-30 04:54:13,097] Trial 0 finished with value: 0.7482517482517482 and parameters: {'model_type': 'KNeighbors', 'n_neighbors': 3}. Best is trial 0 with value: 0.7482517482517482.\n",
            "[I 2023-06-30 04:54:15,016] Trial 1 finished with value: 0.8321678321678322 and parameters: {'model_type': 'RandomForest', 'n_estimators': 384, 'max_depth': 10}. Best is trial 1 with value: 0.8321678321678322.\n",
            "[I 2023-06-30 04:54:15,034] Trial 2 finished with value: 0.8601398601398601 and parameters: {'model_type': 'DecisionTree', 'max_depth': 3}. Best is trial 2 with value: 0.8601398601398601.\n",
            "<ipython-input-54-ed8baf89b8fa>:30: FutureWarning: suggest_loguniform has been deprecated in v3.0.0. This feature will be removed in v6.0.0. See https://github.com/optuna/optuna/releases/tag/v3.0.0. Use suggest_float(..., log=True) instead.\n",
            "  C = trial.suggest_loguniform('C', 0.1, 10)\n",
            "[I 2023-06-30 04:54:21,323] Trial 3 finished with value: 0.8321678321678322 and parameters: {'model_type': 'SVC', 'C': 2.38421775328623, 'kernel': 'linear'}. Best is trial 2 with value: 0.8601398601398601.\n",
            "[I 2023-06-30 04:54:21,333] Trial 4 finished with value: 0.8461538461538461 and parameters: {'model_type': 'DecisionTree', 'max_depth': 4}. Best is trial 2 with value: 0.8601398601398601.\n",
            "<ipython-input-54-ed8baf89b8fa>:30: FutureWarning: suggest_loguniform has been deprecated in v3.0.0. This feature will be removed in v6.0.0. See https://github.com/optuna/optuna/releases/tag/v3.0.0. Use suggest_float(..., log=True) instead.\n",
            "  C = trial.suggest_loguniform('C', 0.1, 10)\n",
            "[I 2023-06-30 04:54:21,357] Trial 5 finished with value: 0.6923076923076923 and parameters: {'model_type': 'SVC', 'C': 4.146247094176001, 'kernel': 'rbf'}. Best is trial 2 with value: 0.8601398601398601.\n",
            "[I 2023-06-30 04:54:21,370] Trial 6 finished with value: 0.7482517482517482 and parameters: {'model_type': 'KNeighbors', 'n_neighbors': 3}. Best is trial 2 with value: 0.8601398601398601.\n",
            "[I 2023-06-30 04:54:22,225] Trial 7 finished with value: 0.8321678321678322 and parameters: {'model_type': 'RandomForest', 'n_estimators': 472, 'max_depth': 8}. Best is trial 2 with value: 0.8601398601398601.\n",
            "[I 2023-06-30 04:54:22,234] Trial 8 finished with value: 0.8461538461538461 and parameters: {'model_type': 'DecisionTree', 'max_depth': 4}. Best is trial 2 with value: 0.8601398601398601.\n",
            "[I 2023-06-30 04:54:22,250] Trial 9 finished with value: 0.7202797202797203 and parameters: {'model_type': 'KNeighbors', 'n_neighbors': 6}. Best is trial 2 with value: 0.8601398601398601.\n"
          ]
        },
        {
          "name": "stdout",
          "output_type": "stream",
          "text": [
            "Best Parameters: {'model_type': 'DecisionTree', 'max_depth': 3}\n",
            "Best Accuracy: 0.8601398601398601\n"
          ]
        }
      ],
      "source": [
        "from sklearn.neighbors import KNeighborsClassifier\n",
        "from sklearn.tree import DecisionTreeClassifier\n",
        "from sklearn.ensemble import RandomForestClassifier, AdaBoostClassifier\n",
        "from sklearn.svm import SVC\n",
        "\n",
        "# 목적 함수 구성\n",
        "def objective(trial):\n",
        "    # 탐색을 위한 범위 설정\n",
        "    model_type = trial.suggest_categorical('model_type', ['KNeighbors', 'DecisionTree', 'RandomForest', 'AdaBoost', 'SVC'])\n",
        "\n",
        "    if model_type == 'KNeighbors':\n",
        "        n_neighbors = trial.suggest_int('n_neighbors', 3, 10)\n",
        "        model = KNeighborsClassifier(n_neighbors=n_neighbors)\n",
        "\n",
        "    elif model_type == 'DecisionTree':\n",
        "        max_depth = trial.suggest_int('max_depth', 3, 10)\n",
        "        model = DecisionTreeClassifier(max_depth=max_depth)\n",
        "\n",
        "    elif model_type == 'RandomForest':\n",
        "        n_estimators = trial.suggest_int('n_estimators', 100, 1000)\n",
        "        max_depth = trial.suggest_int('max_depth', 3, 10)\n",
        "        model = RandomForestClassifier(n_estimators=n_estimators, max_depth=max_depth)\n",
        "\n",
        "    elif model_type == 'AdaBoost':\n",
        "        n_estimators = trial.suggest_int('n_estimators', 100, 1000)\n",
        "        learning_rate = trial.suggest_loguniform('learning_rate', 0.01, 0.1)\n",
        "        model = AdaBoostClassifier(n_estimators=n_estimators, learning_rate=learning_rate)\n",
        "\n",
        "    elif model_type == 'SVC':\n",
        "        C = trial.suggest_loguniform('C', 0.1, 10)\n",
        "        kernel = trial.suggest_categorical('kernel', ['linear', 'rbf', 'poly'])\n",
        "        model = SVC(C=C, kernel=kernel)\n",
        "\n",
        "    else:\n",
        "        raise ValueError(\"Invalid model type!\")\n",
        "\n",
        "    # 모델 학습 및 예측\n",
        "    model.fit(X_train, y_train)\n",
        "    y_pred = model.predict(X_test)\n",
        "    accuracy = accuracy_score(y_test, y_pred)\n",
        "    return accuracy\n",
        "\n",
        "\n",
        "# Optuna를 사용한 하이퍼파라미터 최적화\n",
        "study = optuna.create_study(direction='maximize')\n",
        "study.optimize(objective, n_trials=10)\n",
        "\n",
        "# 최적의 하이퍼파라미터와 정확도 출력\n",
        "best_params = study.best_params\n",
        "best_accuracy = study.best_value\n",
        "print(\"Best Parameters:\", best_params)\n",
        "print(\"Best Accuracy:\", best_accuracy)\n"
      ]
    }
  ],
  "metadata": {
    "colab": {
      "toc_visible": true,
      "provenance": [],
      "authorship_tag": "ABX9TyNjDVeEycZ/Pd/zejFit/1D",
      "include_colab_link": true
    },
    "kernelspec": {
      "display_name": "Python 3",
      "name": "python3"
    },
    "language_info": {
      "name": "python"
    }
  },
  "nbformat": 4,
  "nbformat_minor": 0
}